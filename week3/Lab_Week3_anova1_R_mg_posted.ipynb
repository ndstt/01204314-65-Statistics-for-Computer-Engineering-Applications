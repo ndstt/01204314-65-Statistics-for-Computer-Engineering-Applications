{
 "cells": [
  {
   "cell_type": "code",
   "execution_count": 1,
   "metadata": {
    "vscode": {
     "languageId": "r"
    }
   },
   "outputs": [],
   "source": [
    "setwd(\"C:\\\\Users\\\\nadda\\\\Desktop\\\\KU\\\\01204314-65-Statistics-for-Computer-Engineering-Applications\\\\week3\")"
   ]
  },
  {
   "cell_type": "code",
   "execution_count": 2,
   "metadata": {
    "vscode": {
     "languageId": "r"
    }
   },
   "outputs": [
    {
     "data": {
      "text/html": [
       "<table class=\"dataframe\">\n",
       "<caption>A data.frame: 22 x 2</caption>\n",
       "<thead>\n",
       "\t<tr><th scope=col>Strength</th><th scope=col>Process</th></tr>\n",
       "\t<tr><th scope=col>&lt;dbl&gt;</th><th scope=col>&lt;int&gt;</th></tr>\n",
       "</thead>\n",
       "<tbody>\n",
       "\t<tr><td>45.5</td><td>1</td></tr>\n",
       "\t<tr><td>45.3</td><td>1</td></tr>\n",
       "\t<tr><td>45.4</td><td>1</td></tr>\n",
       "\t<tr><td>44.4</td><td>1</td></tr>\n",
       "\t<tr><td>44.6</td><td>1</td></tr>\n",
       "\t<tr><td>43.9</td><td>1</td></tr>\n",
       "\t<tr><td>44.6</td><td>1</td></tr>\n",
       "\t<tr><td>44.0</td><td>1</td></tr>\n",
       "\t<tr><td>44.2</td><td>2</td></tr>\n",
       "\t<tr><td>43.9</td><td>2</td></tr>\n",
       "\t<tr><td>44.7</td><td>2</td></tr>\n",
       "\t<tr><td>44.2</td><td>2</td></tr>\n",
       "\t<tr><td>44.0</td><td>2</td></tr>\n",
       "\t<tr><td>43.8</td><td>2</td></tr>\n",
       "\t<tr><td>44.6</td><td>2</td></tr>\n",
       "\t<tr><td>43.1</td><td>2</td></tr>\n",
       "\t<tr><td>46.0</td><td>3</td></tr>\n",
       "\t<tr><td>45.9</td><td>3</td></tr>\n",
       "\t<tr><td>44.8</td><td>3</td></tr>\n",
       "\t<tr><td>46.2</td><td>3</td></tr>\n",
       "\t<tr><td>45.1</td><td>3</td></tr>\n",
       "\t<tr><td>45.5</td><td>3</td></tr>\n",
       "</tbody>\n",
       "</table>\n"
      ],
      "text/latex": [
       "A data.frame: 22 x 2\n",
       "\\begin{tabular}{ll}\n",
       " Strength & Process\\\\\n",
       " <dbl> & <int>\\\\\n",
       "\\hline\n",
       "\t 45.5 & 1\\\\\n",
       "\t 45.3 & 1\\\\\n",
       "\t 45.4 & 1\\\\\n",
       "\t 44.4 & 1\\\\\n",
       "\t 44.6 & 1\\\\\n",
       "\t 43.9 & 1\\\\\n",
       "\t 44.6 & 1\\\\\n",
       "\t 44.0 & 1\\\\\n",
       "\t 44.2 & 2\\\\\n",
       "\t 43.9 & 2\\\\\n",
       "\t 44.7 & 2\\\\\n",
       "\t 44.2 & 2\\\\\n",
       "\t 44.0 & 2\\\\\n",
       "\t 43.8 & 2\\\\\n",
       "\t 44.6 & 2\\\\\n",
       "\t 43.1 & 2\\\\\n",
       "\t 46.0 & 3\\\\\n",
       "\t 45.9 & 3\\\\\n",
       "\t 44.8 & 3\\\\\n",
       "\t 46.2 & 3\\\\\n",
       "\t 45.1 & 3\\\\\n",
       "\t 45.5 & 3\\\\\n",
       "\\end{tabular}\n"
      ],
      "text/markdown": [
       "\n",
       "A data.frame: 22 x 2\n",
       "\n",
       "| Strength &lt;dbl&gt; | Process &lt;int&gt; |\n",
       "|---|---|\n",
       "| 45.5 | 1 |\n",
       "| 45.3 | 1 |\n",
       "| 45.4 | 1 |\n",
       "| 44.4 | 1 |\n",
       "| 44.6 | 1 |\n",
       "| 43.9 | 1 |\n",
       "| 44.6 | 1 |\n",
       "| 44.0 | 1 |\n",
       "| 44.2 | 2 |\n",
       "| 43.9 | 2 |\n",
       "| 44.7 | 2 |\n",
       "| 44.2 | 2 |\n",
       "| 44.0 | 2 |\n",
       "| 43.8 | 2 |\n",
       "| 44.6 | 2 |\n",
       "| 43.1 | 2 |\n",
       "| 46.0 | 3 |\n",
       "| 45.9 | 3 |\n",
       "| 44.8 | 3 |\n",
       "| 46.2 | 3 |\n",
       "| 45.1 | 3 |\n",
       "| 45.5 | 3 |\n",
       "\n"
      ],
      "text/plain": [
       "   Strength Process\n",
       "1  45.5     1      \n",
       "2  45.3     1      \n",
       "3  45.4     1      \n",
       "4  44.4     1      \n",
       "5  44.6     1      \n",
       "6  43.9     1      \n",
       "7  44.6     1      \n",
       "8  44.0     1      \n",
       "9  44.2     2      \n",
       "10 43.9     2      \n",
       "11 44.7     2      \n",
       "12 44.2     2      \n",
       "13 44.0     2      \n",
       "14 43.8     2      \n",
       "15 44.6     2      \n",
       "16 43.1     2      \n",
       "17 46.0     3      \n",
       "18 45.9     3      \n",
       "19 44.8     3      \n",
       "20 46.2     3      \n",
       "21 45.1     3      \n",
       "22 45.5     3      "
      ]
     },
     "metadata": {},
     "output_type": "display_data"
    }
   ],
   "source": [
    "df <- read.csv(\"mg_R.csv\", sep=\",\", header=T, fileEncoding=\"UTF-8-BOM\")\n",
    "df"
   ]
  },
  {
   "cell_type": "code",
   "execution_count": 3,
   "metadata": {
    "vscode": {
     "languageId": "r"
    }
   },
   "outputs": [
    {
     "data": {
      "text/plain": [
       "              Df Sum Sq Mean Sq F value   Pr(>F)    \n",
       "processFactor  2  7.930   3.965   12.56 0.000334 ***\n",
       "Residuals     19  5.996   0.316                     \n",
       "---\n",
       "Signif. codes:  0 '***' 0.001 '**' 0.01 '*' 0.05 '.' 0.1 ' ' 1"
      ]
     },
     "metadata": {},
     "output_type": "display_data"
    }
   ],
   "source": [
    "processFactor <- factor(df$Process)\n",
    "anovaResult <- aov(df$Strength~processFactor, data=df)\n",
    "summary(anovaResult)"
   ]
  },
  {
   "cell_type": "code",
   "execution_count": 4,
   "metadata": {
    "vscode": {
     "languageId": "r"
    }
   },
   "outputs": [
    {
     "data": {
      "text/html": [
       "3.52189326057882"
      ],
      "text/latex": [
       "3.52189326057882"
      ],
      "text/markdown": [
       "3.52189326057882"
      ],
      "text/plain": [
       "[1] 3.521893"
      ]
     },
     "metadata": {},
     "output_type": "display_data"
    }
   ],
   "source": [
    "qf(0.95, 2, 19)"
   ]
  },
  {
   "cell_type": "code",
   "execution_count": 5,
   "metadata": {
    "vscode": {
     "languageId": "r"
    }
   },
   "outputs": [
    {
     "data": {
      "text/html": [
       "6.12620419904077"
      ],
      "text/latex": [
       "6.12620419904077"
      ],
      "text/markdown": [
       "6.12620419904077"
      ],
      "text/plain": [
       "[1] 6.126204"
      ]
     },
     "metadata": {},
     "output_type": "display_data"
    }
   ],
   "source": [
    "qtukey(0.001, nmeans=anovaResult$rank, df=anovaResult$df.residual, lower.tail=F)"
   ]
  },
  {
   "cell_type": "code",
   "execution_count": 10,
   "metadata": {
    "vscode": {
     "languageId": "r"
    }
   },
   "outputs": [
    {
     "data": {
      "image/png": "[encoded data removed]",
      "text/plain": [
       "Plot with title \"95% family-wise confidence level\n",
       "\""
      ]
     },
     "metadata": {
      "image/png": {
       "height": 420,
       "width": 420
      }
     },
     "output_type": "display_data"
    }
   ],
   "source": [
    "tk <- TukeyHSD(anovaResult, conf.level = 0.95)\n",
    "plot(tk)"
   ]
  },
  {
   "cell_type": "code",
   "execution_count": 13,
   "metadata": {
    "vscode": {
     "languageId": "r"
    }
   },
   "outputs": [
    {
     "data": {
      "image/png": "[encoded data removed]",
      "text/plain": [
       "Plot with title \"100% family-wise confidence level\n",
       "\""
      ]
     },
     "metadata": {
      "image/png": {
       "height": 420,
       "width": 420
      }
     },
     "output_type": "display_data"
    }
   ],
   "source": [
    "tk <- TukeyHSD(anovaResult, conf.level = 0.999)\n",
    "plot(tk)"
   ]
  },
  {
   "cell_type": "code",
   "execution_count": 7,
   "metadata": {
    "scrolled": true,
    "vscode": {
     "languageId": "r"
    }
   },
   "outputs": [
    {
     "data": {
      "image/png": "[encoded data removed]",
      "text/plain": [
       "plot without title"
      ]
     },
     "metadata": {
      "image/png": {
       "height": 420,
       "width": 420
      }
     },
     "output_type": "display_data"
    }
   ],
   "source": [
    "boxplot(df$Strength~df$Process, horizontal=T, xlab=\"Strength\", ylab=\"Process\")"
   ]
  }
 ],
 "metadata": {
  "kernelspec": {
   "display_name": "R",
   "language": "R",
   "name": "ir"
  },
  "language_info": {
   "codemirror_mode": "r",
   "file_extension": ".r",
   "mimetype": "text/x-r-source",
   "name": "R",
   "pygments_lexer": "r",
   "version": "4.1.3"
  }
 },
 "nbformat": 4,
 "nbformat_minor": 4
}
