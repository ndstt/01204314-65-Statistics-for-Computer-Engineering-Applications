{
 "cells": [
  {
   "cell_type": "code",
   "execution_count": 70,
   "metadata": {
    "vscode": {
     "languageId": "r"
    }
   },
   "outputs": [
    {
     "data": {
      "text/plain": [
       "'C:\\\\Users\\\\nadda\\\\Desktop\\\\KU\\\\01204314-65-Statistics-for-Computer-Engineering-Applications\\\\week3'"
      ]
     },
     "execution_count": 70,
     "metadata": {},
     "output_type": "execute_result"
    }
   ],
   "source": [
    "import os\n",
    "os.chdir(r'C:\\Users\\nadda\\Desktop\\KU\\01204314-65-Statistics-for-Computer-Engineering-Applications\\week3')\n",
    "os.getcwd()"
   ]
  },
  {
   "cell_type": "code",
   "execution_count": 71,
   "metadata": {
    "vscode": {
     "languageId": "r"
    }
   },
   "outputs": [],
   "source": [
    "import math\n",
    "import numpy as np\n",
    "import pandas as pd\n",
    "import scipy.stats as st\n",
    "import statsmodels.api as sm\n",
    "from statsmodels.formula.api import ols"
   ]
  },
  {
   "cell_type": "markdown",
   "metadata": {},
   "source": [
    "# Categorical Data Analysis"
   ]
  },
  {
   "cell_type": "markdown",
   "metadata": {},
   "source": [
    "## Part 1: Homogeneity Test"
   ]
  },
  {
   "cell_type": "code",
   "execution_count": null,
   "metadata": {
    "vscode": {
     "languageId": "r"
    }
   },
   "outputs": [
    {
     "data": {
      "text/html": [
       "<div>\n",
       "<style scoped>\n",
       "    .dataframe tbody tr th:only-of-type {\n",
       "        vertical-align: middle;\n",
       "    }\n",
       "\n",
       "    .dataframe tbody tr th {\n",
       "        vertical-align: top;\n",
       "    }\n",
       "\n",
       "    .dataframe thead th {\n",
       "        text-align: right;\n",
       "    }\n",
       "</style>\n",
       "<table border=\"1\" class=\"dataframe\">\n",
       "  <thead>\n",
       "    <tr style=\"text-align: right;\">\n",
       "      <th></th>\n",
       "      <th>Work</th>\n",
       "      <th>a</th>\n",
       "      <th>an</th>\n",
       "      <th>this</th>\n",
       "      <th>that</th>\n",
       "      <th>with</th>\n",
       "      <th>without</th>\n",
       "    </tr>\n",
       "  </thead>\n",
       "  <tbody>\n",
       "    <tr>\n",
       "      <th>0</th>\n",
       "      <td>Sense and Sensibility</td>\n",
       "      <td>147</td>\n",
       "      <td>25</td>\n",
       "      <td>32</td>\n",
       "      <td>94</td>\n",
       "      <td>59</td>\n",
       "      <td>18</td>\n",
       "    </tr>\n",
       "    <tr>\n",
       "      <th>1</th>\n",
       "      <td>Emma</td>\n",
       "      <td>186</td>\n",
       "      <td>26</td>\n",
       "      <td>39</td>\n",
       "      <td>105</td>\n",
       "      <td>74</td>\n",
       "      <td>10</td>\n",
       "    </tr>\n",
       "    <tr>\n",
       "      <th>2</th>\n",
       "      <td>Sandition</td>\n",
       "      <td>101</td>\n",
       "      <td>11</td>\n",
       "      <td>15</td>\n",
       "      <td>37</td>\n",
       "      <td>28</td>\n",
       "      <td>10</td>\n",
       "    </tr>\n",
       "  </tbody>\n",
       "</table>\n",
       "</div>"
      ],
      "text/plain": [
       "                    Work    a  an  this  that  with  without\n",
       "0  Sense and Sensibility  147  25    32    94    59       18\n",
       "1                   Emma  186  26    39   105    74       10\n",
       "2              Sandition  101  11    15    37    28       10"
      ]
     },
     "execution_count": 72,
     "metadata": {},
     "output_type": "execute_result"
    }
   ],
   "source": [
    "df1 = pd.read_csv(\"austen.csv\")\n",
    "df1"
   ]
  },
  {
   "cell_type": "code",
   "execution_count": 73,
   "metadata": {
    "vscode": {
     "languageId": "r"
    }
   },
   "outputs": [
    {
     "name": "stdout",
     "output_type": "stream",
     "text": [
      "Test Statistic:    12.271390062065421\n",
      "P Value:            0.267303934383238\n",
      "Significance level: 0.1\n"
     ]
    }
   ],
   "source": [
    "chi_stat, p_value, dof, expected = st.chi2_contingency(df1.iloc[:, 1:])\n",
    "print(f\"Test Statistic:    {chi_stat}\")\n",
    "print(\"P Value:            {:.15f}\".format(p_value))\n",
    "print(\"Significance level: 0.1\")"
   ]
  },
  {
   "cell_type": "markdown",
   "metadata": {},
   "source": [
    "## Part 2: Independence Test"
   ]
  },
  {
   "cell_type": "code",
   "execution_count": null,
   "metadata": {
    "vscode": {
     "languageId": "r"
    }
   },
   "outputs": [
    {
     "data": {
      "text/html": [
       "<div>\n",
       "<style scoped>\n",
       "    .dataframe tbody tr th:only-of-type {\n",
       "        vertical-align: middle;\n",
       "    }\n",
       "\n",
       "    .dataframe tbody tr th {\n",
       "        vertical-align: top;\n",
       "    }\n",
       "\n",
       "    .dataframe thead th {\n",
       "        text-align: right;\n",
       "    }\n",
       "</style>\n",
       "<table border=\"1\" class=\"dataframe\">\n",
       "  <thead>\n",
       "    <tr style=\"text-align: right;\">\n",
       "      <th></th>\n",
       "      <th>Education</th>\n",
       "      <th>Once</th>\n",
       "      <th>MoreThanOnce</th>\n",
       "    </tr>\n",
       "  </thead>\n",
       "  <tbody>\n",
       "    <tr>\n",
       "      <th>0</th>\n",
       "      <td>College</td>\n",
       "      <td>550</td>\n",
       "      <td>61</td>\n",
       "    </tr>\n",
       "    <tr>\n",
       "      <th>1</th>\n",
       "      <td>No college</td>\n",
       "      <td>681</td>\n",
       "      <td>144</td>\n",
       "    </tr>\n",
       "  </tbody>\n",
       "</table>\n",
       "</div>"
      ],
      "text/plain": [
       "    Education  Once  MoreThanOnce\n",
       "0     College   550            61\n",
       "1  No college   681           144"
      ]
     },
     "execution_count": 74,
     "metadata": {},
     "output_type": "execute_result"
    }
   ],
   "source": [
    "df2 = pd.read_csv(\"marriage_and_education.csv\")\n",
    "df2"
   ]
  },
  {
   "cell_type": "code",
   "execution_count": 75,
   "metadata": {
    "vscode": {
     "languageId": "r"
    }
   },
   "outputs": [
    {
     "name": "stdout",
     "output_type": "stream",
     "text": [
      "Test Statistic:    15.405104990912207\n",
      "P Value:            0.000086753607966\n",
      "Significance level: 0.01\n"
     ]
    }
   ],
   "source": [
    "chi_stat, p_value, dof, expected = st.chi2_contingency(df2.iloc[:, 1:])\n",
    "print(f\"Test Statistic:    {chi_stat}\")\n",
    "print(\"P Value:            {:.15f}\".format(p_value))\n",
    "print(\"Significance level: 0.01\")"
   ]
  },
  {
   "cell_type": "markdown",
   "metadata": {},
   "source": [
    "# Analysis of Variance: Single Factor"
   ]
  },
  {
   "cell_type": "markdown",
   "metadata": {},
   "source": [
    "## Part 1: Equal Sample Size"
   ]
  },
  {
   "cell_type": "code",
   "execution_count": 1,
   "metadata": {
    "vscode": {
     "languageId": "r"
    }
   },
   "outputs": [],
   "source": [
    "setwd(\"C:\\\\Users\\\\nadda\\\\Desktop\\\\KU\\\\01204314-65-Statistics-for-Computer-Engineering-Applications\\\\week3\")"
   ]
  },
  {
   "cell_type": "code",
   "execution_count": 4,
   "metadata": {
    "vscode": {
     "languageId": "r"
    }
   },
   "outputs": [
    {
     "data": {
      "text/html": [
       "<table class=\"dataframe\">\n",
       "<caption>A data.frame: 70 x 2</caption>\n",
       "<thead>\n",
       "\t<tr><th scope=col>measurements</th><th scope=col>lab</th></tr>\n",
       "\t<tr><th scope=col>&lt;dbl&gt;</th><th scope=col>&lt;int&gt;</th></tr>\n",
       "</thead>\n",
       "<tbody>\n",
       "\t<tr><td>4.13</td><td>1</td></tr>\n",
       "\t<tr><td>4.07</td><td>1</td></tr>\n",
       "\t<tr><td>4.04</td><td>1</td></tr>\n",
       "\t<tr><td>4.07</td><td>1</td></tr>\n",
       "\t<tr><td>4.05</td><td>1</td></tr>\n",
       "\t<tr><td>4.04</td><td>1</td></tr>\n",
       "\t<tr><td>4.02</td><td>1</td></tr>\n",
       "\t<tr><td>4.06</td><td>1</td></tr>\n",
       "\t<tr><td>4.10</td><td>1</td></tr>\n",
       "\t<tr><td>4.04</td><td>1</td></tr>\n",
       "\t<tr><td>3.86</td><td>2</td></tr>\n",
       "\t<tr><td>3.85</td><td>2</td></tr>\n",
       "\t<tr><td>4.08</td><td>2</td></tr>\n",
       "\t<tr><td>4.11</td><td>2</td></tr>\n",
       "\t<tr><td>4.08</td><td>2</td></tr>\n",
       "\t<tr><td>4.01</td><td>2</td></tr>\n",
       "\t<tr><td>4.02</td><td>2</td></tr>\n",
       "\t<tr><td>4.04</td><td>2</td></tr>\n",
       "\t<tr><td>3.97</td><td>2</td></tr>\n",
       "\t<tr><td>3.95</td><td>2</td></tr>\n",
       "\t<tr><td>4.00</td><td>3</td></tr>\n",
       "\t<tr><td>4.02</td><td>3</td></tr>\n",
       "\t<tr><td>4.01</td><td>3</td></tr>\n",
       "\t<tr><td>4.01</td><td>3</td></tr>\n",
       "\t<tr><td>4.04</td><td>3</td></tr>\n",
       "\t<tr><td>3.99</td><td>3</td></tr>\n",
       "\t<tr><td>4.03</td><td>3</td></tr>\n",
       "\t<tr><td>3.97</td><td>3</td></tr>\n",
       "\t<tr><td>3.98</td><td>3</td></tr>\n",
       "\t<tr><td>3.98</td><td>3</td></tr>\n",
       "\t<tr><td>...</td><td>...</td></tr>\n",
       "\t<tr><td>4.02</td><td>5</td></tr>\n",
       "\t<tr><td>3.95</td><td>5</td></tr>\n",
       "\t<tr><td>4.02</td><td>5</td></tr>\n",
       "\t<tr><td>3.89</td><td>5</td></tr>\n",
       "\t<tr><td>3.91</td><td>5</td></tr>\n",
       "\t<tr><td>4.01</td><td>5</td></tr>\n",
       "\t<tr><td>3.89</td><td>5</td></tr>\n",
       "\t<tr><td>3.89</td><td>5</td></tr>\n",
       "\t<tr><td>3.99</td><td>5</td></tr>\n",
       "\t<tr><td>4.00</td><td>5</td></tr>\n",
       "\t<tr><td>4.02</td><td>6</td></tr>\n",
       "\t<tr><td>3.86</td><td>6</td></tr>\n",
       "\t<tr><td>3.96</td><td>6</td></tr>\n",
       "\t<tr><td>3.97</td><td>6</td></tr>\n",
       "\t<tr><td>4.00</td><td>6</td></tr>\n",
       "\t<tr><td>3.82</td><td>6</td></tr>\n",
       "\t<tr><td>3.98</td><td>6</td></tr>\n",
       "\t<tr><td>3.99</td><td>6</td></tr>\n",
       "\t<tr><td>4.02</td><td>6</td></tr>\n",
       "\t<tr><td>3.93</td><td>6</td></tr>\n",
       "\t<tr><td>4.00</td><td>7</td></tr>\n",
       "\t<tr><td>4.02</td><td>7</td></tr>\n",
       "\t<tr><td>4.03</td><td>7</td></tr>\n",
       "\t<tr><td>4.04</td><td>7</td></tr>\n",
       "\t<tr><td>4.10</td><td>7</td></tr>\n",
       "\t<tr><td>3.81</td><td>7</td></tr>\n",
       "\t<tr><td>3.91</td><td>7</td></tr>\n",
       "\t<tr><td>3.96</td><td>7</td></tr>\n",
       "\t<tr><td>4.05</td><td>7</td></tr>\n",
       "\t<tr><td>4.06</td><td>7</td></tr>\n",
       "</tbody>\n",
       "</table>\n"
      ],
      "text/latex": [
       "A data.frame: 70 x 2\n",
       "\\begin{tabular}{ll}\n",
       " measurements & lab\\\\\n",
       " <dbl> & <int>\\\\\n",
       "\\hline\n",
       "\t 4.13 & 1\\\\\n",
       "\t 4.07 & 1\\\\\n",
       "\t 4.04 & 1\\\\\n",
       "\t 4.07 & 1\\\\\n",
       "\t 4.05 & 1\\\\\n",
       "\t 4.04 & 1\\\\\n",
       "\t 4.02 & 1\\\\\n",
       "\t 4.06 & 1\\\\\n",
       "\t 4.10 & 1\\\\\n",
       "\t 4.04 & 1\\\\\n",
       "\t 3.86 & 2\\\\\n",
       "\t 3.85 & 2\\\\\n",
       "\t 4.08 & 2\\\\\n",
       "\t 4.11 & 2\\\\\n",
       "\t 4.08 & 2\\\\\n",
       "\t 4.01 & 2\\\\\n",
       "\t 4.02 & 2\\\\\n",
       "\t 4.04 & 2\\\\\n",
       "\t 3.97 & 2\\\\\n",
       "\t 3.95 & 2\\\\\n",
       "\t 4.00 & 3\\\\\n",
       "\t 4.02 & 3\\\\\n",
       "\t 4.01 & 3\\\\\n",
       "\t 4.01 & 3\\\\\n",
       "\t 4.04 & 3\\\\\n",
       "\t 3.99 & 3\\\\\n",
       "\t 4.03 & 3\\\\\n",
       "\t 3.97 & 3\\\\\n",
       "\t 3.98 & 3\\\\\n",
       "\t 3.98 & 3\\\\\n",
       "\t ... & ...\\\\\n",
       "\t 4.02 & 5\\\\\n",
       "\t 3.95 & 5\\\\\n",
       "\t 4.02 & 5\\\\\n",
       "\t 3.89 & 5\\\\\n",
       "\t 3.91 & 5\\\\\n",
       "\t 4.01 & 5\\\\\n",
       "\t 3.89 & 5\\\\\n",
       "\t 3.89 & 5\\\\\n",
       "\t 3.99 & 5\\\\\n",
       "\t 4.00 & 5\\\\\n",
       "\t 4.02 & 6\\\\\n",
       "\t 3.86 & 6\\\\\n",
       "\t 3.96 & 6\\\\\n",
       "\t 3.97 & 6\\\\\n",
       "\t 4.00 & 6\\\\\n",
       "\t 3.82 & 6\\\\\n",
       "\t 3.98 & 6\\\\\n",
       "\t 3.99 & 6\\\\\n",
       "\t 4.02 & 6\\\\\n",
       "\t 3.93 & 6\\\\\n",
       "\t 4.00 & 7\\\\\n",
       "\t 4.02 & 7\\\\\n",
       "\t 4.03 & 7\\\\\n",
       "\t 4.04 & 7\\\\\n",
       "\t 4.10 & 7\\\\\n",
       "\t 3.81 & 7\\\\\n",
       "\t 3.91 & 7\\\\\n",
       "\t 3.96 & 7\\\\\n",
       "\t 4.05 & 7\\\\\n",
       "\t 4.06 & 7\\\\\n",
       "\\end{tabular}\n"
      ],
      "text/markdown": [
       "\n",
       "A data.frame: 70 x 2\n",
       "\n",
       "| measurements &lt;dbl&gt; | lab &lt;int&gt; |\n",
       "|---|---|\n",
       "| 4.13 | 1 |\n",
       "| 4.07 | 1 |\n",
       "| 4.04 | 1 |\n",
       "| 4.07 | 1 |\n",
       "| 4.05 | 1 |\n",
       "| 4.04 | 1 |\n",
       "| 4.02 | 1 |\n",
       "| 4.06 | 1 |\n",
       "| 4.10 | 1 |\n",
       "| 4.04 | 1 |\n",
       "| 3.86 | 2 |\n",
       "| 3.85 | 2 |\n",
       "| 4.08 | 2 |\n",
       "| 4.11 | 2 |\n",
       "| 4.08 | 2 |\n",
       "| 4.01 | 2 |\n",
       "| 4.02 | 2 |\n",
       "| 4.04 | 2 |\n",
       "| 3.97 | 2 |\n",
       "| 3.95 | 2 |\n",
       "| 4.00 | 3 |\n",
       "| 4.02 | 3 |\n",
       "| 4.01 | 3 |\n",
       "| 4.01 | 3 |\n",
       "| 4.04 | 3 |\n",
       "| 3.99 | 3 |\n",
       "| 4.03 | 3 |\n",
       "| 3.97 | 3 |\n",
       "| 3.98 | 3 |\n",
       "| 3.98 | 3 |\n",
       "| ... | ... |\n",
       "| 4.02 | 5 |\n",
       "| 3.95 | 5 |\n",
       "| 4.02 | 5 |\n",
       "| 3.89 | 5 |\n",
       "| 3.91 | 5 |\n",
       "| 4.01 | 5 |\n",
       "| 3.89 | 5 |\n",
       "| 3.89 | 5 |\n",
       "| 3.99 | 5 |\n",
       "| 4.00 | 5 |\n",
       "| 4.02 | 6 |\n",
       "| 3.86 | 6 |\n",
       "| 3.96 | 6 |\n",
       "| 3.97 | 6 |\n",
       "| 4.00 | 6 |\n",
       "| 3.82 | 6 |\n",
       "| 3.98 | 6 |\n",
       "| 3.99 | 6 |\n",
       "| 4.02 | 6 |\n",
       "| 3.93 | 6 |\n",
       "| 4.00 | 7 |\n",
       "| 4.02 | 7 |\n",
       "| 4.03 | 7 |\n",
       "| 4.04 | 7 |\n",
       "| 4.10 | 7 |\n",
       "| 3.81 | 7 |\n",
       "| 3.91 | 7 |\n",
       "| 3.96 | 7 |\n",
       "| 4.05 | 7 |\n",
       "| 4.06 | 7 |\n",
       "\n"
      ],
      "text/plain": [
       "    measurements lab\n",
       "1   4.13         1  \n",
       "2   4.07         1  \n",
       "3   4.04         1  \n",
       "4   4.07         1  \n",
       "5   4.05         1  \n",
       "6   4.04         1  \n",
       "7   4.02         1  \n",
       "8   4.06         1  \n",
       "9   4.10         1  \n",
       "10  4.04         1  \n",
       "11  3.86         2  \n",
       "12  3.85         2  \n",
       "13  4.08         2  \n",
       "14  4.11         2  \n",
       "15  4.08         2  \n",
       "16  4.01         2  \n",
       "17  4.02         2  \n",
       "18  4.04         2  \n",
       "19  3.97         2  \n",
       "20  3.95         2  \n",
       "21  4.00         3  \n",
       "22  4.02         3  \n",
       "23  4.01         3  \n",
       "24  4.01         3  \n",
       "25  4.04         3  \n",
       "26  3.99         3  \n",
       "27  4.03         3  \n",
       "28  3.97         3  \n",
       "29  3.98         3  \n",
       "30  3.98         3  \n",
       "... ...          ...\n",
       "41  4.02         5  \n",
       "42  3.95         5  \n",
       "43  4.02         5  \n",
       "44  3.89         5  \n",
       "45  3.91         5  \n",
       "46  4.01         5  \n",
       "47  3.89         5  \n",
       "48  3.89         5  \n",
       "49  3.99         5  \n",
       "50  4.00         5  \n",
       "51  4.02         6  \n",
       "52  3.86         6  \n",
       "53  3.96         6  \n",
       "54  3.97         6  \n",
       "55  4.00         6  \n",
       "56  3.82         6  \n",
       "57  3.98         6  \n",
       "58  3.99         6  \n",
       "59  4.02         6  \n",
       "60  3.93         6  \n",
       "61  4.00         7  \n",
       "62  4.02         7  \n",
       "63  4.03         7  \n",
       "64  4.04         7  \n",
       "65  4.10         7  \n",
       "66  3.81         7  \n",
       "67  3.91         7  \n",
       "68  3.96         7  \n",
       "69  4.05         7  \n",
       "70  4.06         7  "
      ]
     },
     "metadata": {},
     "output_type": "display_data"
    }
   ],
   "source": [
    "df <- read.csv(\"lab_R.csv\", sep=\",\", header=T, fileEncoding=\"UTF-8-BOM\")\n",
    "df"
   ]
  },
  {
   "cell_type": "code",
   "execution_count": 5,
   "metadata": {
    "vscode": {
     "languageId": "r"
    }
   },
   "outputs": [
    {
     "data": {
      "text/plain": [
       "              Df Sum Sq  Mean Sq F value   Pr(>F)    \n",
       "polymerFactor  6 0.1247 0.020790    5.66 9.45e-05 ***\n",
       "Residuals     63 0.2314 0.003673                     \n",
       "---\n",
       "Signif. codes:  0 '***' 0.001 '**' 0.01 '*' 0.05 '.' 0.1 ' ' 1"
      ]
     },
     "metadata": {},
     "output_type": "display_data"
    }
   ],
   "source": [
    "polymerFactor <- factor(df$lab)\n",
    "anovaResult <- aov(df$measurements~polymerFactor, data=df)\n",
    "summary(anovaResult)"
   ]
  },
  {
   "cell_type": "code",
   "execution_count": 6,
   "metadata": {
    "vscode": {
     "languageId": "r"
    }
   },
   "outputs": [
    {
     "data": {
      "text/html": [
       "3.1027667517246"
      ],
      "text/latex": [
       "3.1027667517246"
      ],
      "text/markdown": [
       "3.1027667517246"
      ],
      "text/plain": [
       "[1] 3.102767"
      ]
     },
     "metadata": {},
     "output_type": "display_data"
    }
   ],
   "source": [
    "qf(0.99, 6, 63)"
   ]
  },
  {
   "cell_type": "code",
   "execution_count": 7,
   "metadata": {
    "vscode": {
     "languageId": "r"
    }
   },
   "outputs": [
    {
     "data": {
      "text/html": [
       "5.12066486294273"
      ],
      "text/latex": [
       "5.12066486294273"
      ],
      "text/markdown": [
       "5.12066486294273"
      ],
      "text/plain": [
       "[1] 5.120665"
      ]
     },
     "metadata": {},
     "output_type": "display_data"
    }
   ],
   "source": [
    "qtukey(0.01, nmeans=anovaResult$rank, df=anovaResult$df.residual, lower.tail=F)"
   ]
  },
  {
   "cell_type": "code",
   "execution_count": 8,
   "metadata": {
    "vscode": {
     "languageId": "r"
    }
   },
   "outputs": [
    {
     "data": {
      "image/png": "[encoded data removed]",
      "text/plain": [
       "Plot with title \"99% family-wise confidence level\n",
       "\""
      ]
     },
     "metadata": {
      "image/png": {
       "height": 420,
       "width": 420
      }
     },
     "output_type": "display_data"
    }
   ],
   "source": [
    "tk <- TukeyHSD(anovaResult, conf.level = 0.99)\n",
    "plot(tk)"
   ]
  },
  {
   "cell_type": "markdown",
   "metadata": {},
   "source": [
    "## Part 2: Unequal Sample Size"
   ]
  },
  {
   "cell_type": "code",
   "execution_count": 11,
   "metadata": {
    "vscode": {
     "languageId": "r"
    }
   },
   "outputs": [
    {
     "data": {
      "text/html": [
       "<table class=\"dataframe\">\n",
       "<caption>A data.frame: 22 x 2</caption>\n",
       "<thead>\n",
       "\t<tr><th scope=col>Strength</th><th scope=col>Process</th></tr>\n",
       "\t<tr><th scope=col>&lt;dbl&gt;</th><th scope=col>&lt;int&gt;</th></tr>\n",
       "</thead>\n",
       "<tbody>\n",
       "\t<tr><td>45.5</td><td>1</td></tr>\n",
       "\t<tr><td>45.3</td><td>1</td></tr>\n",
       "\t<tr><td>45.4</td><td>1</td></tr>\n",
       "\t<tr><td>44.4</td><td>1</td></tr>\n",
       "\t<tr><td>44.6</td><td>1</td></tr>\n",
       "\t<tr><td>43.9</td><td>1</td></tr>\n",
       "\t<tr><td>44.6</td><td>1</td></tr>\n",
       "\t<tr><td>44.0</td><td>1</td></tr>\n",
       "\t<tr><td>44.2</td><td>2</td></tr>\n",
       "\t<tr><td>43.9</td><td>2</td></tr>\n",
       "\t<tr><td>44.7</td><td>2</td></tr>\n",
       "\t<tr><td>44.2</td><td>2</td></tr>\n",
       "\t<tr><td>44.0</td><td>2</td></tr>\n",
       "\t<tr><td>43.8</td><td>2</td></tr>\n",
       "\t<tr><td>44.6</td><td>2</td></tr>\n",
       "\t<tr><td>43.1</td><td>2</td></tr>\n",
       "\t<tr><td>46.0</td><td>3</td></tr>\n",
       "\t<tr><td>45.9</td><td>3</td></tr>\n",
       "\t<tr><td>44.8</td><td>3</td></tr>\n",
       "\t<tr><td>46.2</td><td>3</td></tr>\n",
       "\t<tr><td>45.1</td><td>3</td></tr>\n",
       "\t<tr><td>45.5</td><td>3</td></tr>\n",
       "</tbody>\n",
       "</table>\n"
      ],
      "text/latex": [
       "A data.frame: 22 x 2\n",
       "\\begin{tabular}{ll}\n",
       " Strength & Process\\\\\n",
       " <dbl> & <int>\\\\\n",
       "\\hline\n",
       "\t 45.5 & 1\\\\\n",
       "\t 45.3 & 1\\\\\n",
       "\t 45.4 & 1\\\\\n",
       "\t 44.4 & 1\\\\\n",
       "\t 44.6 & 1\\\\\n",
       "\t 43.9 & 1\\\\\n",
       "\t 44.6 & 1\\\\\n",
       "\t 44.0 & 1\\\\\n",
       "\t 44.2 & 2\\\\\n",
       "\t 43.9 & 2\\\\\n",
       "\t 44.7 & 2\\\\\n",
       "\t 44.2 & 2\\\\\n",
       "\t 44.0 & 2\\\\\n",
       "\t 43.8 & 2\\\\\n",
       "\t 44.6 & 2\\\\\n",
       "\t 43.1 & 2\\\\\n",
       "\t 46.0 & 3\\\\\n",
       "\t 45.9 & 3\\\\\n",
       "\t 44.8 & 3\\\\\n",
       "\t 46.2 & 3\\\\\n",
       "\t 45.1 & 3\\\\\n",
       "\t 45.5 & 3\\\\\n",
       "\\end{tabular}\n"
      ],
      "text/markdown": [
       "\n",
       "A data.frame: 22 x 2\n",
       "\n",
       "| Strength &lt;dbl&gt; | Process &lt;int&gt; |\n",
       "|---|---|\n",
       "| 45.5 | 1 |\n",
       "| 45.3 | 1 |\n",
       "| 45.4 | 1 |\n",
       "| 44.4 | 1 |\n",
       "| 44.6 | 1 |\n",
       "| 43.9 | 1 |\n",
       "| 44.6 | 1 |\n",
       "| 44.0 | 1 |\n",
       "| 44.2 | 2 |\n",
       "| 43.9 | 2 |\n",
       "| 44.7 | 2 |\n",
       "| 44.2 | 2 |\n",
       "| 44.0 | 2 |\n",
       "| 43.8 | 2 |\n",
       "| 44.6 | 2 |\n",
       "| 43.1 | 2 |\n",
       "| 46.0 | 3 |\n",
       "| 45.9 | 3 |\n",
       "| 44.8 | 3 |\n",
       "| 46.2 | 3 |\n",
       "| 45.1 | 3 |\n",
       "| 45.5 | 3 |\n",
       "\n"
      ],
      "text/plain": [
       "   Strength Process\n",
       "1  45.5     1      \n",
       "2  45.3     1      \n",
       "3  45.4     1      \n",
       "4  44.4     1      \n",
       "5  44.6     1      \n",
       "6  43.9     1      \n",
       "7  44.6     1      \n",
       "8  44.0     1      \n",
       "9  44.2     2      \n",
       "10 43.9     2      \n",
       "11 44.7     2      \n",
       "12 44.2     2      \n",
       "13 44.0     2      \n",
       "14 43.8     2      \n",
       "15 44.6     2      \n",
       "16 43.1     2      \n",
       "17 46.0     3      \n",
       "18 45.9     3      \n",
       "19 44.8     3      \n",
       "20 46.2     3      \n",
       "21 45.1     3      \n",
       "22 45.5     3      "
      ]
     },
     "metadata": {},
     "output_type": "display_data"
    }
   ],
   "source": [
    "df <- read.csv(\"mg_R.csv\", sep=\",\", header=T, fileEncoding=\"UTF-8-BOM\")\n",
    "df"
   ]
  },
  {
   "cell_type": "code",
   "execution_count": 12,
   "metadata": {
    "vscode": {
     "languageId": "r"
    }
   },
   "outputs": [
    {
     "data": {
      "text/plain": [
       "              Df Sum Sq Mean Sq F value   Pr(>F)    \n",
       "processFactor  2  7.930   3.965   12.56 0.000334 ***\n",
       "Residuals     19  5.996   0.316                     \n",
       "---\n",
       "Signif. codes:  0 '***' 0.001 '**' 0.01 '*' 0.05 '.' 0.1 ' ' 1"
      ]
     },
     "metadata": {},
     "output_type": "display_data"
    }
   ],
   "source": [
    "processFactor <- factor(df$Process)\n",
    "anovaResult <- aov(df$Strength~processFactor, data=df)\n",
    "summary(anovaResult)"
   ]
  },
  {
   "cell_type": "code",
   "execution_count": 13,
   "metadata": {
    "vscode": {
     "languageId": "r"
    }
   },
   "outputs": [
    {
     "data": {
      "text/html": [
       "10.1568117705905"
      ],
      "text/latex": [
       "10.1568117705905"
      ],
      "text/markdown": [
       "10.1568117705905"
      ],
      "text/plain": [
       "[1] 10.15681"
      ]
     },
     "metadata": {},
     "output_type": "display_data"
    }
   ],
   "source": [
    "qf(0.999, 2, 19)"
   ]
  },
  {
   "cell_type": "code",
   "execution_count": 14,
   "metadata": {
    "vscode": {
     "languageId": "r"
    }
   },
   "outputs": [
    {
     "data": {
      "text/html": [
       "6.12620419904077"
      ],
      "text/latex": [
       "6.12620419904077"
      ],
      "text/markdown": [
       "6.12620419904077"
      ],
      "text/plain": [
       "[1] 6.126204"
      ]
     },
     "metadata": {},
     "output_type": "display_data"
    }
   ],
   "source": [
    "qtukey(0.001, nmeans = anovaResult$rank, df = anovaResult$df.residual, lower.tail = F)"
   ]
  },
  {
   "cell_type": "code",
   "execution_count": 25,
   "metadata": {
    "vscode": {
     "languageId": "r"
    }
   },
   "outputs": [
    {
     "data": {
      "image/png": "[encoded data removed]",
      "text/plain": [
       "Plot with title \"100% family-wise confidence level\n",
       "\""
      ]
     },
     "metadata": {
      "image/png": {
       "height": 420,
       "width": 420
      }
     },
     "output_type": "display_data"
    }
   ],
   "source": [
    "tk <- TukeyHSD(anovaResult, conf.level = 0.999)\n",
    "plot(tk)"
   ]
  }
 ],
 "metadata": {
  "kernelspec": {
   "display_name": "R",
   "language": "R",
   "name": "ir"
  },
  "language_info": {
   "codemirror_mode": "r",
   "file_extension": ".r",
   "mimetype": "text/x-r-source",
   "name": "R",
   "pygments_lexer": "r",
   "version": "4.1.3"
  }
 },
 "nbformat": 4,
 "nbformat_minor": 2
}
