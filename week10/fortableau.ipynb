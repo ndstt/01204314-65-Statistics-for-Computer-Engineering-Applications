{
 "cells": [
  {
   "cell_type": "code",
   "execution_count": 1,
   "metadata": {},
   "outputs": [
    {
     "data": {
      "text/plain": [
       "'C:\\\\Users\\\\nadda\\\\Desktop\\\\KU\\\\01204314-65-Statistics-for-Computer-Engineering-Applications\\\\week10'"
      ]
     },
     "execution_count": 1,
     "metadata": {},
     "output_type": "execute_result"
    }
   ],
   "source": [
    "import os\n",
    "path = r'C:\\Users\\nadda\\Desktop\\KU\\01204314-65-Statistics-for-Computer-Engineering-Applications\\week10'\n",
    "data_path = os.path.join(path, \"data\")\n",
    "processed_data_path = os.path.join(path, \"processed_data\")\n",
    "os.chdir(path)\n",
    "os.getcwd()"
   ]
  },
  {
   "cell_type": "code",
   "execution_count": 2,
   "metadata": {},
   "outputs": [],
   "source": [
    "import pandas as pd\n",
    "import numpy as np\n",
    "import matplotlib.pyplot as plt\n",
    "from statsmodels.graphics.tsaplots import plot_acf, plot_pacf\n",
    "import seaborn as sns\n",
    "from pandas.plotting import scatter_matrix\n",
    "from statsmodels.tsa.api import SimpleExpSmoothing"
   ]
  },
  {
   "cell_type": "code",
   "execution_count": 3,
   "metadata": {},
   "outputs": [],
   "source": [
    "df_regions = pd.read_excel(os.path.join(data_path, \"countries_regions.xlsx\"))\n",
    "df_regions.reset_index(inplace=True)\n",
    "df_regions.rename(columns={\"CountryName\": \"Country\"}, inplace=True)\n",
    "\n",
    "df_gdp = pd.read_csv(os.path.join(processed_data_path, \"gdp.csv\"))\n",
    "\n",
    "df_electricity = pd.read_csv(os.path.join(processed_data_path, \"electricity.csv\"))\n",
    "df_internet = pd.read_csv(os.path.join(processed_data_path, \"internet.csv\"))\n",
    "df_hospital = pd.read_csv(os.path.join(processed_data_path, \"hospital.csv\"))\n",
    "\n",
    "df_life_expectancy = pd.read_csv(os.path.join(processed_data_path, \"life_expectancy.csv\"))\n",
    "df_pop_working_age = pd.read_csv(os.path.join(processed_data_path, \"pop_working_age.csv\"))"
   ]
  },
  {
   "cell_type": "code",
   "execution_count": 4,
   "metadata": {},
   "outputs": [],
   "source": [
    "def to_tableau(df,val):\n",
    "    # เลือกเฉพาะประเทศที่อยู่ในทวีปที่สนใจ\n",
    "    region = \"South Asia\"\n",
    "    region_countries = df_regions[df_regions[\"Region\"] == region][\"Country\"].tolist()\n",
    "\n",
    "    # กรองเฉพาะคอลัมน์ GDP\n",
    "    columns_to_keep = [\"Year\"] + [country for country in region_countries if country in df.columns]\n",
    "    df = df[columns_to_keep]\n",
    "    df = df.melt(id_vars=[\"Year\"], var_name=\"Country\", value_name=val)\n",
    "    return df\n",
    "\n",
    "df_hospital = to_tableau(df_hospital,\"Hospital beds (per 1,000 people)\")\n",
    "df_life_expectancy = to_tableau(df_life_expectancy,\"Life expectancy at birth, total (years)\")\n",
    "df_internet = to_tableau(df_internet,\"Fixed broadband subscriptions (per 100 people)\")\n",
    "df_pop_working_age = to_tableau(df_pop_working_age,\"Population ages 15-64 (% of total population)\")\n",
    "df_electricity = to_tableau(df_hospital,\"Electricity Access (%)\")\n",
    "df_gdp = to_tableau(df_hospital,\"GDP (10^10 USD)\")"
   ]
  },
  {
   "cell_type": "code",
   "execution_count": 5,
   "metadata": {},
   "outputs": [
    {
     "data": {
      "text/html": [
       "<div>\n",
       "<style scoped>\n",
       "    .dataframe tbody tr th:only-of-type {\n",
       "        vertical-align: middle;\n",
       "    }\n",
       "\n",
       "    .dataframe tbody tr th {\n",
       "        vertical-align: top;\n",
       "    }\n",
       "\n",
       "    .dataframe thead th {\n",
       "        text-align: right;\n",
       "    }\n",
       "</style>\n",
       "<table border=\"1\" class=\"dataframe\">\n",
       "  <thead>\n",
       "    <tr style=\"text-align: right;\">\n",
       "      <th></th>\n",
       "      <th>Year</th>\n",
       "      <th>Country</th>\n",
       "      <th>Hospital beds (per 1,000 people)</th>\n",
       "    </tr>\n",
       "  </thead>\n",
       "  <tbody>\n",
       "    <tr>\n",
       "      <th>0</th>\n",
       "      <td>2001</td>\n",
       "      <td>Afghanistan</td>\n",
       "      <td>0.39</td>\n",
       "    </tr>\n",
       "    <tr>\n",
       "      <th>1</th>\n",
       "      <td>2002</td>\n",
       "      <td>Afghanistan</td>\n",
       "      <td>0.39</td>\n",
       "    </tr>\n",
       "    <tr>\n",
       "      <th>2</th>\n",
       "      <td>2003</td>\n",
       "      <td>Afghanistan</td>\n",
       "      <td>0.39</td>\n",
       "    </tr>\n",
       "    <tr>\n",
       "      <th>3</th>\n",
       "      <td>2004</td>\n",
       "      <td>Afghanistan</td>\n",
       "      <td>0.39</td>\n",
       "    </tr>\n",
       "    <tr>\n",
       "      <th>4</th>\n",
       "      <td>2005</td>\n",
       "      <td>Afghanistan</td>\n",
       "      <td>0.42</td>\n",
       "    </tr>\n",
       "  </tbody>\n",
       "</table>\n",
       "</div>"
      ],
      "text/plain": [
       "   Year      Country  Hospital beds (per 1,000 people)\n",
       "0  2001  Afghanistan                              0.39\n",
       "1  2002  Afghanistan                              0.39\n",
       "2  2003  Afghanistan                              0.39\n",
       "3  2004  Afghanistan                              0.39\n",
       "4  2005  Afghanistan                              0.42"
      ]
     },
     "execution_count": 5,
     "metadata": {},
     "output_type": "execute_result"
    }
   ],
   "source": [
    "df_hospital.head()"
   ]
  },
  {
   "cell_type": "code",
   "execution_count": 6,
   "metadata": {},
   "outputs": [],
   "source": [
    "df_electricity.to_csv(os.path.join(processed_data_path, \"electricity_tableau.csv\"), index=False)\n",
    "df_internet.to_csv(os.path.join(processed_data_path, \"internet_tableau.csv\"), index=False)\n",
    "df_hospital.to_csv(os.path.join(processed_data_path, \"hospital_tableau.csv\"), index=False)\n",
    "df_gdp.to_csv(os.path.join(processed_data_path, \"gdp.csv\"), index=False)\n",
    "df_pop_working_age.to_csv(os.path.join(processed_data_path, \"pop_working_age_tableau.csv\"), index=False)\n",
    "df_life_expectancy.to_csv(os.path.join(processed_data_path, \"life_expectancy_tableau.csv\"), index=False)"
   ]
  }
 ],
 "metadata": {
  "kernelspec": {
   "display_name": "Python 3",
   "language": "python",
   "name": "python3"
  },
  "language_info": {
   "codemirror_mode": {
    "name": "ipython",
    "version": 3
   },
   "file_extension": ".py",
   "mimetype": "text/x-python",
   "name": "python",
   "nbconvert_exporter": "python",
   "pygments_lexer": "ipython3",
   "version": "3.12.7"
  }
 },
 "nbformat": 4,
 "nbformat_minor": 2
}
