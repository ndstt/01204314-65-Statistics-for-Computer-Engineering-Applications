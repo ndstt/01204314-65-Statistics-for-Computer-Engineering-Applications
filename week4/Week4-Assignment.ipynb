{
 "cells": [
  {
   "cell_type": "code",
   "execution_count": 1,
   "metadata": {
    "vscode": {
     "languageId": "r"
    }
   },
   "outputs": [],
   "source": [
    "setwd(\"C:\\\\Users\\\\nadda\\\\Desktop\\\\KU\\\\01204314-65-Statistics-for-Computer-Engineering-Applications\\\\week4\")"
   ]
  },
  {
   "cell_type": "markdown",
   "metadata": {},
   "source": [
    "### Part 1: Additive Factors"
   ]
  },
  {
   "cell_type": "code",
   "execution_count": 3,
   "metadata": {
    "vscode": {
     "languageId": "r"
    }
   },
   "outputs": [
    {
     "data": {
      "text/html": [
       "<table class=\"dataframe\">\n",
       "<caption>A data.frame: 12 x 3</caption>\n",
       "<thead>\n",
       "\t<tr><th scope=col>Response</th><th scope=col>Coating</th><th scope=col>SoilType</th></tr>\n",
       "\t<tr><th scope=col>&lt;int&gt;</th><th scope=col>&lt;int&gt;</th><th scope=col>&lt;int&gt;</th></tr>\n",
       "</thead>\n",
       "<tbody>\n",
       "\t<tr><td>64</td><td>1</td><td>1</td></tr>\n",
       "\t<tr><td>53</td><td>2</td><td>1</td></tr>\n",
       "\t<tr><td>47</td><td>3</td><td>1</td></tr>\n",
       "\t<tr><td>51</td><td>4</td><td>1</td></tr>\n",
       "\t<tr><td>49</td><td>1</td><td>2</td></tr>\n",
       "\t<tr><td>51</td><td>2</td><td>2</td></tr>\n",
       "\t<tr><td>45</td><td>3</td><td>2</td></tr>\n",
       "\t<tr><td>43</td><td>4</td><td>2</td></tr>\n",
       "\t<tr><td>50</td><td>1</td><td>3</td></tr>\n",
       "\t<tr><td>48</td><td>2</td><td>3</td></tr>\n",
       "\t<tr><td>50</td><td>3</td><td>3</td></tr>\n",
       "\t<tr><td>52</td><td>4</td><td>3</td></tr>\n",
       "</tbody>\n",
       "</table>\n"
      ],
      "text/latex": [
       "A data.frame: 12 x 3\n",
       "\\begin{tabular}{lll}\n",
       " Response & Coating & SoilType\\\\\n",
       " <int> & <int> & <int>\\\\\n",
       "\\hline\n",
       "\t 64 & 1 & 1\\\\\n",
       "\t 53 & 2 & 1\\\\\n",
       "\t 47 & 3 & 1\\\\\n",
       "\t 51 & 4 & 1\\\\\n",
       "\t 49 & 1 & 2\\\\\n",
       "\t 51 & 2 & 2\\\\\n",
       "\t 45 & 3 & 2\\\\\n",
       "\t 43 & 4 & 2\\\\\n",
       "\t 50 & 1 & 3\\\\\n",
       "\t 48 & 2 & 3\\\\\n",
       "\t 50 & 3 & 3\\\\\n",
       "\t 52 & 4 & 3\\\\\n",
       "\\end{tabular}\n"
      ],
      "text/markdown": [
       "\n",
       "A data.frame: 12 x 3\n",
       "\n",
       "| Response &lt;int&gt; | Coating &lt;int&gt; | SoilType &lt;int&gt; |\n",
       "|---|---|---|\n",
       "| 64 | 1 | 1 |\n",
       "| 53 | 2 | 1 |\n",
       "| 47 | 3 | 1 |\n",
       "| 51 | 4 | 1 |\n",
       "| 49 | 1 | 2 |\n",
       "| 51 | 2 | 2 |\n",
       "| 45 | 3 | 2 |\n",
       "| 43 | 4 | 2 |\n",
       "| 50 | 1 | 3 |\n",
       "| 48 | 2 | 3 |\n",
       "| 50 | 3 | 3 |\n",
       "| 52 | 4 | 3 |\n",
       "\n"
      ],
      "text/plain": [
       "   Response Coating SoilType\n",
       "1  64       1       1       \n",
       "2  53       2       1       \n",
       "3  47       3       1       \n",
       "4  51       4       1       \n",
       "5  49       1       2       \n",
       "6  51       2       2       \n",
       "7  45       3       2       \n",
       "8  43       4       2       \n",
       "9  50       1       3       \n",
       "10 48       2       3       \n",
       "11 50       3       3       \n",
       "12 52       4       3       "
      ]
     },
     "metadata": {},
     "output_type": "display_data"
    }
   ],
   "source": [
    "df <- read.csv(\"soil_R.csv\", sep=\",\", header=T, fileEncoding=\"UTF-8-BOM\")\n",
    "df"
   ]
  },
  {
   "cell_type": "code",
   "execution_count": 4,
   "metadata": {
    "vscode": {
     "languageId": "r"
    }
   },
   "outputs": [
    {
     "data": {
      "text/plain": [
       "               Df Sum Sq Mean Sq F value Pr(>F)\n",
       "CoatingFactor   3  83.58   27.86   1.357  0.342\n",
       "SoiltypeFactor  2  91.50   45.75   2.229  0.189\n",
       "Residuals       6 123.17   20.53               "
      ]
     },
     "metadata": {},
     "output_type": "display_data"
    }
   ],
   "source": [
    "## factor A: soil type\n",
    "## factor B: coating\n",
    "CoatingFactor <- factor(df$Coating)\n",
    "SoiltypeFactor <- factor(df$SoilType)\n",
    "anovaResult <- aov(df$Response ~ CoatingFactor +  SoiltypeFactor, data=df)\n",
    "summary(anovaResult)"
   ]
  },
  {
   "cell_type": "code",
   "execution_count": 5,
   "metadata": {
    "vscode": {
     "languageId": "r"
    }
   },
   "outputs": [],
   "source": [
    "summary_anova <- summary(anovaResult)\n",
    "dfA <- summary_anova[[1]][['Df']][1]\n",
    "dfB <- summary_anova[[1]][['Df']][2]\n",
    "dfE <- summary_anova[[1]][['Df']][3]\n",
    "alpha <- 0.05"
   ]
  },
  {
   "cell_type": "code",
   "execution_count": 6,
   "metadata": {
    "vscode": {
     "languageId": "r"
    }
   },
   "outputs": [
    {
     "data": {
      "text/html": [
       "4.75706266308941"
      ],
      "text/latex": [
       "4.75706266308941"
      ],
      "text/markdown": [
       "4.75706266308941"
      ],
      "text/plain": [
       "[1] 4.757063"
      ]
     },
     "metadata": {},
     "output_type": "display_data"
    }
   ],
   "source": [
    "qf(1-alpha, dfA, dfE)"
   ]
  },
  {
   "cell_type": "code",
   "execution_count": 7,
   "metadata": {
    "vscode": {
     "languageId": "r"
    }
   },
   "outputs": [
    {
     "data": {
      "text/html": [
       "5.14325284978472"
      ],
      "text/latex": [
       "5.14325284978472"
      ],
      "text/markdown": [
       "5.14325284978472"
      ],
      "text/plain": [
       "[1] 5.143253"
      ]
     },
     "metadata": {},
     "output_type": "display_data"
    }
   ],
   "source": [
    "qf(1-alpha, dfB, dfE)"
   ]
  },
  {
   "cell_type": "code",
   "execution_count": 8,
   "metadata": {
    "vscode": {
     "languageId": "r"
    }
   },
   "outputs": [
    {
     "data": {
      "text/html": [
       "0.342215472446285"
      ],
      "text/latex": [
       "0.342215472446285"
      ],
      "text/markdown": [
       "0.342215472446285"
      ],
      "text/plain": [
       "[1] 0.3422155"
      ]
     },
     "metadata": {},
     "output_type": "display_data"
    }
   ],
   "source": [
    "teststatA <- summary_anova[[1]][['F value']][1]\n",
    "1-pf(teststatA, dfA, dfE)"
   ]
  },
  {
   "cell_type": "code",
   "execution_count": 9,
   "metadata": {
    "vscode": {
     "languageId": "r"
    }
   },
   "outputs": [
    {
     "data": {
      "text/html": [
       "0.18887989216024"
      ],
      "text/latex": [
       "0.18887989216024"
      ],
      "text/markdown": [
       "0.18887989216024"
      ],
      "text/plain": [
       "[1] 0.1888799"
      ]
     },
     "metadata": {},
     "output_type": "display_data"
    }
   ],
   "source": [
    "teststatB <- summary_anova[[1]][['F value']][2]\n",
    "1-pf(teststatB, dfB, dfE)"
   ]
  },
  {
   "cell_type": "code",
   "execution_count": 10,
   "metadata": {
    "vscode": {
     "languageId": "r"
    }
   },
   "outputs": [
    {
     "data": {
      "image/png": "[encoded data removed]",
      "text/plain": [
       "Plot with title \"95% family-wise confidence level\n",
       "\""
      ]
     },
     "metadata": {
      "image/png": {
       "height": 420,
       "width": 420
      }
     },
     "output_type": "display_data"
    }
   ],
   "source": [
    "tk1 <- TukeyHSD(anovaResult, 'CoatingFactor', conf.level = 1-alpha)\n",
    "plot(tk1)"
   ]
  },
  {
   "cell_type": "code",
   "execution_count": 11,
   "metadata": {
    "vscode": {
     "languageId": "r"
    }
   },
   "outputs": [
    {
     "data": {
      "image/png": "[encoded data removed]",
      "text/plain": [
       "Plot with title \"95% family-wise confidence level\n",
       "\""
      ]
     },
     "metadata": {
      "image/png": {
       "height": 420,
       "width": 420
      }
     },
     "output_type": "display_data"
    }
   ],
   "source": [
    "tk2 <- TukeyHSD(anovaResult, 'SoiltypeFactor', conf.level = 1-alpha)\n",
    "plot(tk2)"
   ]
  },
  {
   "cell_type": "markdown",
   "metadata": {},
   "source": [
    "### Part 2: Interactive Factors"
   ]
  },
  {
   "cell_type": "code",
   "execution_count": 12,
   "metadata": {
    "vscode": {
     "languageId": "r"
    }
   },
   "outputs": [
    {
     "data": {
      "text/html": [
       "<table class=\"dataframe\">\n",
       "<caption>A data.frame: 108 x 3</caption>\n",
       "<thead>\n",
       "\t<tr><th scope=col>Response</th><th scope=col>Concentrations</th><th scope=col>Varieties</th></tr>\n",
       "\t<tr><th scope=col>&lt;dbl&gt;</th><th scope=col>&lt;dbl&gt;</th><th scope=col>&lt;int&gt;</th></tr>\n",
       "</thead>\n",
       "<tbody>\n",
       "\t<tr><td>0.71</td><td>10.2</td><td>1</td></tr>\n",
       "\t<tr><td>1.66</td><td>10.2</td><td>1</td></tr>\n",
       "\t<tr><td>2.01</td><td>10.2</td><td>1</td></tr>\n",
       "\t<tr><td>2.16</td><td>10.2</td><td>1</td></tr>\n",
       "\t<tr><td>2.42</td><td>10.2</td><td>1</td></tr>\n",
       "\t<tr><td>2.42</td><td>10.2</td><td>1</td></tr>\n",
       "\t<tr><td>2.56</td><td>10.2</td><td>1</td></tr>\n",
       "\t<tr><td>2.60</td><td>10.2</td><td>1</td></tr>\n",
       "\t<tr><td>3.31</td><td>10.2</td><td>1</td></tr>\n",
       "\t<tr><td>3.64</td><td>10.2</td><td>1</td></tr>\n",
       "\t<tr><td>3.74</td><td>10.2</td><td>1</td></tr>\n",
       "\t<tr><td>3.74</td><td>10.2</td><td>1</td></tr>\n",
       "\t<tr><td>4.39</td><td>10.2</td><td>1</td></tr>\n",
       "\t<tr><td>4.50</td><td>10.2</td><td>1</td></tr>\n",
       "\t<tr><td>5.07</td><td>10.2</td><td>1</td></tr>\n",
       "\t<tr><td>5.26</td><td>10.2</td><td>1</td></tr>\n",
       "\t<tr><td>8.15</td><td>10.2</td><td>1</td></tr>\n",
       "\t<tr><td>8.24</td><td>10.2</td><td>1</td></tr>\n",
       "\t<tr><td>2.20</td><td> 1.2</td><td>1</td></tr>\n",
       "\t<tr><td>2.93</td><td> 1.2</td><td>1</td></tr>\n",
       "\t<tr><td>3.08</td><td> 1.2</td><td>1</td></tr>\n",
       "\t<tr><td>3.49</td><td> 1.2</td><td>1</td></tr>\n",
       "\t<tr><td>4.11</td><td> 1.2</td><td>1</td></tr>\n",
       "\t<tr><td>4.95</td><td> 1.2</td><td>1</td></tr>\n",
       "\t<tr><td>5.16</td><td> 1.2</td><td>1</td></tr>\n",
       "\t<tr><td>5.54</td><td> 1.2</td><td>1</td></tr>\n",
       "\t<tr><td>5.68</td><td> 1.2</td><td>1</td></tr>\n",
       "\t<tr><td>6.25</td><td> 1.2</td><td>1</td></tr>\n",
       "\t<tr><td>7.25</td><td> 1.2</td><td>1</td></tr>\n",
       "\t<tr><td>7.90</td><td> 1.2</td><td>1</td></tr>\n",
       "\t<tr><td>...</td><td>...</td><td>...</td></tr>\n",
       "\t<tr><td> 5.86</td><td>1.2</td><td>2</td></tr>\n",
       "\t<tr><td> 6.28</td><td>1.2</td><td>2</td></tr>\n",
       "\t<tr><td> 6.97</td><td>1.2</td><td>2</td></tr>\n",
       "\t<tr><td> 7.06</td><td>1.2</td><td>2</td></tr>\n",
       "\t<tr><td> 7.78</td><td>1.2</td><td>2</td></tr>\n",
       "\t<tr><td> 9.23</td><td>1.2</td><td>2</td></tr>\n",
       "\t<tr><td> 9.34</td><td>1.2</td><td>2</td></tr>\n",
       "\t<tr><td> 9.91</td><td>1.2</td><td>2</td></tr>\n",
       "\t<tr><td>13.46</td><td>1.2</td><td>2</td></tr>\n",
       "\t<tr><td>18.40</td><td>1.2</td><td>2</td></tr>\n",
       "\t<tr><td>23.89</td><td>1.2</td><td>2</td></tr>\n",
       "\t<tr><td>26.39</td><td>1.2</td><td>2</td></tr>\n",
       "\t<tr><td> 2.71</td><td>0.3</td><td>2</td></tr>\n",
       "\t<tr><td> 5.43</td><td>0.3</td><td>2</td></tr>\n",
       "\t<tr><td> 6.38</td><td>0.3</td><td>2</td></tr>\n",
       "\t<tr><td> 6.38</td><td>0.3</td><td>2</td></tr>\n",
       "\t<tr><td> 8.32</td><td>0.3</td><td>2</td></tr>\n",
       "\t<tr><td> 9.04</td><td>0.3</td><td>2</td></tr>\n",
       "\t<tr><td> 9.56</td><td>0.3</td><td>2</td></tr>\n",
       "\t<tr><td>10.01</td><td>0.3</td><td>2</td></tr>\n",
       "\t<tr><td>10.08</td><td>0.3</td><td>2</td></tr>\n",
       "\t<tr><td>10.62</td><td>0.3</td><td>2</td></tr>\n",
       "\t<tr><td>13.80</td><td>0.3</td><td>2</td></tr>\n",
       "\t<tr><td>15.99</td><td>0.3</td><td>2</td></tr>\n",
       "\t<tr><td>17.90</td><td>0.3</td><td>2</td></tr>\n",
       "\t<tr><td>18.25</td><td>0.3</td><td>2</td></tr>\n",
       "\t<tr><td>19.32</td><td>0.3</td><td>2</td></tr>\n",
       "\t<tr><td>19.87</td><td>0.3</td><td>2</td></tr>\n",
       "\t<tr><td>21.60</td><td>0.3</td><td>2</td></tr>\n",
       "\t<tr><td>22.25</td><td>0.3</td><td>2</td></tr>\n",
       "</tbody>\n",
       "</table>\n"
      ],
      "text/latex": [
       "A data.frame: 108 x 3\n",
       "\\begin{tabular}{lll}\n",
       " Response & Concentrations & Varieties\\\\\n",
       " <dbl> & <dbl> & <int>\\\\\n",
       "\\hline\n",
       "\t 0.71 & 10.2 & 1\\\\\n",
       "\t 1.66 & 10.2 & 1\\\\\n",
       "\t 2.01 & 10.2 & 1\\\\\n",
       "\t 2.16 & 10.2 & 1\\\\\n",
       "\t 2.42 & 10.2 & 1\\\\\n",
       "\t 2.42 & 10.2 & 1\\\\\n",
       "\t 2.56 & 10.2 & 1\\\\\n",
       "\t 2.60 & 10.2 & 1\\\\\n",
       "\t 3.31 & 10.2 & 1\\\\\n",
       "\t 3.64 & 10.2 & 1\\\\\n",
       "\t 3.74 & 10.2 & 1\\\\\n",
       "\t 3.74 & 10.2 & 1\\\\\n",
       "\t 4.39 & 10.2 & 1\\\\\n",
       "\t 4.50 & 10.2 & 1\\\\\n",
       "\t 5.07 & 10.2 & 1\\\\\n",
       "\t 5.26 & 10.2 & 1\\\\\n",
       "\t 8.15 & 10.2 & 1\\\\\n",
       "\t 8.24 & 10.2 & 1\\\\\n",
       "\t 2.20 &  1.2 & 1\\\\\n",
       "\t 2.93 &  1.2 & 1\\\\\n",
       "\t 3.08 &  1.2 & 1\\\\\n",
       "\t 3.49 &  1.2 & 1\\\\\n",
       "\t 4.11 &  1.2 & 1\\\\\n",
       "\t 4.95 &  1.2 & 1\\\\\n",
       "\t 5.16 &  1.2 & 1\\\\\n",
       "\t 5.54 &  1.2 & 1\\\\\n",
       "\t 5.68 &  1.2 & 1\\\\\n",
       "\t 6.25 &  1.2 & 1\\\\\n",
       "\t 7.25 &  1.2 & 1\\\\\n",
       "\t 7.90 &  1.2 & 1\\\\\n",
       "\t ... & ... & ...\\\\\n",
       "\t  5.86 & 1.2 & 2\\\\\n",
       "\t  6.28 & 1.2 & 2\\\\\n",
       "\t  6.97 & 1.2 & 2\\\\\n",
       "\t  7.06 & 1.2 & 2\\\\\n",
       "\t  7.78 & 1.2 & 2\\\\\n",
       "\t  9.23 & 1.2 & 2\\\\\n",
       "\t  9.34 & 1.2 & 2\\\\\n",
       "\t  9.91 & 1.2 & 2\\\\\n",
       "\t 13.46 & 1.2 & 2\\\\\n",
       "\t 18.40 & 1.2 & 2\\\\\n",
       "\t 23.89 & 1.2 & 2\\\\\n",
       "\t 26.39 & 1.2 & 2\\\\\n",
       "\t  2.71 & 0.3 & 2\\\\\n",
       "\t  5.43 & 0.3 & 2\\\\\n",
       "\t  6.38 & 0.3 & 2\\\\\n",
       "\t  6.38 & 0.3 & 2\\\\\n",
       "\t  8.32 & 0.3 & 2\\\\\n",
       "\t  9.04 & 0.3 & 2\\\\\n",
       "\t  9.56 & 0.3 & 2\\\\\n",
       "\t 10.01 & 0.3 & 2\\\\\n",
       "\t 10.08 & 0.3 & 2\\\\\n",
       "\t 10.62 & 0.3 & 2\\\\\n",
       "\t 13.80 & 0.3 & 2\\\\\n",
       "\t 15.99 & 0.3 & 2\\\\\n",
       "\t 17.90 & 0.3 & 2\\\\\n",
       "\t 18.25 & 0.3 & 2\\\\\n",
       "\t 19.32 & 0.3 & 2\\\\\n",
       "\t 19.87 & 0.3 & 2\\\\\n",
       "\t 21.60 & 0.3 & 2\\\\\n",
       "\t 22.25 & 0.3 & 2\\\\\n",
       "\\end{tabular}\n"
      ],
      "text/markdown": [
       "\n",
       "A data.frame: 108 x 3\n",
       "\n",
       "| Response &lt;dbl&gt; | Concentrations &lt;dbl&gt; | Varieties &lt;int&gt; |\n",
       "|---|---|---|\n",
       "| 0.71 | 10.2 | 1 |\n",
       "| 1.66 | 10.2 | 1 |\n",
       "| 2.01 | 10.2 | 1 |\n",
       "| 2.16 | 10.2 | 1 |\n",
       "| 2.42 | 10.2 | 1 |\n",
       "| 2.42 | 10.2 | 1 |\n",
       "| 2.56 | 10.2 | 1 |\n",
       "| 2.60 | 10.2 | 1 |\n",
       "| 3.31 | 10.2 | 1 |\n",
       "| 3.64 | 10.2 | 1 |\n",
       "| 3.74 | 10.2 | 1 |\n",
       "| 3.74 | 10.2 | 1 |\n",
       "| 4.39 | 10.2 | 1 |\n",
       "| 4.50 | 10.2 | 1 |\n",
       "| 5.07 | 10.2 | 1 |\n",
       "| 5.26 | 10.2 | 1 |\n",
       "| 8.15 | 10.2 | 1 |\n",
       "| 8.24 | 10.2 | 1 |\n",
       "| 2.20 |  1.2 | 1 |\n",
       "| 2.93 |  1.2 | 1 |\n",
       "| 3.08 |  1.2 | 1 |\n",
       "| 3.49 |  1.2 | 1 |\n",
       "| 4.11 |  1.2 | 1 |\n",
       "| 4.95 |  1.2 | 1 |\n",
       "| 5.16 |  1.2 | 1 |\n",
       "| 5.54 |  1.2 | 1 |\n",
       "| 5.68 |  1.2 | 1 |\n",
       "| 6.25 |  1.2 | 1 |\n",
       "| 7.25 |  1.2 | 1 |\n",
       "| 7.90 |  1.2 | 1 |\n",
       "| ... | ... | ... |\n",
       "|  5.86 | 1.2 | 2 |\n",
       "|  6.28 | 1.2 | 2 |\n",
       "|  6.97 | 1.2 | 2 |\n",
       "|  7.06 | 1.2 | 2 |\n",
       "|  7.78 | 1.2 | 2 |\n",
       "|  9.23 | 1.2 | 2 |\n",
       "|  9.34 | 1.2 | 2 |\n",
       "|  9.91 | 1.2 | 2 |\n",
       "| 13.46 | 1.2 | 2 |\n",
       "| 18.40 | 1.2 | 2 |\n",
       "| 23.89 | 1.2 | 2 |\n",
       "| 26.39 | 1.2 | 2 |\n",
       "|  2.71 | 0.3 | 2 |\n",
       "|  5.43 | 0.3 | 2 |\n",
       "|  6.38 | 0.3 | 2 |\n",
       "|  6.38 | 0.3 | 2 |\n",
       "|  8.32 | 0.3 | 2 |\n",
       "|  9.04 | 0.3 | 2 |\n",
       "|  9.56 | 0.3 | 2 |\n",
       "| 10.01 | 0.3 | 2 |\n",
       "| 10.08 | 0.3 | 2 |\n",
       "| 10.62 | 0.3 | 2 |\n",
       "| 13.80 | 0.3 | 2 |\n",
       "| 15.99 | 0.3 | 2 |\n",
       "| 17.90 | 0.3 | 2 |\n",
       "| 18.25 | 0.3 | 2 |\n",
       "| 19.32 | 0.3 | 2 |\n",
       "| 19.87 | 0.3 | 2 |\n",
       "| 21.60 | 0.3 | 2 |\n",
       "| 22.25 | 0.3 | 2 |\n",
       "\n"
      ],
      "text/plain": [
       "    Response Concentrations Varieties\n",
       "1   0.71     10.2           1        \n",
       "2   1.66     10.2           1        \n",
       "3   2.01     10.2           1        \n",
       "4   2.16     10.2           1        \n",
       "5   2.42     10.2           1        \n",
       "6   2.42     10.2           1        \n",
       "7   2.56     10.2           1        \n",
       "8   2.60     10.2           1        \n",
       "9   3.31     10.2           1        \n",
       "10  3.64     10.2           1        \n",
       "11  3.74     10.2           1        \n",
       "12  3.74     10.2           1        \n",
       "13  4.39     10.2           1        \n",
       "14  4.50     10.2           1        \n",
       "15  5.07     10.2           1        \n",
       "16  5.26     10.2           1        \n",
       "17  8.15     10.2           1        \n",
       "18  8.24     10.2           1        \n",
       "19  2.20      1.2           1        \n",
       "20  2.93      1.2           1        \n",
       "21  3.08      1.2           1        \n",
       "22  3.49      1.2           1        \n",
       "23  4.11      1.2           1        \n",
       "24  4.95      1.2           1        \n",
       "25  5.16      1.2           1        \n",
       "26  5.54      1.2           1        \n",
       "27  5.68      1.2           1        \n",
       "28  6.25      1.2           1        \n",
       "29  7.25      1.2           1        \n",
       "30  7.90      1.2           1        \n",
       "... ...      ...            ...      \n",
       "79   5.86    1.2            2        \n",
       "80   6.28    1.2            2        \n",
       "81   6.97    1.2            2        \n",
       "82   7.06    1.2            2        \n",
       "83   7.78    1.2            2        \n",
       "84   9.23    1.2            2        \n",
       "85   9.34    1.2            2        \n",
       "86   9.91    1.2            2        \n",
       "87  13.46    1.2            2        \n",
       "88  18.40    1.2            2        \n",
       "89  23.89    1.2            2        \n",
       "90  26.39    1.2            2        \n",
       "91   2.71    0.3            2        \n",
       "92   5.43    0.3            2        \n",
       "93   6.38    0.3            2        \n",
       "94   6.38    0.3            2        \n",
       "95   8.32    0.3            2        \n",
       "96   9.04    0.3            2        \n",
       "97   9.56    0.3            2        \n",
       "98  10.01    0.3            2        \n",
       "99  10.08    0.3            2        \n",
       "100 10.62    0.3            2        \n",
       "101 13.80    0.3            2        \n",
       "102 15.99    0.3            2        \n",
       "103 17.90    0.3            2        \n",
       "104 18.25    0.3            2        \n",
       "105 19.32    0.3            2        \n",
       "106 19.87    0.3            2        \n",
       "107 21.60    0.3            2        \n",
       "108 22.25    0.3            2        "
      ]
     },
     "metadata": {},
     "output_type": "display_data"
    }
   ],
   "source": [
    "df2 <- read.csv(\"iron_R.csv\", sep=\",\", header=T, fileEncoding=\"UTF-8-BOM\")\n",
    "df2"
   ]
  },
  {
   "cell_type": "code",
   "execution_count": 13,
   "metadata": {
    "vscode": {
     "languageId": "r"
    }
   },
   "outputs": [
    {
     "data": {
      "text/plain": [
       "                          Df Sum Sq Mean Sq F value   Pr(>F)    \n",
       "formsFactor                1   62.3    62.3   2.161    0.145    \n",
       "ConcenFactor               2  983.6   491.8  17.073 4.02e-07 ***\n",
       "formsFactor:ConcenFactor   2    8.3     4.1   0.144    0.866    \n",
       "Residuals                102 2938.2    28.8                     \n",
       "---\n",
       "Signif. codes:  0 '***' 0.001 '**' 0.01 '*' 0.05 '.' 0.1 ' ' 1"
      ]
     },
     "metadata": {},
     "output_type": "display_data"
    }
   ],
   "source": [
    "formsFactor <- factor(df2$Varieties)\n",
    "ConcenFactor <- factor(df2$Concentrations)\n",
    "anovaResult <- aov(df2$Response ~ formsFactor * ConcenFactor, data=df2)\n",
    "summary(anovaResult)"
   ]
  },
  {
   "cell_type": "code",
   "execution_count": 14,
   "metadata": {
    "vscode": {
     "languageId": "r"
    }
   },
   "outputs": [
    {
     "data": {
      "image/png": "[encoded data removed]",
      "text/plain": [
       "plot without title"
      ]
     },
     "metadata": {
      "image/png": {
       "height": 420,
       "width": 420
      }
     },
     "output_type": "display_data"
    }
   ],
   "source": [
    "interaction.plot(df2$Concentrations,df2$Varieties,df2$Response)"
   ]
  }
 ],
 "metadata": {
  "kernelspec": {
   "display_name": "R",
   "language": "R",
   "name": "ir"
  },
  "language_info": {
   "codemirror_mode": "r",
   "file_extension": ".r",
   "mimetype": "text/x-r-source",
   "name": "R",
   "pygments_lexer": "r",
   "version": "4.1.3"
  }
 },
 "nbformat": 4,
 "nbformat_minor": 2
}
