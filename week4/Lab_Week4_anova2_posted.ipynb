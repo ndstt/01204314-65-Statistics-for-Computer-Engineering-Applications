{
 "cells": [
  {
   "cell_type": "code",
   "execution_count": null,
   "id": "1582754e-e2d2-487e-b39c-687518c60983",
   "metadata": {},
   "outputs": [],
   "source": [
    "import os\n",
    "os.chdir('???')\n",
    "os.getcwd()"
   ]
  },
  {
   "cell_type": "code",
   "execution_count": null,
   "id": "a5a1cd8d-a3ac-425c-8593-fcb14c1ddbbf",
   "metadata": {},
   "outputs": [],
   "source": [
    "import math\n",
    "import numpy as np\n",
    "import pandas as pd\n",
    "import scipy.stats as st\n",
    "import statsmodels.api as sm\n",
    "from statsmodels.formula.api import ols"
   ]
  },
  {
   "cell_type": "markdown",
   "id": "1eca9bce-c1b4-479e-9cfe-97f973a20f31",
   "metadata": {},
   "source": [
    "## Anova Two Additive Factors : Example"
   ]
  },
  {
   "cell_type": "code",
   "execution_count": null,
   "id": "3ceea6a4-457a-446f-b08e-c1315ce130e4",
   "metadata": {},
   "outputs": [],
   "source": [
    "df = pd.read_csv('pen.csv')\n",
    "df"
   ]
  },
  {
   "cell_type": "code",
   "execution_count": null,
   "id": "105af7ec-60fe-4b99-b45f-3a5465454d47",
   "metadata": {},
   "outputs": [],
   "source": [
    "# Perform two-way additive ANOVA\n",
    "# Note: Factor A = Pen, Factor B = Detergent\n",
    "model = ols('Response ~ C(Pen) + C(Detergent)', data=df).fit()\n",
    "result = sm.stats.anova_lm(model, type=2)\n",
    "print(result)"
   ]
  },
  {
   "cell_type": "code",
   "execution_count": null,
   "id": "3d773a27-a82e-44be-b657-977575cc3b34",
   "metadata": {},
   "outputs": [],
   "source": [
    "alpha = 0.05\n",
    "dfA = result['df']['C(Pen)']\n",
    "dfB = result['df']['C(Detergent)']\n",
    "dfE = result['df']['Residual']"
   ]
  },
  {
   "cell_type": "code",
   "execution_count": null,
   "id": "95979952-b413-4495-a4de-2b820797c479",
   "metadata": {},
   "outputs": [],
   "source": [
    "# Find rejection region threshold for Factor A = Pen\n",
    "st.f.ppf(1-alpha,dfA,dfE)"
   ]
  },
  {
   "cell_type": "code",
   "execution_count": null,
   "id": "1ff75d8d-4f1c-471b-b914-0811e8834392",
   "metadata": {},
   "outputs": [],
   "source": [
    "# Find rejection region threshold for Factor B = Detergent\n",
    "st.f.ppf(1-alpha,dfB,dfE)"
   ]
  },
  {
   "cell_type": "code",
   "execution_count": null,
   "id": "2e54ee4f-2eaa-4a4f-9ac8-899b599474b1",
   "metadata": {},
   "outputs": [],
   "source": [
    "# Find p-value for Factor A = Pen\n",
    "teststatA = result['F']['C(Pen)']\n",
    "1-st.f.cdf(teststatA,dfA,dfE)"
   ]
  },
  {
   "cell_type": "code",
   "execution_count": null,
   "id": "21dfd874-b0b3-471f-937e-db98d988a7eb",
   "metadata": {},
   "outputs": [],
   "source": [
    "# Find p-value for Factor B = Detergent\n",
    "teststatB = result['F']['C(Detergent)']\n",
    "1-st.f.cdf(teststatB,dfB,dfE)"
   ]
  },
  {
   "cell_type": "markdown",
   "id": "7a143768-92b7-4777-b74d-c0cdd0208c47",
   "metadata": {},
   "source": [
    "## Anova Two Interactive Factors : Example"
   ]
  },
  {
   "cell_type": "code",
   "execution_count": null,
   "id": "b6295ec0-921d-4e90-8651-cf85eaa6a671",
   "metadata": {},
   "outputs": [],
   "source": [
    "df2 = pd.read_csv('tomato.csv')\n",
    "df2"
   ]
  },
  {
   "cell_type": "code",
   "execution_count": null,
   "id": "f46a2c02-f60a-4994-9b59-e8b5c7c2dffe",
   "metadata": {},
   "outputs": [],
   "source": [
    "# Perform two-way interactive ANOVA\n",
    "# Note: Factor A = Variety, Factor B = Density\n",
    "model2 = ols('Yield ~ C(Variety) + C(Density) + C(Variety):C(Density)', data=df2).fit()\n",
    "result2 = sm.stats.anova_lm(model2, type=2)\n",
    "print(result2)"
   ]
  },
  {
   "cell_type": "code",
   "execution_count": null,
   "id": "b9619b36-8e30-4ee3-be90-800050d3c6ac",
   "metadata": {},
   "outputs": [],
   "source": [
    "alpha = 0.01\n",
    "dfA = result2['df']['C(Variety)']\n",
    "dfB = result2['df']['C(Density)']\n",
    "dfAB = result2['df']['C(Variety):C(Density)']\n",
    "dfE = result2['df']['Residual']"
   ]
  },
  {
   "cell_type": "code",
   "execution_count": null,
   "id": "d1d55b9c-584a-4402-80d8-2cc3f14a9ab0",
   "metadata": {},
   "outputs": [],
   "source": [
    "# Find rejection region threshold for Factor A x B = Variety x Density\n",
    "st.f.ppf(1-alpha,dfAB,dfE)"
   ]
  },
  {
   "cell_type": "code",
   "execution_count": null,
   "id": "8d264570-0ef5-461f-aaea-3ef0c736da69",
   "metadata": {},
   "outputs": [],
   "source": [
    "# Find rejection region threshold for Factor A = Variety\n",
    "st.f.ppf(1-alpha,dfA,dfE)"
   ]
  },
  {
   "cell_type": "code",
   "execution_count": null,
   "id": "c869168e-c448-42fd-bad6-ff005c5a61cc",
   "metadata": {},
   "outputs": [],
   "source": [
    "# Find rejection region threshold for Factor B = Density\n",
    "st.f.ppf(1-alpha,dfB,dfE)"
   ]
  },
  {
   "cell_type": "code",
   "execution_count": null,
   "id": "67c9a68f-6eae-463e-9bc5-74af2b7ecb09",
   "metadata": {},
   "outputs": [],
   "source": [
    "# Find p-value for Factor A x B = Variety x Density\n",
    "teststatAB = result2['F']['C(Variety):C(Density)']\n",
    "1-st.f.cdf(teststatA,dfA,dfE)"
   ]
  },
  {
   "cell_type": "code",
   "execution_count": null,
   "id": "dd86a172-948b-4bb6-89f3-fff6c70b6267",
   "metadata": {},
   "outputs": [],
   "source": [
    "# Find p-value for Factor A = Variety\n",
    "teststatA = result2['F']['C(Variety)']\n",
    "1-st.f.cdf(teststatA,dfA,dfE)"
   ]
  },
  {
   "cell_type": "code",
   "execution_count": null,
   "id": "179ad8a6-6b94-4f9c-bec8-db5102d6f193",
   "metadata": {},
   "outputs": [],
   "source": [
    "# Find p-value for Factor B = Density\n",
    "teststatB = result2['F']['C(Density)']\n",
    "1-st.f.cdf(teststatA,dfA,dfE)"
   ]
  },
  {
   "cell_type": "code",
   "execution_count": null,
   "id": "01178ebb-f03d-486b-b090-9e864c29cf39",
   "metadata": {},
   "outputs": [],
   "source": []
  }
 ],
 "metadata": {
  "kernelspec": {
   "display_name": "Python 3 (ipykernel)",
   "language": "python",
   "name": "python3"
  },
  "language_info": {
   "codemirror_mode": {
    "name": "ipython",
    "version": 3
   },
   "file_extension": ".py",
   "mimetype": "text/x-python",
   "name": "python",
   "nbconvert_exporter": "python",
   "pygments_lexer": "ipython3",
   "version": "3.12.7"
  }
 },
 "nbformat": 4,
 "nbformat_minor": 5
}
