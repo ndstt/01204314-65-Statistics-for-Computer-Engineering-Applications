{
 "cells": [
  {
   "cell_type": "code",
   "execution_count": 1,
   "id": "4a88d62a-4c39-41c4-bad0-a63d87ed24a7",
   "metadata": {},
   "outputs": [],
   "source": [
    "import numpy as np"
   ]
  },
  {
   "cell_type": "markdown",
   "id": "35857ea1-c7b9-4e7d-a421-3bfd03f78f5b",
   "metadata": {},
   "source": [
    "### Bag of Words Construction"
   ]
  },
  {
   "cell_type": "code",
   "execution_count": 2,
   "id": "8064abe6-f1b0-4891-810b-1cbd97c59666",
   "metadata": {},
   "outputs": [
    {
     "data": {
      "text/plain": [
       "['Hello everyone. How are you doing?  Today is a sunny day.',\n",
       " \"How's everyone doing, today?  It is not sunny today.\"]"
      ]
     },
     "execution_count": 2,
     "metadata": {},
     "output_type": "execute_result"
    }
   ],
   "source": [
    "texts = []\n",
    "texts.append('Hello everyone. How are you doing?  Today is a sunny day.')\n",
    "texts.append(\"How's everyone doing, today?  It is not sunny today.\")\n",
    "texts"
   ]
  },
  {
   "cell_type": "code",
   "execution_count": 3,
   "id": "1db7240e-af08-40fa-9c4c-4168123e7393",
   "metadata": {},
   "outputs": [],
   "source": [
    "# Python code to count frequency\n",
    "def get_word_counts(words):\n",
    "    word_counts = {}\n",
    "    for word in words:\n",
    "        if word in word_counts:\n",
    "            word_counts[word] += 1\n",
    "        else:\n",
    "            word_counts[word] = 1\n",
    "    return word_counts"
   ]
  },
  {
   "cell_type": "code",
   "execution_count": 4,
   "id": "bc565fe5-3ec9-49f4-b6e3-d66aaec31ffe",
   "metadata": {},
   "outputs": [
    {
     "name": "stdout",
     "output_type": "stream",
     "text": [
      "{'sunny', 'It', 'doing', \"'s\", '.', 'How', ',', 'today', '?', 'not', 'is', 'Today', 'Hello', 'are', 'a', 'day', 'everyone', 'you'}\n",
      "[{'Hello': 1, 'everyone': 1, '.': 2, 'How': 1, 'are': 1, 'you': 1, 'doing': 1, '?': 1, 'Today': 1, 'is': 1, 'a': 1, 'sunny': 1, 'day': 1}, {'How': 1, \"'s\": 1, 'everyone': 1, 'doing': 1, ',': 1, 'today': 2, '?': 1, 'It': 1, 'is': 1, 'not': 1, 'sunny': 1, '.': 1}]\n"
     ]
    }
   ],
   "source": [
    "from nltk.tokenize import word_tokenize \n",
    "vocab_set = set()\n",
    "bow = []\n",
    "for text in texts:\n",
    "    tokens = word_tokenize(text)\n",
    "    vocab_set.update(tokens)\n",
    "    bow.append(get_word_counts(tokens))\n",
    "\n",
    "print(vocab_set)\n",
    "print(bow)"
   ]
  },
  {
   "cell_type": "code",
   "execution_count": 5,
   "id": "87a3b417-4bfd-4186-ac03-d2ff06a3ae2b",
   "metadata": {},
   "outputs": [
    {
     "name": "stdout",
     "output_type": "stream",
     "text": [
      "(2, 12)\n",
      "<Compressed Sparse Row sparse matrix of dtype 'int64'\n",
      "\twith 18 stored elements and shape (2, 12)>\n",
      "  Coords\tValues\n",
      "  (0, 4)\t1\n",
      "  (0, 3)\t1\n",
      "  (0, 5)\t1\n",
      "  (0, 0)\t1\n",
      "  (0, 11)\t1\n",
      "  (0, 2)\t1\n",
      "  (0, 10)\t1\n",
      "  (0, 6)\t1\n",
      "  (0, 9)\t1\n",
      "  (0, 1)\t1\n",
      "  (1, 3)\t1\n",
      "  (1, 5)\t1\n",
      "  (1, 2)\t1\n",
      "  (1, 10)\t2\n",
      "  (1, 6)\t1\n",
      "  (1, 9)\t1\n",
      "  (1, 7)\t1\n",
      "  (1, 8)\t1\n",
      "{'hello': 4, 'everyone': 3, 'how': 5, 'are': 0, 'you': 11, 'doing': 2, 'today': 10, 'is': 6, 'sunny': 9, 'day': 1, 'it': 7, 'not': 8}\n",
      "Vocabulary: ['are' 'day' 'doing' 'everyone' 'hello' 'how' 'is' 'it' 'not' 'sunny'\n",
      " 'today' 'you']\n",
      "BoW: [[1 1 1 1 1 1 1 0 0 1 1 1]\n",
      " [0 0 1 1 0 1 1 1 1 1 2 0]]\n"
     ]
    }
   ],
   "source": [
    "# Use CountVectorizer to count frequency\n",
    "from sklearn.feature_extraction.text import CountVectorizer\n",
    "vectorizer = CountVectorizer()\n",
    "\n",
    "vector = vectorizer.fit_transform(texts)\n",
    "print(vector.shape)\n",
    "print(vector)\n",
    "print(vectorizer.vocabulary_)\n",
    "\n",
    "print(\"Vocabulary:\", vectorizer.get_feature_names_out())\n",
    "print(\"BoW:\", vector.toarray())"
   ]
  },
  {
   "cell_type": "code",
   "execution_count": 6,
   "id": "54e1cf0a-3a94-459c-a705-f93a8b015ab1",
   "metadata": {},
   "outputs": [
    {
     "name": "stdout",
     "output_type": "stream",
     "text": [
      "[[0 1 0 1 0 0 1 1 0 0 1 0]]\n"
     ]
    }
   ],
   "source": [
    "# Can add new text to count frequency using the existing CountVectorizer()\n",
    "new_text = ['Rise and shine, everyone!  It is a special day today.']\n",
    "vector = vectorizer.transform(new_text)\n",
    "print(vector.toarray())"
   ]
  },
  {
   "cell_type": "markdown",
   "id": "8b5ed233-b39b-4de2-879a-92ef4e06275b",
   "metadata": {},
   "source": [
    "### Word Embeddings: CBOW"
   ]
  },
  {
   "cell_type": "code",
   "execution_count": 7,
   "id": "98bd2f65-aa1d-47f5-b282-ce6892585fbe",
   "metadata": {},
   "outputs": [],
   "source": [
    "texts = []\n",
    "texts.append('A man lives with two cats and a dog in his apartment.')\n",
    "texts.append('Inside his apartment, there are a bed, a table and four chairs.')\n",
    "texts.append('The man is sleeping on the bed.')\n",
    "texts.append('One cat stands on the table.')\n",
    "texts.append('The other cat sits on one chair.')\n",
    "texts.append('The dog sleeps on the floor.')"
   ]
  },
  {
   "cell_type": "code",
   "execution_count": 8,
   "id": "e54d424d-6664-4e7e-9d95-f80c24f8df9f",
   "metadata": {},
   "outputs": [
    {
     "name": "stdout",
     "output_type": "stream",
     "text": [
      "['A man lives with two cats and a dog in his apartment.', 'Inside his apartment, there are a bed, a table and four chairs.', 'The man is sleeping on the bed.', 'One cat stands on the table.', 'The other cat sits on one chair.', 'The dog sleeps on the floor.']\n"
     ]
    }
   ],
   "source": [
    "print(texts)"
   ]
  },
  {
   "cell_type": "code",
   "execution_count": 9,
   "id": "6c7d8760-d2d8-4160-8562-ea74974f263d",
   "metadata": {},
   "outputs": [],
   "source": [
    "from nltk.corpus import stopwords\n",
    "corpus_stop_words = set(stopwords.words('english'))"
   ]
  },
  {
   "cell_type": "code",
   "execution_count": 10,
   "id": "e5346872-609b-4434-afc7-5aa32b35d2b3",
   "metadata": {},
   "outputs": [
    {
     "data": {
      "text/plain": [
       "[['man', 'life', 'two', 'cat', 'dog', 'apartment'],\n",
       " ['inside', 'apartment', 'bed', 'table', 'four', 'chair'],\n",
       " ['man', 'sleeping', 'bed'],\n",
       " ['one', 'cat', 'stand', 'table'],\n",
       " ['cat', 'sits', 'one', 'chair'],\n",
       " ['dog', 'sleep', 'floor']]"
      ]
     },
     "execution_count": 10,
     "metadata": {},
     "output_type": "execute_result"
    }
   ],
   "source": [
    "# Note that Word2Vec takes nested list of words as first paarameter\n",
    "\n",
    "# Preprocess sentences \n",
    "import re\n",
    "from nltk.tokenize import word_tokenize\n",
    "from nltk.stem import WordNetLemmatizer\n",
    "\n",
    "word_tokens = []\n",
    "lemmatizer = WordNetLemmatizer()\n",
    "for text in texts:\n",
    "    temp_tokens = [word.lower() for word in word_tokenize(text)]\n",
    "    temp_tokens = [re.sub(r'[^\\w\\s]', '', token) for token in temp_tokens if re.sub(r'[^\\w\\s]', '', token)]\n",
    "    temp_tokens = [word for word in temp_tokens if not word.lower() in corpus_stop_words]\n",
    "    temp_tokens = [lemmatizer.lemmatize(word) for word in temp_tokens]\n",
    "    word_tokens.append(temp_tokens)\n",
    "word_tokens"
   ]
  },
  {
   "cell_type": "code",
   "execution_count": 12,
   "id": "a12ea65c-7334-4d89-8407-a97c5f111a42",
   "metadata": {},
   "outputs": [],
   "source": [
    "# Run Word2Vec Using CBOW\n",
    "\n",
    "# Note that Word2Vec takes nested list of words as first paarameter\n",
    "# vector_size (int, optional) – Dimensionality of the word vectors.\n",
    "# window (int, optional) – Maximum distance between the current and predicted word within a sentence.\n",
    "# min_count (int, optional) – Ignores all words with total frequency lower than this.\n",
    "# sg ({0, 1}, optional) – 1 = skip gram, 0 = CBOW\n",
    "from gensim.models import Word2Vec\n",
    "w2v_model = Word2Vec(word_tokens, vector_size=10, window=3, min_count=1)"
   ]
  },
  {
   "cell_type": "code",
   "execution_count": 13,
   "id": "10964956-a215-4d83-a4b3-7ba6a8b1346d",
   "metadata": {},
   "outputs": [
    {
     "data": {
      "text/plain": [
       "['cat',\n",
       " 'table',\n",
       " 'chair',\n",
       " 'dog',\n",
       " 'apartment',\n",
       " 'bed',\n",
       " 'man',\n",
       " 'one',\n",
       " 'four',\n",
       " 'sleep',\n",
       " 'sleeping',\n",
       " 'inside',\n",
       " 'stand',\n",
       " 'sits',\n",
       " 'two',\n",
       " 'life',\n",
       " 'floor']"
      ]
     },
     "execution_count": 13,
     "metadata": {},
     "output_type": "execute_result"
    }
   ],
   "source": [
    "# Get all possible words from Word2Vec model \n",
    "w2v_vocab_list = list(w2v_model.wv.key_to_index.keys())\n",
    "w2v_vocab_list"
   ]
  },
  {
   "cell_type": "code",
   "execution_count": 14,
   "id": "3e7c8b98-2d02-4bff-b5dc-cfa35b462d88",
   "metadata": {},
   "outputs": [
    {
     "data": {
      "text/plain": [
       "array([-0.00536227,  0.00236431,  0.0510335 ,  0.09009273, -0.0930295 ,\n",
       "       -0.07116809,  0.06458873,  0.08972988, -0.05015428, -0.03763372],\n",
       "      dtype=float32)"
      ]
     },
     "execution_count": 14,
     "metadata": {},
     "output_type": "execute_result"
    }
   ],
   "source": [
    "# Get word embedding for a specific words\n",
    "# Size of vector = vector_size value specficied in Word2Vec model \n",
    "w2v_model.wv['cat']"
   ]
  },
  {
   "cell_type": "code",
   "execution_count": 15,
   "id": "054c2e92-92a9-474a-830f-29e0bb664eb1",
   "metadata": {},
   "outputs": [
    {
     "name": "stdout",
     "output_type": "stream",
     "text": [
      "-0.18973823\n"
     ]
    }
   ],
   "source": [
    "# See similarity between two words\n",
    "# Note this similarity is computed based on word-embedding values, not cosine similarity\n",
    "print(w2v_model.wv.similarity('cat', 'man'))"
   ]
  },
  {
   "cell_type": "code",
   "execution_count": 16,
   "id": "c8a13514-2df6-4356-b1e3-2d45c1b03e84",
   "metadata": {},
   "outputs": [
    {
     "name": "stdout",
     "output_type": "stream",
     "text": [
      "0.10494352\n"
     ]
    }
   ],
   "source": [
    "# See similarity between two words\n",
    "print(w2v_model.wv.similarity('cat', 'dog'))"
   ]
  },
  {
   "cell_type": "code",
   "execution_count": 17,
   "id": "6348b932-f4ec-47dd-ae3d-2943ddd6e7d9",
   "metadata": {},
   "outputs": [
    {
     "data": {
      "text/plain": [
       "[('table', 0.5435707569122314),\n",
       " ('sleeping', 0.43179112672805786),\n",
       " ('four', 0.3792896568775177),\n",
       " ('chair', 0.3004136085510254),\n",
       " ('inside', 0.22745124995708466),\n",
       " ('life', 0.15579193830490112),\n",
       " ('dog', 0.10494352877140045),\n",
       " ('one', -0.13101786375045776),\n",
       " ('man', -0.1897382140159607),\n",
       " ('two', -0.2055797278881073)]"
      ]
     },
     "execution_count": 17,
     "metadata": {},
     "output_type": "execute_result"
    }
   ],
   "source": [
    "# See a list of top 10 most positively similar word to cat (default size of list = 10)\n",
    "w2v_model.wv.most_similar(positive=['cat'])"
   ]
  },
  {
   "cell_type": "code",
   "execution_count": 18,
   "id": "23bb49a6-191c-469d-8301-d0223af86f14",
   "metadata": {},
   "outputs": [
    {
     "data": {
      "text/plain": [
       "[('sleep', 0.7287455797195435),\n",
       " ('floor', 0.5182236433029175),\n",
       " ('stand', 0.3794037997722626),\n",
       " ('bed', 0.27261465787887573),\n",
       " ('sits', 0.23750293254852295),\n",
       " ('apartment', 0.22420455515384674),\n",
       " ('two', 0.2055797278881073),\n",
       " ('man', 0.1897382140159607),\n",
       " ('one', 0.13101786375045776),\n",
       " ('dog', -0.10494352877140045)]"
      ]
     },
     "execution_count": 18,
     "metadata": {},
     "output_type": "execute_result"
    }
   ],
   "source": [
    "# See a list of top 10 most negatively similar word to cat (default size of list = 10)\n",
    "w2v_model.wv.most_similar(negative=['cat'])"
   ]
  },
  {
   "cell_type": "code",
   "execution_count": 19,
   "id": "917bdad0-c26f-443b-a56a-1b91891a81fa",
   "metadata": {},
   "outputs": [
    {
     "data": {
      "text/plain": [
       "[('one', 0.2940695285797119),\n",
       " ('floor', 0.28965628147125244),\n",
       " ('four', 0.20713211596012115),\n",
       " ('sleeping', 0.19899128377437592),\n",
       " ('cat', 0.10494355112314224)]"
      ]
     },
     "execution_count": 19,
     "metadata": {},
     "output_type": "execute_result"
    }
   ],
   "source": [
    "# See a list of top 5 most positively similar word to dog\n",
    "w2v_model.wv.most_similar(positive=['dog'], topn=5)"
   ]
  },
  {
   "cell_type": "code",
   "execution_count": 20,
   "id": "2f6c478f-83e0-448a-a1fa-0b5d9b0fe16c",
   "metadata": {},
   "outputs": [
    {
     "data": {
      "text/plain": [
       "[('apartment', 0.36625364422798157),\n",
       " ('inside', 0.3106391131877899),\n",
       " ('two', 0.30105289816856384),\n",
       " ('life', 0.2512204647064209),\n",
       " ('sleep', 0.2315719872713089)]"
      ]
     },
     "execution_count": 20,
     "metadata": {},
     "output_type": "execute_result"
    }
   ],
   "source": [
    "# See a list of top 5 most negatively similar word to dog\n",
    "w2v_model.wv.most_similar(negative=['dog'], topn=5)"
   ]
  },
  {
   "cell_type": "code",
   "execution_count": 21,
   "id": "8246a968-49fa-499b-b3fd-9c2ac0e7e162",
   "metadata": {},
   "outputs": [
    {
     "name": "stdout",
     "output_type": "stream",
     "text": [
      "man\n"
     ]
    }
   ],
   "source": [
    "# Select word that least match the remaining words in the list\n",
    "print(w2v_model.wv.doesnt_match(['dog', 'man', 'cat']))"
   ]
  },
  {
   "cell_type": "code",
   "execution_count": 22,
   "id": "2295e508-14cf-4f46-9736-cd87ea9a28c8",
   "metadata": {},
   "outputs": [
    {
     "name": "stdout",
     "output_type": "stream",
     "text": [
      "bed\n"
     ]
    }
   ],
   "source": [
    "# Select word that least match the remaining words in the list\n",
    "print(w2v_model.wv.doesnt_match(['bed', 'chairs', 'table']))"
   ]
  },
  {
   "cell_type": "code",
   "execution_count": 23,
   "id": "e0ffe54f-c9fa-45da-8a09-225f360f1fbb",
   "metadata": {},
   "outputs": [
    {
     "name": "stdout",
     "output_type": "stream",
     "text": [
      "table\n"
     ]
    }
   ],
   "source": [
    "# Select word that least match the remaining words in the list\n",
    "print(w2v_model.wv.doesnt_match(['dog', 'bed', 'chairs', 'table']))"
   ]
  },
  {
   "cell_type": "code",
   "execution_count": 24,
   "id": "15b6003a-f093-4618-88ac-3d6afac00b79",
   "metadata": {},
   "outputs": [
    {
     "data": {
      "image/png": "[encoded data removed]",
      "text/plain": [
       "<Figure size 1000x1000 with 1 Axes>"
      ]
     },
     "metadata": {},
     "output_type": "display_data"
    }
   ],
   "source": [
    "# Plot similarities between each word \n",
    "\n",
    "# Source: https://medium.com/@manansuri/a-dummys-guide-to-word2vec-456444f3c673\n",
    "from sklearn.decomposition import PCA\n",
    "import matplotlib.pyplot as plt\n",
    "%matplotlib inline\n",
    "def display_pca_scatterplot(model, words=None, sample=0):\n",
    "    if words == None:\n",
    "        if sample > 0:\n",
    "            words = np.random.choice(list(model.vocab.keys()), sample)\n",
    "        else:\n",
    "            words = [ word for word in model.vocab ]\n",
    "        \n",
    "    word_vectors = np.array([model[w] for w in words])\n",
    "\n",
    "    twodim = PCA().fit_transform(word_vectors)[:,:2]\n",
    "    \n",
    "    plt.figure(figsize=(10,10))\n",
    "    plt.scatter(twodim[:,0], twodim[:,1], edgecolors='k', c='r')\n",
    "    for word, (x,y) in zip(words, twodim):\n",
    "        #plt.text(x+0.05, y+0.05, word)\n",
    "        plt.text(x, y, word)\n",
    "    plt.show()\n",
    "\n",
    "display_pca_scatterplot(w2v_model.wv, w2v_vocab_list)"
   ]
  },
  {
   "cell_type": "code",
   "execution_count": 25,
   "id": "924372a8-af27-448b-a478-be49dc96e002",
   "metadata": {},
   "outputs": [],
   "source": [
    "# Model can be saved and reload to use later\n",
    "w2v_model.save('word2vec_model_cbow')"
   ]
  },
  {
   "cell_type": "markdown",
   "id": "299aa69a-fe4a-47c0-a84b-c1e277d219d9",
   "metadata": {},
   "source": [
    "#### Load and Continue Training the Pre-Trained Model"
   ]
  },
  {
   "cell_type": "code",
   "execution_count": 26,
   "id": "e09f5041-f9d1-48d0-845d-93eef16977c4",
   "metadata": {},
   "outputs": [],
   "source": [
    "# Load the previously-saved model\n",
    "new_w2v_model = Word2Vec.load('word2vec_model_cbow')"
   ]
  },
  {
   "cell_type": "code",
   "execution_count": 27,
   "id": "74ec314b-805c-4a59-918d-3e44a1c796a5",
   "metadata": {},
   "outputs": [
    {
     "name": "stdout",
     "output_type": "stream",
     "text": [
      "['The', 'man', 'brings', 'three', 'fishes', 'into', 'the', 'apartment']\n"
     ]
    }
   ],
   "source": [
    "# Prepare more texts to add to the existing model\n",
    "new_texts = ['The man brings three fishes into the apartment']\n",
    "for new_text in new_texts:\n",
    "    new_tokens = [word for word in word_tokenize(new_text)]\n",
    "print(new_tokens)"
   ]
  },
  {
   "cell_type": "code",
   "execution_count": 28,
   "id": "c489ea35-059d-4466-8992-8e01db1be1b1",
   "metadata": {},
   "outputs": [],
   "source": [
    "# Add new words from new texts to the existing model\n",
    "new_w2v_model.build_vocab([new_tokens], update=True)"
   ]
  },
  {
   "cell_type": "code",
   "execution_count": 29,
   "id": "1c03076b-82c4-47cd-818e-7669af233943",
   "metadata": {},
   "outputs": [
    {
     "name": "stdout",
     "output_type": "stream",
     "text": [
      "['cat', 'table', 'chair', 'dog', 'apartment', 'bed', 'man', 'one', 'four', 'sleep', 'sleeping', 'inside', 'stand', 'sits', 'two', 'life', 'floor', 'The', 'brings', 'three', 'fishes', 'into', 'the']\n"
     ]
    }
   ],
   "source": [
    "# See new word list\n",
    "new_w2v_vocab_list = list(new_w2v_model.wv.key_to_index.keys())\n",
    "print(new_w2v_vocab_list)"
   ]
  },
  {
   "cell_type": "code",
   "execution_count": 30,
   "id": "cccc5915-e39e-4fe8-bc0a-83b30c1abf24",
   "metadata": {},
   "outputs": [
    {
     "data": {
      "text/plain": [
       "(0, 1170)"
      ]
     },
     "execution_count": 30,
     "metadata": {},
     "output_type": "execute_result"
    }
   ],
   "source": [
    "# Train the existing models with new text tokens\n",
    "new_w2v_model.train(new_tokens, total_examples=new_w2v_model.corpus_count, epochs=30)"
   ]
  },
  {
   "cell_type": "code",
   "execution_count": 31,
   "id": "e44b485d-d141-4d08-8a0c-9c28b064c1b2",
   "metadata": {},
   "outputs": [
    {
     "name": "stdout",
     "output_type": "stream",
     "text": [
      "-0.43560943\n"
     ]
    }
   ],
   "source": [
    "# See similarity between two words\n",
    "# Note this similarity is computed based on word-embedding values, not cosine similarity\n",
    "print(new_w2v_model.wv.similarity('cat', 'fishes'))"
   ]
  },
  {
   "cell_type": "code",
   "execution_count": 32,
   "id": "a225f4ae-5fbd-4781-95c3-551b5657fda3",
   "metadata": {},
   "outputs": [
    {
     "data": {
      "text/plain": [
       "[('man', 0.509819746017456),\n",
       " ('sleep', 0.44498124718666077),\n",
       " ('apartment', 0.39086416363716125),\n",
       " ('bed', 0.38143864274024963),\n",
       " ('inside', 0.33081701397895813),\n",
       " ('stand', 0.32000118494033813),\n",
       " ('the', 0.31429845094680786),\n",
       " ('three', 0.2706132233142853),\n",
       " ('chair', 0.17098528146743774),\n",
       " ('life', 0.17084622383117676)]"
      ]
     },
     "execution_count": 32,
     "metadata": {},
     "output_type": "execute_result"
    }
   ],
   "source": [
    "# See top 10 most positively similar word to fishes\n",
    "new_w2v_model.wv.most_similar(positive=['fishes'])"
   ]
  },
  {
   "cell_type": "code",
   "execution_count": 33,
   "id": "2103f8c3-ac48-41a6-9e1b-ba826baff75e",
   "metadata": {},
   "outputs": [
    {
     "name": "stdout",
     "output_type": "stream",
     "text": [
      "[('table', 0.043485194), ('sleeping', 0.043484468), ('the', 0.043481678), ('into', 0.043481678), ('fishes', 0.043481678), ('three', 0.043481678), ('brings', 0.043481678), ('The', 0.043481678), ('two', 0.043481678), ('inside', 0.043480806)]\n"
     ]
    }
   ],
   "source": [
    "# See top 10 words with highest probability related to fishes\n",
    "print(new_w2v_model.predict_output_word(['fishes']))"
   ]
  },
  {
   "cell_type": "code",
   "execution_count": 34,
   "id": "e369d893-0cd9-4bf6-8e47-c4b798f6d741",
   "metadata": {},
   "outputs": [
    {
     "name": "stdout",
     "output_type": "stream",
     "text": [
      "[('four', 0.043489404), ('inside', 0.043484025), ('floor', 0.043482024), ('stand', 0.043481257), ('dog', 0.04348107), ('life', 0.043480117), ('table', 0.04347947), ('two', 0.043478638), ('into', 0.043478638), ('fishes', 0.043478638), ('three', 0.043478638), ('brings', 0.043478638), ('The', 0.043478638), ('the', 0.043478638), ('apartment', 0.04347847)]\n"
     ]
    }
   ],
   "source": [
    "# See top 15 words with highest probability related to cat\n",
    "print(new_w2v_model.predict_output_word(['cat'], topn=15))"
   ]
  },
  {
   "cell_type": "markdown",
   "id": "69c44675-f822-4a8b-9a0d-f22af59a70b2",
   "metadata": {},
   "source": [
    "### Word Embeddings: Skipgram Model"
   ]
  },
  {
   "cell_type": "code",
   "execution_count": 35,
   "id": "92d95985-13be-46d9-b788-7a328f6ca0ac",
   "metadata": {},
   "outputs": [],
   "source": [
    "# Run Word2Vec using skipgram model\n",
    "w2v_model_sg = Word2Vec(word_tokens, vector_size=10, window=3, min_count=1, sg=1)"
   ]
  },
  {
   "cell_type": "code",
   "execution_count": 36,
   "id": "09b44edb-73a2-4726-a14d-9222d3adc51d",
   "metadata": {},
   "outputs": [
    {
     "data": {
      "text/plain": [
       "['cat',\n",
       " 'table',\n",
       " 'chair',\n",
       " 'dog',\n",
       " 'apartment',\n",
       " 'bed',\n",
       " 'man',\n",
       " 'one',\n",
       " 'four',\n",
       " 'sleep',\n",
       " 'sleeping',\n",
       " 'inside',\n",
       " 'stand',\n",
       " 'sits',\n",
       " 'two',\n",
       " 'life',\n",
       " 'floor']"
      ]
     },
     "execution_count": 36,
     "metadata": {},
     "output_type": "execute_result"
    }
   ],
   "source": [
    "w2v_vocab_sg_list = list(w2v_model_sg.wv.key_to_index.keys())\n",
    "w2v_vocab_sg_list"
   ]
  },
  {
   "cell_type": "code",
   "execution_count": 37,
   "id": "04f5e4a3-e273-4722-97f9-e36c918e00a9",
   "metadata": {},
   "outputs": [
    {
     "data": {
      "text/plain": [
       "array([-0.00536227,  0.00236431,  0.0510335 ,  0.09009273, -0.0930295 ,\n",
       "       -0.07116809,  0.06458873,  0.08972988, -0.05015428, -0.03763372],\n",
       "      dtype=float32)"
      ]
     },
     "execution_count": 37,
     "metadata": {},
     "output_type": "execute_result"
    }
   ],
   "source": [
    "w2v_model_sg.wv['cat']"
   ]
  },
  {
   "cell_type": "code",
   "execution_count": 38,
   "id": "108f1786-036e-48f1-8c86-cf50bc955fe9",
   "metadata": {},
   "outputs": [
    {
     "name": "stdout",
     "output_type": "stream",
     "text": [
      "-0.18973823\n"
     ]
    }
   ],
   "source": [
    "print(w2v_model_sg.wv.similarity('cat', 'man'))"
   ]
  },
  {
   "cell_type": "code",
   "execution_count": 39,
   "id": "18b3c666-b2ad-44be-9e60-54a20402c60d",
   "metadata": {},
   "outputs": [
    {
     "data": {
      "text/plain": [
       "[('table', 0.5436898469924927),\n",
       " ('sleeping', 0.43173953890800476),\n",
       " ('four', 0.3792896568775177),\n",
       " ('chair', 0.3002738952636719),\n",
       " ('inside', 0.2274128496646881)]"
      ]
     },
     "execution_count": 39,
     "metadata": {},
     "output_type": "execute_result"
    }
   ],
   "source": [
    "w2v_model_sg.wv.most_similar(positive=['cat'], topn=5)"
   ]
  },
  {
   "cell_type": "code",
   "execution_count": null,
   "id": "f9a14f83-e241-4ea0-a217-2a6e30f09b67",
   "metadata": {},
   "outputs": [],
   "source": []
  }
 ],
 "metadata": {
  "kernelspec": {
   "display_name": "Python 3",
   "language": "python",
   "name": "python3"
  },
  "language_info": {
   "codemirror_mode": {
    "name": "ipython",
    "version": 3
   },
   "file_extension": ".py",
   "mimetype": "text/x-python",
   "name": "python",
   "nbconvert_exporter": "python",
   "pygments_lexer": "ipython3",
   "version": "3.12.7"
  }
 },
 "nbformat": 4,
 "nbformat_minor": 5
}
