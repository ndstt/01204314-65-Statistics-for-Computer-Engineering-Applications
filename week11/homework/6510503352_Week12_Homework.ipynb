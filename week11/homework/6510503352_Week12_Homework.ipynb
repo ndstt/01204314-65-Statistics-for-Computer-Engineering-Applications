{
 "cells": [
  {
   "cell_type": "code",
   "execution_count": 69,
   "metadata": {},
   "outputs": [
    {
     "data": {
      "text/plain": [
       "'C:\\\\Users\\\\nadda\\\\Desktop\\\\KU\\\\01204314-65-Statistics-for-Computer-Engineering-Applications\\\\week11\\\\homework'"
      ]
     },
     "execution_count": 69,
     "metadata": {},
     "output_type": "execute_result"
    }
   ],
   "source": [
    "import os\n",
    "os.chdir(r'C:\\Users\\nadda\\Desktop\\KU\\01204314-65-Statistics-for-Computer-Engineering-Applications\\week11\\homework')\n",
    "os.getcwd()"
   ]
  },
  {
   "cell_type": "code",
   "execution_count": 70,
   "metadata": {},
   "outputs": [],
   "source": [
    "import pandas as pd\n",
    "import numpy as np\n",
    "import matplotlib.pyplot as plt\n",
    "import seaborn as sns\n",
    "%matplotlib inline"
   ]
  },
  {
   "cell_type": "code",
   "execution_count": 71,
   "metadata": {},
   "outputs": [],
   "source": [
    "from sklearn.model_selection import train_test_split\n",
    "from sklearn.linear_model import LinearRegression\n",
    "from sklearn import metrics"
   ]
  },
  {
   "cell_type": "code",
   "execution_count": 72,
   "metadata": {},
   "outputs": [
    {
     "data": {
      "text/html": [
       "<div>\n",
       "<style scoped>\n",
       "    .dataframe tbody tr th:only-of-type {\n",
       "        vertical-align: middle;\n",
       "    }\n",
       "\n",
       "    .dataframe tbody tr th {\n",
       "        vertical-align: top;\n",
       "    }\n",
       "\n",
       "    .dataframe thead th {\n",
       "        text-align: right;\n",
       "    }\n",
       "</style>\n",
       "<table border=\"1\" class=\"dataframe\">\n",
       "  <thead>\n",
       "    <tr style=\"text-align: right;\">\n",
       "      <th></th>\n",
       "      <th>Food Name</th>\n",
       "      <th>Category Name</th>\n",
       "      <th>Calcium</th>\n",
       "      <th>Calories</th>\n",
       "      <th>Carbs</th>\n",
       "      <th>Cholesterol</th>\n",
       "      <th>Copper</th>\n",
       "      <th>Fats</th>\n",
       "      <th>Fiber</th>\n",
       "      <th>Folate</th>\n",
       "      <th>...</th>\n",
       "      <th>Vitamin A RAE</th>\n",
       "      <th>Vitamin B1</th>\n",
       "      <th>Vitamin B12</th>\n",
       "      <th>Vitamin B2</th>\n",
       "      <th>Vitamin B3</th>\n",
       "      <th>Vitamin B5</th>\n",
       "      <th>Vitamin B6</th>\n",
       "      <th>Vitamin C</th>\n",
       "      <th>Zinc</th>\n",
       "      <th>Manganese</th>\n",
       "    </tr>\n",
       "  </thead>\n",
       "  <tbody>\n",
       "    <tr>\n",
       "      <th>0</th>\n",
       "      <td>Acerola</td>\n",
       "      <td>Fruits</td>\n",
       "      <td>0.012</td>\n",
       "      <td>32.0</td>\n",
       "      <td>7.7</td>\n",
       "      <td>0.0</td>\n",
       "      <td>0.00009</td>\n",
       "      <td>0.30</td>\n",
       "      <td>1.1</td>\n",
       "      <td>0.000014</td>\n",
       "      <td>...</td>\n",
       "      <td>0.000038</td>\n",
       "      <td>0.00002</td>\n",
       "      <td>0.0</td>\n",
       "      <td>0.00006</td>\n",
       "      <td>0.00040</td>\n",
       "      <td>0.00031</td>\n",
       "      <td>0.00001</td>\n",
       "      <td>1.6780</td>\n",
       "      <td>0.00010</td>\n",
       "      <td>NaN</td>\n",
       "    </tr>\n",
       "    <tr>\n",
       "      <th>1</th>\n",
       "      <td>Apple</td>\n",
       "      <td>Fruits</td>\n",
       "      <td>0.006</td>\n",
       "      <td>52.0</td>\n",
       "      <td>14.0</td>\n",
       "      <td>0.0</td>\n",
       "      <td>0.00003</td>\n",
       "      <td>0.17</td>\n",
       "      <td>2.4</td>\n",
       "      <td>0.000003</td>\n",
       "      <td>...</td>\n",
       "      <td>0.000003</td>\n",
       "      <td>0.00002</td>\n",
       "      <td>0.0</td>\n",
       "      <td>0.00003</td>\n",
       "      <td>0.00009</td>\n",
       "      <td>0.00006</td>\n",
       "      <td>0.00004</td>\n",
       "      <td>0.0046</td>\n",
       "      <td>0.00004</td>\n",
       "      <td>0.00004</td>\n",
       "    </tr>\n",
       "    <tr>\n",
       "      <th>2</th>\n",
       "      <td>Apricot</td>\n",
       "      <td>Fruits</td>\n",
       "      <td>0.013</td>\n",
       "      <td>48.0</td>\n",
       "      <td>11.0</td>\n",
       "      <td>0.0</td>\n",
       "      <td>0.00008</td>\n",
       "      <td>0.39</td>\n",
       "      <td>2.0</td>\n",
       "      <td>0.000009</td>\n",
       "      <td>...</td>\n",
       "      <td>0.000096</td>\n",
       "      <td>0.00003</td>\n",
       "      <td>0.0</td>\n",
       "      <td>0.00004</td>\n",
       "      <td>0.00060</td>\n",
       "      <td>0.00024</td>\n",
       "      <td>0.00005</td>\n",
       "      <td>0.0100</td>\n",
       "      <td>0.00020</td>\n",
       "      <td>0.00008</td>\n",
       "    </tr>\n",
       "    <tr>\n",
       "      <th>3</th>\n",
       "      <td>Dried fruit</td>\n",
       "      <td>Fruits</td>\n",
       "      <td>0.055</td>\n",
       "      <td>241.0</td>\n",
       "      <td>63.0</td>\n",
       "      <td>0.0</td>\n",
       "      <td>0.00034</td>\n",
       "      <td>0.51</td>\n",
       "      <td>7.3</td>\n",
       "      <td>0.000010</td>\n",
       "      <td>...</td>\n",
       "      <td>0.000180</td>\n",
       "      <td>0.00002</td>\n",
       "      <td>0.0</td>\n",
       "      <td>0.00007</td>\n",
       "      <td>0.00260</td>\n",
       "      <td>0.00052</td>\n",
       "      <td>0.00014</td>\n",
       "      <td>0.0010</td>\n",
       "      <td>0.00039</td>\n",
       "      <td>0.00024</td>\n",
       "    </tr>\n",
       "    <tr>\n",
       "      <th>4</th>\n",
       "      <td>Avocado</td>\n",
       "      <td>Fruits</td>\n",
       "      <td>0.012</td>\n",
       "      <td>160.0</td>\n",
       "      <td>8.5</td>\n",
       "      <td>0.0</td>\n",
       "      <td>0.00019</td>\n",
       "      <td>15.00</td>\n",
       "      <td>6.7</td>\n",
       "      <td>0.000081</td>\n",
       "      <td>...</td>\n",
       "      <td>0.000007</td>\n",
       "      <td>0.00007</td>\n",
       "      <td>0.0</td>\n",
       "      <td>0.00013</td>\n",
       "      <td>0.00170</td>\n",
       "      <td>0.00140</td>\n",
       "      <td>0.00026</td>\n",
       "      <td>0.0100</td>\n",
       "      <td>0.00064</td>\n",
       "      <td>0.00014</td>\n",
       "    </tr>\n",
       "  </tbody>\n",
       "</table>\n",
       "<p>5 rows × 32 columns</p>\n",
       "</div>"
      ],
      "text/plain": [
       "     Food Name Category Name  Calcium  Calories  Carbs  Cholesterol   Copper  \\\n",
       "0      Acerola        Fruits    0.012      32.0    7.7          0.0  0.00009   \n",
       "1        Apple        Fruits    0.006      52.0   14.0          0.0  0.00003   \n",
       "2      Apricot        Fruits    0.013      48.0   11.0          0.0  0.00008   \n",
       "3  Dried fruit        Fruits    0.055     241.0   63.0          0.0  0.00034   \n",
       "4      Avocado        Fruits    0.012     160.0    8.5          0.0  0.00019   \n",
       "\n",
       "    Fats  Fiber    Folate  ...  Vitamin A RAE  Vitamin B1  Vitamin B12  \\\n",
       "0   0.30    1.1  0.000014  ...       0.000038     0.00002          0.0   \n",
       "1   0.17    2.4  0.000003  ...       0.000003     0.00002          0.0   \n",
       "2   0.39    2.0  0.000009  ...       0.000096     0.00003          0.0   \n",
       "3   0.51    7.3  0.000010  ...       0.000180     0.00002          0.0   \n",
       "4  15.00    6.7  0.000081  ...       0.000007     0.00007          0.0   \n",
       "\n",
       "   Vitamin B2  Vitamin B3  Vitamin B5  Vitamin B6  Vitamin C     Zinc  \\\n",
       "0     0.00006     0.00040     0.00031     0.00001     1.6780  0.00010   \n",
       "1     0.00003     0.00009     0.00006     0.00004     0.0046  0.00004   \n",
       "2     0.00004     0.00060     0.00024     0.00005     0.0100  0.00020   \n",
       "3     0.00007     0.00260     0.00052     0.00014     0.0010  0.00039   \n",
       "4     0.00013     0.00170     0.00140     0.00026     0.0100  0.00064   \n",
       "\n",
       "   Manganese  \n",
       "0        NaN  \n",
       "1    0.00004  \n",
       "2    0.00008  \n",
       "3    0.00024  \n",
       "4    0.00014  \n",
       "\n",
       "[5 rows x 32 columns]"
      ]
     },
     "execution_count": 72,
     "metadata": {},
     "output_type": "execute_result"
    }
   ],
   "source": [
    "#https://www.kaggle.com/brijbhushannanda1979/bigmart-sales-data\n",
    "orig_df = pd.read_csv(\"meat_diary_oils_seafood_fruits.csv\")\n",
    "orig_df.head()"
   ]
  },
  {
   "cell_type": "code",
   "execution_count": 73,
   "metadata": {},
   "outputs": [
    {
     "data": {
      "text/plain": [
       "(384, 32)"
      ]
     },
     "execution_count": 73,
     "metadata": {},
     "output_type": "execute_result"
    }
   ],
   "source": [
    "orig_df.shape"
   ]
  },
  {
   "cell_type": "code",
   "execution_count": 74,
   "metadata": {},
   "outputs": [
    {
     "data": {
      "text/plain": [
       "Food Name               object\n",
       "Category Name           object\n",
       "Calcium                float64\n",
       "Calories               float64\n",
       "Carbs                  float64\n",
       "Cholesterol            float64\n",
       "Copper                 float64\n",
       "Fats                   float64\n",
       "Fiber                  float64\n",
       "Folate                 float64\n",
       "Iron                   float64\n",
       "Magnesium              float64\n",
       "Monounsaturated Fat    float64\n",
       "Net carbs              float64\n",
       "Phosphorus             float64\n",
       "Polyunsaturated fat    float64\n",
       "Potassium              float64\n",
       "Protein                float64\n",
       "Saturated Fat          float64\n",
       "Selenium               float64\n",
       "Sodium                 float64\n",
       "Vitamin A (IU)         float64\n",
       "Vitamin A RAE          float64\n",
       "Vitamin B1             float64\n",
       "Vitamin B12            float64\n",
       "Vitamin B2             float64\n",
       "Vitamin B3             float64\n",
       "Vitamin B5             float64\n",
       "Vitamin B6             float64\n",
       "Vitamin C              float64\n",
       "Zinc                   float64\n",
       "Manganese              float64\n",
       "dtype: object"
      ]
     },
     "execution_count": 74,
     "metadata": {},
     "output_type": "execute_result"
    }
   ],
   "source": [
    "orig_df.dtypes"
   ]
  },
  {
   "cell_type": "code",
   "execution_count": 75,
   "metadata": {},
   "outputs": [
    {
     "data": {
      "text/plain": [
       "array(['Acerola', 'Apple', 'Apricot', 'Dried fruit', 'Avocado', 'Banana',\n",
       "       'Blackberry', 'Blueberry', 'Boysenberries', 'Breadfruit',\n",
       "       'Carambola', 'Cherimoya', 'Cherry', 'Crabapple (Malus)',\n",
       "       'Cranberry', 'Currant', 'Custard apple', 'Dates', 'Elderberry',\n",
       "       'Figs', 'Fruit salad', 'Gooseberry', 'Goji berries', 'Grapefruit',\n",
       "       'Grape', 'Peruvian groundcherry', 'Guava', 'Jackfruit',\n",
       "       'Java plum', 'Jujube', 'Kiwifruit', 'Kumquat', 'Lemon', 'Lime',\n",
       "       'Lychee', 'Loganberries', 'Longan', 'Loquat', 'Mango',\n",
       "       'Purple mangosteen', 'Cantaloupe', 'Melon', 'Honeydew', 'Mulberry',\n",
       "       'Nectarine', 'Orange', 'Mandarin orange', 'Papaya',\n",
       "       'Passion fruit', 'Peach', 'Pear', 'Persimmon', 'Pineapple',\n",
       "       'Pitanga (Surinam cherry)', 'Plantain', 'Plum', 'Pomegranate',\n",
       "       'Prickly pear', 'Prunes', 'Pomelo', 'Quince', 'Raisin', 'Rambutan',\n",
       "       'Raspberry', 'Roselle', 'Rose apple', 'Sapodilla', 'Mamey Sapote',\n",
       "       'Soursop', 'Strawberry', 'Tamarind', 'Watermelon',\n",
       "       'Maraschino cherry', 'Feijoa', 'Asian pear', 'Sour cherry',\n",
       "       'Durian', 'Crateva religiosa', 'Clementine', 'Nance', 'Naranjilla',\n",
       "       'Horned melon', 'Coconut', 'Cloudberry', 'Huckleberries',\n",
       "       'Banana melon', 'Salmonberries', 'Chokecherries', 'Rose hip',\n",
       "       'Cod liver oil', 'Anchovy', 'Carp', 'Caviar', 'Cod', 'Croaker',\n",
       "       'Eel', 'Fish sticks', 'Flatfish', 'Gefilte fish', 'Grouper fish',\n",
       "       'Haddock', 'Herring', 'Mackerel', 'Mullet fish', 'Perch',\n",
       "       'Alaska pollock', 'Pompano', 'Rockfish', 'Smoked salmon',\n",
       "       'Sockeye salmon', 'Sardine', 'Shark', 'Sheepshead', 'Smelt',\n",
       "       'Snapper', 'Sturgeon', 'Surimi', 'Swordfish', 'Tilefish',\n",
       "       'Tuna salad', 'Whiting', 'Crab meat', 'Crab stick', 'Crab',\n",
       "       'Crayfish', 'Lobster', 'Shrimp', 'Abalone', 'Clam', 'Cuttlefish',\n",
       "       'Mussels', 'Oysters', 'Whelk', 'Bass', 'Bluefish', 'Burbot',\n",
       "       'Butterfish', 'Mahimahi', 'Drum fish', 'Halibut', 'Ling fish',\n",
       "       'Lingcod', 'Milkfish', 'Monkfish', 'Pacific saury', 'Roe',\n",
       "       'Sablefish', 'Chinook salmon', 'Scup', 'Seatrout', 'Shad',\n",
       "       'Sucker fish', 'Sunfish', 'Skipjack tuna', 'Tuna', 'Turbot',\n",
       "       'Whitefish', 'Wolffish', 'Yellowtail', 'Squid', 'Octopus',\n",
       "       'Orange roughy', 'Catfish', 'Salmon', 'Trout', 'Tilapia',\n",
       "       'Cockles', 'Devilfish', 'Pike', 'Sea cucumber', 'Steelhead trout',\n",
       "       'Scallop', 'Blue cheese', 'Brie', 'Camembert', 'Cheese',\n",
       "       'Cottage cheese', 'Cream cheese', 'Edam', 'Feta', 'Fontina',\n",
       "       'Brunost', 'Gouda cheese', 'Gruyere cheese', 'Limburger',\n",
       "       'Monterey Jack', 'Muenster cheese', 'Neufchâtel cheese',\n",
       "       'Port Salut', 'Provolone', 'Ricotta', 'Romano cheese', 'Roquefort',\n",
       "       'Swiss cheese', 'Tilsit cheese', 'Whipped cream', 'Eggnog', 'Milk',\n",
       "       'Buttermilk', 'Condensed milk', 'Chocolate milk', 'Hot chocolate',\n",
       "       'Goat milk', 'Milkshake', 'Whey', 'Egg white', 'Yolk', 'Egg',\n",
       "       'Omelette', 'Duck egg', 'Goose egg', 'Quail egg', 'Turkey egg',\n",
       "       'Butter', 'Goat cheese', 'Mexican Cheese queso chihuahua',\n",
       "       'Sour cream', 'Parmigiano-Reggiano', 'Powdered milk',\n",
       "       'Dulce de Leche', 'Soft serve', 'Ice cream sandwich',\n",
       "       'American cheese', 'Yogurt', 'Cotija cheese', 'Kefir',\n",
       "       'Greek yogurt', 'Ice cream sundae cone', 'Coconut milk',\n",
       "       'Mozzarella', 'Chicken meat', 'Chicken gizzard', 'Chicken heart',\n",
       "       'Chicken liver', 'Chicken breast', 'Chicken neck', 'Chicken thigh',\n",
       "       'Chicken wing', 'Duck meat', 'Domestic goose', 'Quail meat',\n",
       "       'Turkey meat', 'Turkey neck', 'Turkey breast', 'Turkey leg',\n",
       "       'Turkey wing', 'Foie gras', 'Ground turkey', 'Ground chicken',\n",
       "       'Chicken feet', 'Fajita', 'Barbecue chicken', 'Turkey ham',\n",
       "       'Ostrich', 'Blood sausage', 'Bockwurst', 'Bologna sausage',\n",
       "       'Braunschweiger', 'Chorizo', 'Headcheese', 'Knackwurst',\n",
       "       'Leberkäse', 'Roast beef', 'Luncheon meat', 'Mortadella',\n",
       "       'Chicken liver pate', 'Pâté', 'Pepperoni', 'Salami', 'Cervelat',\n",
       "       'Vienna sausage', 'Italian sausage', 'Turkey bacon', 'Liverwurst',\n",
       "       'Polish sausage', 'Summer sausage', 'Turkey sausage', 'Bratwurst',\n",
       "       'Kielbasa', 'Scrapple', 'Meatball', 'Pork belly', 'Pork leg',\n",
       "       'Pork loin', 'Pork', 'Pork chop', 'Pork shoulder',\n",
       "       'Pork spare ribs', 'Pork jowl', 'Liver', 'Ham', 'Pork bacon',\n",
       "       'Pork hock', 'Canadian bacon', 'Short ribs', 'Beef shank',\n",
       "       'T bone steak', 'Beef Liver', 'Corned beef', 'Pastrami',\n",
       "       'Pot roast', 'Beef ribs', 'Beef sirloin', 'Porterhouse steak',\n",
       "       'Ground beef', 'Brisket', 'Beefsteak', 'Beef tenderloin',\n",
       "       'Flank steak', 'Lamb', 'Lamb leg', 'Lamb loin', 'Lamb ribs',\n",
       "       'Lamb shoulder', 'Veal', 'Game', 'Bear meat', 'Bison meat',\n",
       "       'Caribou meat', 'Goat', 'Horse meat', 'Rabbit Meat', 'Elk meat',\n",
       "       'Deer meat', 'Chuck steak', 'Rib eye steak', 'Steak', 'Beef',\n",
       "       'Mutton', 'Frog legs', 'Lard', 'Russian dressing',\n",
       "       'Thousand island', 'French dressing', 'Italian dressing',\n",
       "       'Soybean oil', 'Rice bran oil', 'Wheat germ oil', 'Peanut oil',\n",
       "       'Coconut oil', 'Olive oil', 'Palm oil', 'Sesame oil',\n",
       "       'Cocoa butter', 'Cottonseed oil', 'Safflower oil',\n",
       "       'Grape seed oil', 'Walnut oil', 'Babassu oil',\n",
       "       'Blue cheese dressing', 'Sunflower oil', 'Duck fat', 'Avocado oil',\n",
       "       'Canola oil', 'Mustard oil', 'Salmon oil', 'Fish oil', 'Margarine',\n",
       "       'Spread', 'Honey mustard', 'Benecol', 'Poppy seed dressing',\n",
       "       'Ceasar dressing', 'Flaxseed oil', 'Barbecue sauce',\n",
       "       'Béchamel sauce', 'Hot sauce', 'Hoisin sauce', 'Salsa',\n",
       "       'Fish sauce', 'Marinara sauce', 'Olive', 'Tomato paste', 'Ketchup',\n",
       "       'Wasabi', 'Miso', 'Soy milk', 'Soy sauce', 'Peanut butter',\n",
       "       'Sweet and sour', 'Cocktail sauce', 'Green Goddess Dressing',\n",
       "       'Tomato sauce', 'Vegetable oil'], dtype=object)"
      ]
     },
     "execution_count": 75,
     "metadata": {},
     "output_type": "execute_result"
    }
   ],
   "source": [
    "orig_df[\"Food Name\"].unique()"
   ]
  },
  {
   "cell_type": "code",
   "execution_count": 76,
   "metadata": {},
   "outputs": [
    {
     "data": {
      "text/plain": [
       "Index(['Calcium', 'Calories', 'Carbs', 'Cholesterol', 'Copper', 'Fats',\n",
       "       'Fiber', 'Folate', 'Iron', 'Magnesium', 'Monounsaturated Fat',\n",
       "       'Net carbs', 'Phosphorus', 'Polyunsaturated fat', 'Potassium',\n",
       "       'Protein', 'Saturated Fat', 'Selenium', 'Sodium', 'Vitamin A (IU)',\n",
       "       'Vitamin A RAE', 'Vitamin B1', 'Vitamin B12', 'Vitamin B2',\n",
       "       'Vitamin B3', 'Vitamin B5', 'Vitamin B6', 'Vitamin C', 'Zinc',\n",
       "       'Manganese', 'Category Name_Dairy', 'Category Name_Fruits',\n",
       "       'Category Name_Meat', 'Category Name_Oils and Sauces',\n",
       "       'Category Name_Seafood'],\n",
       "      dtype='object')"
      ]
     },
     "execution_count": 76,
     "metadata": {},
     "output_type": "execute_result"
    }
   ],
   "source": [
    "# Original, there 11 features (variables) and 1 output ('Item_Outlet_Sales').\n",
    "# To increase number of features, we change categorcial data column to numerical data.\n",
    "# To turn categorcial data column, get_dummies function is used.\n",
    "# Example: if there exists 1 feature column called gender with 2 values {male, female}, \n",
    "#         get_dummies function will converts to 2 columns: gender_male, gender_female (with values 0,1)\n",
    "\n",
    "# Note that 'Item_Identifier', 'Outlet_Identifier' are IDs; they have too many unique values \n",
    "# If we convert these two columns to numerical data, we will get too many resulting columns \n",
    "# Hence, we will drop these two columns\n",
    "\n",
    "df=orig_df.copy()\n",
    "temp_df=df.drop(['Food Name'], axis=1)\n",
    "\n",
    "dummy_df=pd.get_dummies(temp_df)  \n",
    "dummy_df.columns  \n",
    "# dummy_df has 35 columns "
   ]
  },
  {
   "cell_type": "code",
   "execution_count": 77,
   "metadata": {},
   "outputs": [
    {
     "data": {
      "text/plain": [
       "34"
      ]
     },
     "execution_count": 77,
     "metadata": {},
     "output_type": "execute_result"
    }
   ],
   "source": [
    "input_vars = ['Calcium', 'Carbs', 'Cholesterol', 'Copper', 'Fats',\n",
    "       'Fiber', 'Folate', 'Iron', 'Magnesium', 'Monounsaturated Fat',\n",
    "       'Net carbs', 'Phosphorus', 'Polyunsaturated fat', 'Potassium',\n",
    "       'Protein', 'Saturated Fat', 'Selenium', 'Sodium', 'Vitamin A (IU)',\n",
    "       'Vitamin A RAE', 'Vitamin B1', 'Vitamin B12', 'Vitamin B2',\n",
    "       'Vitamin B3', 'Vitamin B5', 'Vitamin B6', 'Vitamin C', 'Zinc',\n",
    "       'Manganese', 'Category Name_Dairy', 'Category Name_Fruits',\n",
    "       'Category Name_Meat', 'Category Name_Oils and Sauces',\n",
    "       'Category Name_Seafood']\n",
    "len(input_vars)"
   ]
  },
  {
   "cell_type": "code",
   "execution_count": 78,
   "metadata": {},
   "outputs": [
    {
     "data": {
      "text/plain": [
       "[27.13374795495167, 0.9827764661245804]"
      ]
     },
     "execution_count": 78,
     "metadata": {},
     "output_type": "execute_result"
    }
   ],
   "source": [
    "# Perform regresssion with original 35 independent variables\n",
    "\n",
    "df = dummy_df.dropna()\n",
    "X = df[input_vars]\n",
    "y = df.Calories\n",
    "X_train, X_test, y_train, y_test = train_test_split(X, y, test_size=0.3, random_state=99)\n",
    "lm = LinearRegression()\n",
    "lm.fit(X_train, y_train)\n",
    "y_pred = lm.predict(X_test)\n",
    "[np.sqrt(metrics.mean_squared_error(y_test,y_pred)),metrics.r2_score(y_test,y_pred)]"
   ]
  },
  {
   "cell_type": "markdown",
   "metadata": {},
   "source": [
    "# Filter Methods"
   ]
  },
  {
   "cell_type": "markdown",
   "metadata": {},
   "source": [
    "## Missing Value Ratio"
   ]
  },
  {
   "cell_type": "code",
   "execution_count": 79,
   "metadata": {},
   "outputs": [
    {
     "data": {
      "image/png": "[encoded data removed]",
      "text/plain": [
       "<Figure size 640x480 with 1 Axes>"
      ]
     },
     "metadata": {},
     "output_type": "display_data"
    }
   ],
   "source": [
    "# Use heatmap to visualize missing value (null) positions\n",
    "df=dummy_df.copy()\n",
    "sns.heatmap(df.isnull(),yticklabels=False,cbar=False,cmap='viridis')\n",
    "plt.show()"
   ]
  },
  {
   "cell_type": "code",
   "execution_count": 80,
   "metadata": {},
   "outputs": [
    {
     "data": {
      "text/plain": [
       "Calcium                           0.520833\n",
       "Calories                          0.000000\n",
       "Carbs                             0.000000\n",
       "Cholesterol                       4.947917\n",
       "Copper                            5.208333\n",
       "Fats                              0.000000\n",
       "Fiber                             4.947917\n",
       "Folate                            7.031250\n",
       "Iron                              0.260417\n",
       "Magnesium                         2.864583\n",
       "Monounsaturated Fat              10.156250\n",
       "Net carbs                         0.000000\n",
       "Phosphorus                        1.302083\n",
       "Polyunsaturated fat              10.156250\n",
       "Potassium                         2.343750\n",
       "Protein                           0.000000\n",
       "Saturated Fat                     9.375000\n",
       "Selenium                          9.375000\n",
       "Sodium                            1.562500\n",
       "Vitamin A (IU)                    2.083333\n",
       "Vitamin A RAE                     4.427083\n",
       "Vitamin B1                        2.083333\n",
       "Vitamin B12                       5.208333\n",
       "Vitamin B2                        1.822917\n",
       "Vitamin B3                        2.083333\n",
       "Vitamin B5                       13.020833\n",
       "Vitamin B6                        5.208333\n",
       "Vitamin C                         2.083333\n",
       "Zinc                              4.166667\n",
       "Manganese                        14.062500\n",
       "Category Name_Dairy               0.000000\n",
       "Category Name_Fruits              0.000000\n",
       "Category Name_Meat                0.000000\n",
       "Category Name_Oils and Sauces     0.000000\n",
       "Category Name_Seafood             0.000000\n",
       "dtype: float64"
      ]
     },
     "execution_count": 80,
     "metadata": {},
     "output_type": "execute_result"
    }
   ],
   "source": [
    "# Find missing value percent for each variable\n",
    "null_percent = df.isnull().sum()/len(df)*100\n",
    "null_percent"
   ]
  },
  {
   "cell_type": "code",
   "execution_count": 81,
   "metadata": {},
   "outputs": [],
   "source": [
    "for x in input_vars:\n",
    "    if df[x][0].dtype != 'Object':\n",
    "        df[x] = df[x].fillna(df[x].mean())\n",
    "    else:\n",
    "        df[x] = df[x].fillna(df[x].mode()[0])"
   ]
  },
  {
   "cell_type": "code",
   "execution_count": 82,
   "metadata": {},
   "outputs": [
    {
     "data": {
      "text/plain": [
       "Calcium                          0.0\n",
       "Calories                         0.0\n",
       "Carbs                            0.0\n",
       "Cholesterol                      0.0\n",
       "Copper                           0.0\n",
       "Fats                             0.0\n",
       "Fiber                            0.0\n",
       "Folate                           0.0\n",
       "Iron                             0.0\n",
       "Magnesium                        0.0\n",
       "Monounsaturated Fat              0.0\n",
       "Net carbs                        0.0\n",
       "Phosphorus                       0.0\n",
       "Polyunsaturated fat              0.0\n",
       "Potassium                        0.0\n",
       "Protein                          0.0\n",
       "Saturated Fat                    0.0\n",
       "Selenium                         0.0\n",
       "Sodium                           0.0\n",
       "Vitamin A (IU)                   0.0\n",
       "Vitamin A RAE                    0.0\n",
       "Vitamin B1                       0.0\n",
       "Vitamin B12                      0.0\n",
       "Vitamin B2                       0.0\n",
       "Vitamin B3                       0.0\n",
       "Vitamin B5                       0.0\n",
       "Vitamin B6                       0.0\n",
       "Vitamin C                        0.0\n",
       "Zinc                             0.0\n",
       "Manganese                        0.0\n",
       "Category Name_Dairy              0.0\n",
       "Category Name_Fruits             0.0\n",
       "Category Name_Meat               0.0\n",
       "Category Name_Oils and Sauces    0.0\n",
       "Category Name_Seafood            0.0\n",
       "dtype: float64"
      ]
     },
     "execution_count": 82,
     "metadata": {},
     "output_type": "execute_result"
    }
   ],
   "source": [
    "# After replacing missing values, re-check %missing data\n",
    "df.isnull().sum()/len(df)*100"
   ]
  },
  {
   "cell_type": "code",
   "execution_count": 83,
   "metadata": {},
   "outputs": [
    {
     "data": {
      "text/html": [
       "<div>\n",
       "<style scoped>\n",
       "    .dataframe tbody tr th:only-of-type {\n",
       "        vertical-align: middle;\n",
       "    }\n",
       "\n",
       "    .dataframe tbody tr th {\n",
       "        vertical-align: top;\n",
       "    }\n",
       "\n",
       "    .dataframe thead th {\n",
       "        text-align: right;\n",
       "    }\n",
       "</style>\n",
       "<table border=\"1\" class=\"dataframe\">\n",
       "  <thead>\n",
       "    <tr style=\"text-align: right;\">\n",
       "      <th></th>\n",
       "      <th>Calcium</th>\n",
       "      <th>Calories</th>\n",
       "      <th>Carbs</th>\n",
       "      <th>Cholesterol</th>\n",
       "      <th>Copper</th>\n",
       "      <th>Fats</th>\n",
       "      <th>Fiber</th>\n",
       "      <th>Folate</th>\n",
       "      <th>Iron</th>\n",
       "      <th>Magnesium</th>\n",
       "      <th>...</th>\n",
       "      <th>Vitamin B5</th>\n",
       "      <th>Vitamin B6</th>\n",
       "      <th>Vitamin C</th>\n",
       "      <th>Zinc</th>\n",
       "      <th>Manganese</th>\n",
       "      <th>Category Name_Dairy</th>\n",
       "      <th>Category Name_Fruits</th>\n",
       "      <th>Category Name_Meat</th>\n",
       "      <th>Category Name_Oils and Sauces</th>\n",
       "      <th>Category Name_Seafood</th>\n",
       "    </tr>\n",
       "  </thead>\n",
       "  <tbody>\n",
       "    <tr>\n",
       "      <th>0</th>\n",
       "      <td>0.012</td>\n",
       "      <td>32.0</td>\n",
       "      <td>7.7</td>\n",
       "      <td>0.0</td>\n",
       "      <td>0.00009</td>\n",
       "      <td>0.30</td>\n",
       "      <td>1.1</td>\n",
       "      <td>0.000014</td>\n",
       "      <td>0.00020</td>\n",
       "      <td>0.018</td>\n",
       "      <td>...</td>\n",
       "      <td>0.00031</td>\n",
       "      <td>0.00001</td>\n",
       "      <td>1.6780</td>\n",
       "      <td>0.00010</td>\n",
       "      <td>0.000152</td>\n",
       "      <td>False</td>\n",
       "      <td>True</td>\n",
       "      <td>False</td>\n",
       "      <td>False</td>\n",
       "      <td>False</td>\n",
       "    </tr>\n",
       "    <tr>\n",
       "      <th>1</th>\n",
       "      <td>0.006</td>\n",
       "      <td>52.0</td>\n",
       "      <td>14.0</td>\n",
       "      <td>0.0</td>\n",
       "      <td>0.00003</td>\n",
       "      <td>0.17</td>\n",
       "      <td>2.4</td>\n",
       "      <td>0.000003</td>\n",
       "      <td>0.00012</td>\n",
       "      <td>0.005</td>\n",
       "      <td>...</td>\n",
       "      <td>0.00006</td>\n",
       "      <td>0.00004</td>\n",
       "      <td>0.0046</td>\n",
       "      <td>0.00004</td>\n",
       "      <td>0.000040</td>\n",
       "      <td>False</td>\n",
       "      <td>True</td>\n",
       "      <td>False</td>\n",
       "      <td>False</td>\n",
       "      <td>False</td>\n",
       "    </tr>\n",
       "    <tr>\n",
       "      <th>2</th>\n",
       "      <td>0.013</td>\n",
       "      <td>48.0</td>\n",
       "      <td>11.0</td>\n",
       "      <td>0.0</td>\n",
       "      <td>0.00008</td>\n",
       "      <td>0.39</td>\n",
       "      <td>2.0</td>\n",
       "      <td>0.000009</td>\n",
       "      <td>0.00039</td>\n",
       "      <td>0.010</td>\n",
       "      <td>...</td>\n",
       "      <td>0.00024</td>\n",
       "      <td>0.00005</td>\n",
       "      <td>0.0100</td>\n",
       "      <td>0.00020</td>\n",
       "      <td>0.000080</td>\n",
       "      <td>False</td>\n",
       "      <td>True</td>\n",
       "      <td>False</td>\n",
       "      <td>False</td>\n",
       "      <td>False</td>\n",
       "    </tr>\n",
       "    <tr>\n",
       "      <th>3</th>\n",
       "      <td>0.055</td>\n",
       "      <td>241.0</td>\n",
       "      <td>63.0</td>\n",
       "      <td>0.0</td>\n",
       "      <td>0.00034</td>\n",
       "      <td>0.51</td>\n",
       "      <td>7.3</td>\n",
       "      <td>0.000010</td>\n",
       "      <td>0.00270</td>\n",
       "      <td>0.032</td>\n",
       "      <td>...</td>\n",
       "      <td>0.00052</td>\n",
       "      <td>0.00014</td>\n",
       "      <td>0.0010</td>\n",
       "      <td>0.00039</td>\n",
       "      <td>0.000240</td>\n",
       "      <td>False</td>\n",
       "      <td>True</td>\n",
       "      <td>False</td>\n",
       "      <td>False</td>\n",
       "      <td>False</td>\n",
       "    </tr>\n",
       "    <tr>\n",
       "      <th>4</th>\n",
       "      <td>0.012</td>\n",
       "      <td>160.0</td>\n",
       "      <td>8.5</td>\n",
       "      <td>0.0</td>\n",
       "      <td>0.00019</td>\n",
       "      <td>15.00</td>\n",
       "      <td>6.7</td>\n",
       "      <td>0.000081</td>\n",
       "      <td>0.00055</td>\n",
       "      <td>0.029</td>\n",
       "      <td>...</td>\n",
       "      <td>0.00140</td>\n",
       "      <td>0.00026</td>\n",
       "      <td>0.0100</td>\n",
       "      <td>0.00064</td>\n",
       "      <td>0.000140</td>\n",
       "      <td>False</td>\n",
       "      <td>True</td>\n",
       "      <td>False</td>\n",
       "      <td>False</td>\n",
       "      <td>False</td>\n",
       "    </tr>\n",
       "  </tbody>\n",
       "</table>\n",
       "<p>5 rows × 35 columns</p>\n",
       "</div>"
      ],
      "text/plain": [
       "   Calcium  Calories  Carbs  Cholesterol   Copper   Fats  Fiber    Folate  \\\n",
       "0    0.012      32.0    7.7          0.0  0.00009   0.30    1.1  0.000014   \n",
       "1    0.006      52.0   14.0          0.0  0.00003   0.17    2.4  0.000003   \n",
       "2    0.013      48.0   11.0          0.0  0.00008   0.39    2.0  0.000009   \n",
       "3    0.055     241.0   63.0          0.0  0.00034   0.51    7.3  0.000010   \n",
       "4    0.012     160.0    8.5          0.0  0.00019  15.00    6.7  0.000081   \n",
       "\n",
       "      Iron  Magnesium  ...  Vitamin B5  Vitamin B6  Vitamin C     Zinc  \\\n",
       "0  0.00020      0.018  ...     0.00031     0.00001     1.6780  0.00010   \n",
       "1  0.00012      0.005  ...     0.00006     0.00004     0.0046  0.00004   \n",
       "2  0.00039      0.010  ...     0.00024     0.00005     0.0100  0.00020   \n",
       "3  0.00270      0.032  ...     0.00052     0.00014     0.0010  0.00039   \n",
       "4  0.00055      0.029  ...     0.00140     0.00026     0.0100  0.00064   \n",
       "\n",
       "   Manganese  Category Name_Dairy  Category Name_Fruits  Category Name_Meat  \\\n",
       "0   0.000152                False                  True               False   \n",
       "1   0.000040                False                  True               False   \n",
       "2   0.000080                False                  True               False   \n",
       "3   0.000240                False                  True               False   \n",
       "4   0.000140                False                  True               False   \n",
       "\n",
       "   Category Name_Oils and Sauces  Category Name_Seafood  \n",
       "0                          False                  False  \n",
       "1                          False                  False  \n",
       "2                          False                  False  \n",
       "3                          False                  False  \n",
       "4                          False                  False  \n",
       "\n",
       "[5 rows x 35 columns]"
      ]
     },
     "execution_count": 83,
     "metadata": {},
     "output_type": "execute_result"
    }
   ],
   "source": [
    "df.head()"
   ]
  },
  {
   "cell_type": "code",
   "execution_count": 84,
   "metadata": {},
   "outputs": [
    {
     "data": {
      "text/plain": [
       "[7.119700045800316, 0.9989349181142649]"
      ]
     },
     "execution_count": 84,
     "metadata": {},
     "output_type": "execute_result"
    }
   ],
   "source": [
    "## Perform regresssion with 35 original independent features\n",
    "##         where missing values in Item_Weight is replaced with its mean\n",
    "\n",
    "X = df[input_vars]\n",
    "y = df.Calories\n",
    "X_train, X_test, y_train, y_test = train_test_split(X, y, test_size=0.3, random_state=99)\n",
    "lm = LinearRegression()\n",
    "lm.fit(X_train, y_train)\n",
    "y_pred = lm.predict(X_test)\n",
    "[np.sqrt(metrics.mean_squared_error(y_test,y_pred)),metrics.r2_score(y_test,y_pred)]"
   ]
  },
  {
   "cell_type": "code",
   "execution_count": 85,
   "metadata": {},
   "outputs": [
    {
     "data": {
      "text/plain": [
       "['Calcium',\n",
       " 'Carbs',\n",
       " 'Cholesterol',\n",
       " 'Copper',\n",
       " 'Fats',\n",
       " 'Fiber',\n",
       " 'Folate',\n",
       " 'Iron',\n",
       " 'Magnesium',\n",
       " 'Monounsaturated Fat',\n",
       " 'Phosphorus',\n",
       " 'Polyunsaturated fat',\n",
       " 'Protein',\n",
       " 'Saturated Fat',\n",
       " 'Selenium',\n",
       " 'Sodium',\n",
       " 'Vitamin A (IU)',\n",
       " 'Vitamin A RAE',\n",
       " 'Vitamin B1',\n",
       " 'Vitamin B12',\n",
       " 'Vitamin B2',\n",
       " 'Vitamin B3',\n",
       " 'Vitamin B5',\n",
       " 'Vitamin C',\n",
       " 'Zinc',\n",
       " 'Manganese',\n",
       " 'Category Name_Fruits',\n",
       " 'Category Name_Meat',\n",
       " 'Category Name_Oils and Sauces',\n",
       " 'Category Name_Seafood']"
      ]
     },
     "execution_count": 85,
     "metadata": {},
     "output_type": "execute_result"
    }
   ],
   "source": [
    "df = dummy_df.copy()\n",
    "acceptable_missing_ratio = 10\n",
    "updated_vars = []\n",
    "for i in range(0,len(input_vars)):  \n",
    "    # if %missing value of this feature is less than or at least threshold, keep this feature\n",
    "    if null_percent.iloc[i] <= acceptable_missing_ratio :          \n",
    "        updated_vars.append(input_vars[i])\n",
    "updated_vars"
   ]
  },
  {
   "cell_type": "code",
   "execution_count": 86,
   "metadata": {},
   "outputs": [
    {
     "data": {
      "text/plain": [
       "30"
      ]
     },
     "execution_count": 86,
     "metadata": {},
     "output_type": "execute_result"
    }
   ],
   "source": [
    "len(updated_vars) \n",
    "# Since one column (Item_weight) has %missing data > 15%, number of features decreases from 35 to 34."
   ]
  },
  {
   "cell_type": "code",
   "execution_count": 87,
   "metadata": {},
   "outputs": [],
   "source": [
    "for x in input_vars:\n",
    "    if df[x][0].dtype != 'Object':\n",
    "        df[x] = df[x].fillna(df[x].mean())\n",
    "    else:\n",
    "        df[x] = df[x].fillna(df[x].mode()[0])"
   ]
  },
  {
   "cell_type": "code",
   "execution_count": 88,
   "metadata": {},
   "outputs": [
    {
     "data": {
      "text/plain": [
       "[6.2103220205905965, 0.9991896216231858]"
      ]
     },
     "execution_count": 88,
     "metadata": {},
     "output_type": "execute_result"
    }
   ],
   "source": [
    "## Perform regresssion with 34 independent variables\n",
    "##         Item_Weight with %missing values above threshold is dropped\n",
    "\n",
    "X = df[updated_vars]\n",
    "y = df.Calories\n",
    "X_train, X_test, y_train, y_test = train_test_split(X, y, test_size=0.3, random_state=99)\n",
    "lm = LinearRegression()\n",
    "lm.fit(X_train, y_train)\n",
    "y_pred = lm.predict(X_test)\n",
    "[np.sqrt(metrics.mean_squared_error(y_test,y_pred)),metrics.r2_score(y_test,y_pred)]"
   ]
  },
  {
   "cell_type": "markdown",
   "metadata": {},
   "source": [
    "## Low Variance Filtering"
   ]
  },
  {
   "cell_type": "code",
   "execution_count": 89,
   "metadata": {},
   "outputs": [
    {
     "data": {
      "text/plain": [
       "Vitamin A (IU)                   7.570185e+06\n",
       "Calories                         3.180495e+04\n",
       "Fats                             4.354305e+02\n",
       "Carbs                            1.537483e+02\n",
       "Net carbs                        1.340756e+02\n",
       "Protein                          1.115599e+02\n",
       "Monounsaturated Fat              9.910115e+01\n",
       "Saturated Fat                    8.257682e+01\n",
       "Polyunsaturated fat              2.683947e+01\n",
       "Fiber                            2.527423e+00\n",
       "Sodium                           5.395126e-01\n",
       "Category Name_Meat               2.039323e-01\n",
       "Category Name_Seafood            1.854698e-01\n",
       "Category Name_Dairy              1.575553e-01\n",
       "Category Name_Fruits             1.345877e-01\n",
       "Category Name_Oils and Sauces    1.036950e-01\n",
       "Calcium                          3.944457e-02\n",
       "Potassium                        3.918942e-02\n",
       "Phosphorus                       2.259570e-02\n",
       "Cholesterol                      2.080215e-02\n",
       "Magnesium                        7.615108e-04\n",
       "Vitamin C                        3.244798e-04\n",
       "Vitamin B2                       8.288079e-05\n",
       "Zinc                             2.428949e-05\n",
       "Vitamin B3                       1.199757e-05\n",
       "Iron                             5.341320e-06\n",
       "Copper                           8.466139e-07\n",
       "Vitamin B5                       7.161047e-07\n",
       "Vitamin A RAE                    6.723668e-07\n",
       "Manganese                        2.282415e-07\n",
       "Vitamin B6                       4.043860e-08\n",
       "Vitamin B1                       2.734233e-08\n",
       "Folate                           2.142860e-09\n",
       "Selenium                         4.425192e-10\n",
       "Vitamin B12                      6.899157e-11\n",
       "dtype: float64"
      ]
     },
     "execution_count": 89,
     "metadata": {},
     "output_type": "execute_result"
    }
   ],
   "source": [
    "# Compute variance of each feature\n",
    "df = dummy_df.copy().dropna()\n",
    "df.var().sort_values(ascending=False)"
   ]
  },
  {
   "cell_type": "code",
   "execution_count": 90,
   "metadata": {},
   "outputs": [
    {
     "data": {
      "text/plain": [
       "['Carbs',\n",
       " 'Fats',\n",
       " 'Monounsaturated Fat',\n",
       " 'Net carbs',\n",
       " 'Polyunsaturated fat',\n",
       " 'Protein',\n",
       " 'Saturated Fat',\n",
       " 'Vitamin A (IU)']"
      ]
     },
     "execution_count": 90,
     "metadata": {},
     "output_type": "execute_result"
    }
   ],
   "source": [
    "min_var_threshold = 10\n",
    "updated_vars = [ ]\n",
    "for i in range(0,len(df[input_vars].var())):\n",
    "\n",
    "    if df[input_vars].var().iloc[i] >= min_var_threshold:   \n",
    "        updated_vars.append(df[input_vars].columns[i])\n",
    "updated_vars"
   ]
  },
  {
   "cell_type": "code",
   "execution_count": 91,
   "metadata": {},
   "outputs": [
    {
     "name": "stderr",
     "output_type": "stream",
     "text": [
      "C:\\Users\\nadda\\AppData\\Local\\Temp\\ipykernel_10456\\1561887200.py:5: SettingWithCopyWarning: \n",
      "A value is trying to be set on a copy of a slice from a DataFrame.\n",
      "Try using .loc[row_indexer,col_indexer] = value instead\n",
      "\n",
      "See the caveats in the documentation: https://pandas.pydata.org/pandas-docs/stable/user_guide/indexing.html#returning-a-view-versus-a-copy\n",
      "  df2['Calories']=df['Calories']\n"
     ]
    },
    {
     "data": {
      "text/html": [
       "<div>\n",
       "<style scoped>\n",
       "    .dataframe tbody tr th:only-of-type {\n",
       "        vertical-align: middle;\n",
       "    }\n",
       "\n",
       "    .dataframe tbody tr th {\n",
       "        vertical-align: top;\n",
       "    }\n",
       "\n",
       "    .dataframe thead th {\n",
       "        text-align: right;\n",
       "    }\n",
       "</style>\n",
       "<table border=\"1\" class=\"dataframe\">\n",
       "  <thead>\n",
       "    <tr style=\"text-align: right;\">\n",
       "      <th></th>\n",
       "      <th>Carbs</th>\n",
       "      <th>Fats</th>\n",
       "      <th>Monounsaturated Fat</th>\n",
       "      <th>Net carbs</th>\n",
       "      <th>Polyunsaturated fat</th>\n",
       "      <th>Protein</th>\n",
       "      <th>Saturated Fat</th>\n",
       "      <th>Vitamin A (IU)</th>\n",
       "      <th>Calories</th>\n",
       "    </tr>\n",
       "  </thead>\n",
       "  <tbody>\n",
       "    <tr>\n",
       "      <th>1</th>\n",
       "      <td>14.0</td>\n",
       "      <td>0.17</td>\n",
       "      <td>0.01</td>\n",
       "      <td>11.0</td>\n",
       "      <td>0.05</td>\n",
       "      <td>0.26</td>\n",
       "      <td>0.03</td>\n",
       "      <td>54.0</td>\n",
       "      <td>52.0</td>\n",
       "    </tr>\n",
       "    <tr>\n",
       "      <th>2</th>\n",
       "      <td>11.0</td>\n",
       "      <td>0.39</td>\n",
       "      <td>0.17</td>\n",
       "      <td>9.1</td>\n",
       "      <td>0.08</td>\n",
       "      <td>1.40</td>\n",
       "      <td>0.03</td>\n",
       "      <td>1279.0</td>\n",
       "      <td>48.0</td>\n",
       "    </tr>\n",
       "    <tr>\n",
       "      <th>3</th>\n",
       "      <td>63.0</td>\n",
       "      <td>0.51</td>\n",
       "      <td>0.07</td>\n",
       "      <td>55.0</td>\n",
       "      <td>0.07</td>\n",
       "      <td>3.40</td>\n",
       "      <td>0.02</td>\n",
       "      <td>3604.0</td>\n",
       "      <td>241.0</td>\n",
       "    </tr>\n",
       "    <tr>\n",
       "      <th>4</th>\n",
       "      <td>8.5</td>\n",
       "      <td>15.00</td>\n",
       "      <td>9.80</td>\n",
       "      <td>1.8</td>\n",
       "      <td>1.80</td>\n",
       "      <td>2.00</td>\n",
       "      <td>2.10</td>\n",
       "      <td>146.0</td>\n",
       "      <td>160.0</td>\n",
       "    </tr>\n",
       "    <tr>\n",
       "      <th>5</th>\n",
       "      <td>23.0</td>\n",
       "      <td>0.33</td>\n",
       "      <td>0.03</td>\n",
       "      <td>20.0</td>\n",
       "      <td>0.07</td>\n",
       "      <td>1.10</td>\n",
       "      <td>0.11</td>\n",
       "      <td>64.0</td>\n",
       "      <td>89.0</td>\n",
       "    </tr>\n",
       "  </tbody>\n",
       "</table>\n",
       "</div>"
      ],
      "text/plain": [
       "   Carbs   Fats  Monounsaturated Fat  Net carbs  Polyunsaturated fat  Protein  \\\n",
       "1   14.0   0.17                 0.01       11.0                 0.05     0.26   \n",
       "2   11.0   0.39                 0.17        9.1                 0.08     1.40   \n",
       "3   63.0   0.51                 0.07       55.0                 0.07     3.40   \n",
       "4    8.5  15.00                 9.80        1.8                 1.80     2.00   \n",
       "5   23.0   0.33                 0.03       20.0                 0.07     1.10   \n",
       "\n",
       "   Saturated Fat  Vitamin A (IU)  Calories  \n",
       "1           0.03            54.0      52.0  \n",
       "2           0.03          1279.0      48.0  \n",
       "3           0.02          3604.0     241.0  \n",
       "4           2.10           146.0     160.0  \n",
       "5           0.11            64.0      89.0  "
      ]
     },
     "execution_count": 91,
     "metadata": {},
     "output_type": "execute_result"
    }
   ],
   "source": [
    "# Above, there are 3 features with variance >= minimum variance threshold\n",
    "# Create new data frame with these 3 features and 1 output\n",
    "\n",
    "df2 = df[updated_vars]\n",
    "df2['Calories']=df['Calories']\n",
    "df2.head()"
   ]
  },
  {
   "cell_type": "code",
   "execution_count": 92,
   "metadata": {},
   "outputs": [
    {
     "data": {
      "text/plain": [
       "[4.609324138442551, 0.9995029761946536]"
      ]
     },
     "execution_count": 92,
     "metadata": {},
     "output_type": "execute_result"
    }
   ],
   "source": [
    "df2 = df2.dropna()\n",
    "X = df2[updated_vars]\n",
    "y = df2.Calories\n",
    "X_train, X_test, y_train, y_test = train_test_split(X, y, test_size=0.3, random_state=99)\n",
    "lm = LinearRegression()\n",
    "lm.fit(X_train, y_train)\n",
    "y_pred = lm.predict(X_test)\n",
    "[np.sqrt(metrics.mean_squared_error(y_test,y_pred)),metrics.r2_score(y_test,y_pred)]"
   ]
  },
  {
   "cell_type": "markdown",
   "metadata": {},
   "source": [
    "## High Correlation Filtering"
   ]
  },
  {
   "cell_type": "code",
   "execution_count": 93,
   "metadata": {},
   "outputs": [
    {
     "data": {
      "image/png": "[encoded data removed]",
      "text/plain": [
       "<Figure size 1500x800 with 2 Axes>"
      ]
     },
     "metadata": {},
     "output_type": "display_data"
    }
   ],
   "source": [
    "# Plot correlation of numerical data\n",
    "df = dummy_df.copy()\n",
    "plt.figure(figsize=(15,8))\n",
    "sns.heatmap(df.corr(),\n",
    "            square=True,\n",
    "            linewidths=0.25,    \n",
    "            linecolor=(0,0,0),\n",
    "            cmap=sns.color_palette(\"coolwarm\"),\n",
    "            annot=False)\n",
    "plt.show()"
   ]
  },
  {
   "cell_type": "code",
   "execution_count": 94,
   "metadata": {},
   "outputs": [
    {
     "data": {
      "text/plain": [
       "Calcium                         -0.164789\n",
       "Calories                        -0.384284\n",
       "Carbs                            0.488591\n",
       "Cholesterol                     -0.298988\n",
       "Copper                          -0.054399\n",
       "Fats                            -0.332567\n",
       "Fiber                            0.628375\n",
       "Folate                          -0.024747\n",
       "Iron                            -0.190209\n",
       "Magnesium                       -0.124898\n",
       "Monounsaturated Fat             -0.265678\n",
       "Net carbs                        0.421343\n",
       "Phosphorus                      -0.493135\n",
       "Polyunsaturated fat             -0.172601\n",
       "Potassium                       -0.022696\n",
       "Protein                         -0.588094\n",
       "Saturated Fat                   -0.265589\n",
       "Selenium                        -0.427561\n",
       "Sodium                          -0.258881\n",
       "Vitamin A (IU)                  -0.020022\n",
       "Vitamin A RAE                   -0.064965\n",
       "Vitamin B1                      -0.185581\n",
       "Vitamin B12                     -0.162228\n",
       "Vitamin B2                      -0.039229\n",
       "Vitamin B3                      -0.327287\n",
       "Vitamin B5                      -0.252603\n",
       "Vitamin B6                      -0.270878\n",
       "Vitamin C                        0.226649\n",
       "Zinc                            -0.181276\n",
       "Manganese                        0.080062\n",
       "Category Name_Dairy             -0.231680\n",
       "Category Name_Fruits             1.000000\n",
       "Category Name_Meat              -0.325930\n",
       "Category Name_Oils and Sauces   -0.222190\n",
       "Category Name_Seafood           -0.288430\n",
       "Name: Category Name_Fruits, dtype: float64"
      ]
     },
     "execution_count": 94,
     "metadata": {},
     "output_type": "execute_result"
    }
   ],
   "source": [
    "corr_df = df.corr()\n",
    "corr_df['Category Name_Fruits']"
   ]
  },
  {
   "cell_type": "code",
   "execution_count": 95,
   "metadata": {},
   "outputs": [
    {
     "data": {
      "text/plain": [
       "[27.13374795495167, 0.9827764661245804]"
      ]
     },
     "execution_count": 95,
     "metadata": {},
     "output_type": "execute_result"
    }
   ],
   "source": [
    "## Perform regresssion with 35 original independent variables\n",
    "\n",
    "df = df.dropna()\n",
    "X = df[input_vars]\n",
    "y = df['Calories']\n",
    "X_train, X_test, y_train, y_test = train_test_split(X, y, test_size=0.3, random_state=99)\n",
    "lm = LinearRegression()\n",
    "lm.fit(X_train, y_train)\n",
    "y_pred = lm.predict(X_test)\n",
    "[np.sqrt(metrics.mean_squared_error(y_test,y_pred)),metrics.r2_score(y_test,y_pred)]"
   ]
  },
  {
   "cell_type": "code",
   "execution_count": 96,
   "metadata": {},
   "outputs": [
    {
     "data": {
      "text/plain": [
       "(282, 35)"
      ]
     },
     "execution_count": 96,
     "metadata": {},
     "output_type": "execute_result"
    }
   ],
   "source": [
    "df.shape"
   ]
  },
  {
   "cell_type": "code",
   "execution_count": 97,
   "metadata": {},
   "outputs": [
    {
     "data": {
      "text/plain": [
       "33"
      ]
     },
     "execution_count": 97,
     "metadata": {},
     "output_type": "execute_result"
    }
   ],
   "source": [
    "'''\n",
    "Highly Correlate Pair\n",
    "Protein กับ Phosphorus\n",
    "Protein กับ Fiber\n",
    "Protein กับ Carb\n",
    "Fats กับ Saturated Fat\n",
    "Fats กับ Monounsaturated Fat\n",
    "Fats กับ Polyunsaturated Fat\n",
    "'''\n",
    "\n",
    "updated_vars = list(input_vars)\n",
    "updated_vars.remove('Fats')\n",
    "len(updated_vars )"
   ]
  },
  {
   "cell_type": "code",
   "execution_count": 98,
   "metadata": {},
   "outputs": [
    {
     "data": {
      "text/plain": [
       "[81.44830926573418, 0.8448088906894944]"
      ]
     },
     "execution_count": 98,
     "metadata": {},
     "output_type": "execute_result"
    }
   ],
   "source": [
    "df = df.dropna()\n",
    "X = df[updated_vars]\n",
    "y = df['Calories']\n",
    "X_train, X_test, y_train, y_test = train_test_split(X, y, test_size=0.3, random_state=99)\n",
    "lm = LinearRegression()\n",
    "lm.fit(X_train, y_train)\n",
    "y_pred = lm.predict(X_test)\n",
    "[np.sqrt(metrics.mean_squared_error(y_test,y_pred)),metrics.r2_score(y_test,y_pred)]"
   ]
  },
  {
   "cell_type": "code",
   "execution_count": 99,
   "metadata": {},
   "outputs": [
    {
     "data": {
      "text/plain": [
       "(384, 34)"
      ]
     },
     "execution_count": 99,
     "metadata": {},
     "output_type": "execute_result"
    }
   ],
   "source": [
    "df=dummy_df.copy()\n",
    "df=df.drop('Protein', axis=1)\n",
    "df.shape"
   ]
  },
  {
   "cell_type": "code",
   "execution_count": 100,
   "metadata": {},
   "outputs": [
    {
     "data": {
      "text/plain": [
       "33"
      ]
     },
     "execution_count": 100,
     "metadata": {},
     "output_type": "execute_result"
    }
   ],
   "source": [
    "updated_vars = list(input_vars)\n",
    "updated_vars.remove('Protein')\n",
    "len(updated_vars)"
   ]
  },
  {
   "cell_type": "code",
   "execution_count": 101,
   "metadata": {},
   "outputs": [
    {
     "data": {
      "text/plain": [
       "['Calcium',\n",
       " 'Carbs',\n",
       " 'Cholesterol',\n",
       " 'Copper',\n",
       " 'Fats',\n",
       " 'Fiber',\n",
       " 'Folate',\n",
       " 'Iron',\n",
       " 'Magnesium',\n",
       " 'Monounsaturated Fat',\n",
       " 'Net carbs',\n",
       " 'Phosphorus',\n",
       " 'Polyunsaturated fat',\n",
       " 'Potassium',\n",
       " 'Saturated Fat',\n",
       " 'Selenium',\n",
       " 'Sodium',\n",
       " 'Vitamin A (IU)',\n",
       " 'Vitamin A RAE',\n",
       " 'Vitamin B1',\n",
       " 'Vitamin B12',\n",
       " 'Vitamin B2',\n",
       " 'Vitamin B3',\n",
       " 'Vitamin B5',\n",
       " 'Vitamin B6',\n",
       " 'Vitamin C',\n",
       " 'Zinc',\n",
       " 'Manganese',\n",
       " 'Category Name_Dairy',\n",
       " 'Category Name_Fruits',\n",
       " 'Category Name_Meat',\n",
       " 'Category Name_Oils and Sauces',\n",
       " 'Category Name_Seafood']"
      ]
     },
     "execution_count": 101,
     "metadata": {},
     "output_type": "execute_result"
    }
   ],
   "source": [
    "updated_vars"
   ]
  },
  {
   "cell_type": "code",
   "execution_count": 33,
   "metadata": {},
   "outputs": [
    {
     "data": {
      "text/plain": [
       "[64.79436417078612, 0.9017851505071721]"
      ]
     },
     "execution_count": 33,
     "metadata": {},
     "output_type": "execute_result"
    }
   ],
   "source": [
    "## Perform regresssion with 34 original independent variables\n",
    "##         with dropping feature with highest correlation with output (Item_MRP)\n",
    "\n",
    "df = df.dropna()\n",
    "X = df[updated_vars]\n",
    "y = df.Calories\n",
    "X_train, X_test, y_train, y_test = train_test_split(X, y, test_size=0.3, random_state=99)\n",
    "lm = LinearRegression()\n",
    "lm.fit(X_train, y_train)\n",
    "y_pred = lm.predict(X_test)\n",
    "[np.sqrt(metrics.mean_squared_error(y_test,y_pred)),metrics.r2_score(y_test,y_pred)]\n",
    "\n",
    "# As you can see, when high-correlated feature with output is dropped.\n",
    "#                 the performance drops significantly "
   ]
  },
  {
   "cell_type": "markdown",
   "metadata": {},
   "source": [
    "# Wrapper Methods"
   ]
  },
  {
   "cell_type": "markdown",
   "metadata": {},
   "source": [
    "## Forward Feature Selection"
   ]
  },
  {
   "cell_type": "code",
   "execution_count": 34,
   "metadata": {},
   "outputs": [],
   "source": [
    "df = dummy_df.copy().dropna()\n",
    "df = df.dropna()"
   ]
  },
  {
   "cell_type": "code",
   "execution_count": 35,
   "metadata": {},
   "outputs": [
    {
     "data": {
      "text/plain": [
       "array([1.16363295e+01, 1.24581466e+00, 7.04539925e+00, 6.92270735e-01,\n",
       "       4.11182194e+03, 1.12927363e+01, 9.86777392e-01, 4.79890421e-02,\n",
       "       1.15650943e+00, 8.07116498e+02, 5.59850264e-01, 2.62293159e+00,\n",
       "       2.32083353e+02, 7.59326348e+00, 1.78448712e-01, 4.05631133e+02,\n",
       "       2.13156019e+00, 1.77872216e-01, 1.60215440e-01, 4.09352650e-01,\n",
       "       1.81750498e+00, 2.35080965e-01, 2.95010494e-01, 1.60656493e-01,\n",
       "       1.13003648e-02, 3.35391301e+00, 1.80257195e+01, 6.62703832e-03,\n",
       "       1.11455700e+00, 3.30719807e+00, 3.68215839e+01, 5.42890135e+00,\n",
       "       4.36424984e+01, 1.54056101e+01])"
      ]
     },
     "execution_count": 35,
     "metadata": {},
     "output_type": "execute_result"
    }
   ],
   "source": [
    "from sklearn.feature_selection import f_regression\n",
    "fstat, pval = f_regression(df[input_vars], df['Calories'])\n",
    "fstat"
   ]
  },
  {
   "cell_type": "code",
   "execution_count": 36,
   "metadata": {},
   "outputs": [
    {
     "data": {
      "text/plain": [
       "array([7.42086854e-004, 2.65310305e-001, 8.40147795e-003, 4.06102127e-001,\n",
       "       2.10880619e-169, 8.86265521e-004, 3.21388952e-001, 8.26759781e-001,\n",
       "       2.83116416e-001, 1.84324398e-084, 4.54948582e-001, 1.06455402e-001,\n",
       "       1.38808213e-038, 6.24299853e-003, 6.73033997e-001, 2.18950769e-056,\n",
       "       1.45414883e-001, 6.73531849e-001, 6.89263456e-001, 5.22821405e-001,\n",
       "       1.78700144e-001, 6.28160786e-001, 5.87459553e-001, 6.88858497e-001,\n",
       "       9.15417933e-001, 6.81078831e-002, 2.96793581e-005, 9.35176741e-001,\n",
       "       2.92003555e-001, 7.00452726e-002, 4.19152778e-009, 2.05169623e-002,\n",
       "       1.97980570e-010, 1.09228511e-004])"
      ]
     },
     "execution_count": 36,
     "metadata": {},
     "output_type": "execute_result"
    }
   ],
   "source": [
    "pval"
   ]
  },
  {
   "cell_type": "code",
   "execution_count": 37,
   "metadata": {},
   "outputs": [
    {
     "data": {
      "text/plain": [
       "['Calcium',\n",
       " 'Cholesterol',\n",
       " 'Fats',\n",
       " 'Fiber',\n",
       " 'Monounsaturated Fat',\n",
       " 'Polyunsaturated fat',\n",
       " 'Potassium',\n",
       " 'Saturated Fat',\n",
       " 'Vitamin C',\n",
       " 'Category Name_Fruits',\n",
       " 'Category Name_Meat',\n",
       " 'Category Name_Oils and Sauces']"
      ]
     },
     "execution_count": 37,
     "metadata": {},
     "output_type": "execute_result"
    }
   ],
   "source": [
    "f_value_threshold = 5 # can adjust this value \n",
    "updated_vars = []\n",
    "for i in range(0,len(input_vars)-1):\n",
    "    if fstat[i] >= f_value_threshold:\n",
    "        updated_vars.append(df[input_vars].columns[i])\n",
    "updated_vars"
   ]
  },
  {
   "cell_type": "code",
   "execution_count": 38,
   "metadata": {},
   "outputs": [
    {
     "data": {
      "text/plain": [
       "[29.507383224396264, 0.9796312637489248]"
      ]
     },
     "execution_count": 38,
     "metadata": {},
     "output_type": "execute_result"
    }
   ],
   "source": [
    "X = df[updated_vars]\n",
    "y = df['Calories']\n",
    "X_train, X_test, y_train, y_test = train_test_split(X, y, test_size=0.3, random_state=99)\n",
    "lm = LinearRegression()\n",
    "lm.fit(X_train, y_train)\n",
    "y_pred = lm.predict(X_test)\n",
    "[np.sqrt(metrics.mean_squared_error(y_test,y_pred)),metrics.r2_score(y_test,y_pred)]"
   ]
  },
  {
   "cell_type": "markdown",
   "metadata": {},
   "source": [
    "## Recursive Feature Elimination"
   ]
  },
  {
   "cell_type": "code",
   "execution_count": 39,
   "metadata": {},
   "outputs": [],
   "source": [
    "df = dummy_df.copy().dropna()\n",
    "df = df.dropna()"
   ]
  },
  {
   "cell_type": "code",
   "execution_count": 40,
   "metadata": {},
   "outputs": [],
   "source": [
    "from sklearn.linear_model import LinearRegression\n",
    "from sklearn.feature_selection import RFE\n",
    "\n",
    "X = df[input_vars]\n",
    "y = df['Calories']\n",
    "n_features = 26  # define by yourself to select important features\n",
    "\n",
    "rfe = RFE(LinearRegression(), n_features_to_select=n_features)\n",
    "model = rfe.fit(X, y)"
   ]
  },
  {
   "cell_type": "code",
   "execution_count": 41,
   "metadata": {},
   "outputs": [
    {
     "data": {
      "text/plain": [
       "array([1, 1, 1, 1, 1, 8, 1, 1, 1, 5, 1, 3, 7, 1, 1, 6, 1, 4, 9, 1, 1, 1,\n",
       "       1, 1, 1, 1, 1, 1, 1, 1, 1, 1, 2, 1])"
      ]
     },
     "execution_count": 41,
     "metadata": {},
     "output_type": "execute_result"
    }
   ],
   "source": [
    "model.ranking_"
   ]
  },
  {
   "cell_type": "code",
   "execution_count": 42,
   "metadata": {},
   "outputs": [
    {
     "data": {
      "text/plain": [
       "array([ 1.50903256e+00,  2.49423251e+00,  4.58732526e+00,  2.66864454e+02,\n",
       "        8.89122966e+00, -1.37092054e+03, -6.49902434e+01, -4.98909858e+01,\n",
       "        1.38426463e+00, -4.33633226e+00,  4.15926704e+00,  2.53440014e+04,\n",
       "        1.80175386e+01,  3.04213351e+03, -4.12617633e+03,  4.07489720e+01,\n",
       "       -6.08121809e+01, -7.09110954e+02,  1.96773362e+03,  1.75302962e+01,\n",
       "        2.48769028e+00, -6.83245870e+01, -9.53279560e-01, -2.42600219e+00,\n",
       "        2.75082643e+00,  3.33856161e+00])"
      ]
     },
     "execution_count": 42,
     "metadata": {},
     "output_type": "execute_result"
    }
   ],
   "source": [
    "model.estimator_.coef_"
   ]
  },
  {
   "cell_type": "code",
   "execution_count": 43,
   "metadata": {},
   "outputs": [
    {
     "data": {
      "text/plain": [
       "['Calcium',\n",
       " 'Carbs',\n",
       " 'Cholesterol',\n",
       " 'Copper',\n",
       " 'Fats',\n",
       " 'Folate',\n",
       " 'Iron',\n",
       " 'Magnesium',\n",
       " 'Net carbs',\n",
       " 'Potassium',\n",
       " 'Protein',\n",
       " 'Selenium',\n",
       " 'Vitamin A RAE',\n",
       " 'Vitamin B1',\n",
       " 'Vitamin B12',\n",
       " 'Vitamin B2',\n",
       " 'Vitamin B3',\n",
       " 'Vitamin B5',\n",
       " 'Vitamin B6',\n",
       " 'Vitamin C',\n",
       " 'Zinc',\n",
       " 'Manganese',\n",
       " 'Category Name_Dairy',\n",
       " 'Category Name_Fruits',\n",
       " 'Category Name_Meat']"
      ]
     },
     "execution_count": 43,
     "metadata": {},
     "output_type": "execute_result"
    }
   ],
   "source": [
    "updated_vars = []\n",
    "for i in range(0,len(input_vars)-1):\n",
    "    if model.ranking_[i] == 1:\n",
    "        updated_vars.append(df[input_vars].columns[i])\n",
    "updated_vars"
   ]
  },
  {
   "cell_type": "code",
   "execution_count": 44,
   "metadata": {},
   "outputs": [
    {
     "data": {
      "text/plain": [
       "[6.672115988352841, 0.9989585705241005]"
      ]
     },
     "execution_count": 44,
     "metadata": {},
     "output_type": "execute_result"
    }
   ],
   "source": [
    "X = df[updated_vars]\n",
    "y = df['Calories']\n",
    "X_train, X_test, y_train, y_test = train_test_split(X, y, test_size=0.3, random_state=99)\n",
    "lm = LinearRegression()\n",
    "lm.fit(X_train, y_train)\n",
    "y_pred = lm.predict(X_test)\n",
    "[np.sqrt(metrics.mean_squared_error(y_test,y_pred)),metrics.r2_score(y_test,y_pred)]"
   ]
  },
  {
   "cell_type": "code",
   "execution_count": 45,
   "metadata": {},
   "outputs": [
    {
     "data": {
      "text/plain": [
       "array([  207.15298201,   183.63899505,   131.46791149,   268.36232143,\n",
       "         174.18188626,   293.06428144,   119.34729765,   224.94864416,\n",
       "         181.86684926,    65.32477801,   115.58927523,   202.37272594,\n",
       "         190.39553019,   162.89801585,   122.3305533 ,   153.11098904,\n",
       "         189.02334239,   186.42825766,   183.91146501,   232.59096643,\n",
       "         334.92932928,   167.27371932,   188.55135456,   188.55135456,\n",
       "         184.46851139,   151.63004812,   108.11009176,   167.67078645,\n",
       "         179.70820249,   174.70632438,   285.98496918, 18271.92407866,\n",
       "         234.13678819,   231.83897483,   195.48384153,   203.98477852,\n",
       "         204.97219337,   181.56148389,   210.37877706,   256.3243279 ,\n",
       "         223.25647482,   183.2495805 ,   284.16859429,   159.04471964,\n",
       "         213.6368903 ,   196.51172067,   152.07551109,   364.31140561,\n",
       "         202.75644979,   184.71791557,   297.46409339,   208.21522248,\n",
       "         381.85442145,   188.55135456,   182.56641142,   183.68780055,\n",
       "         187.75798849,   186.85937176,   317.15731321,   269.12405093,\n",
       "         208.74740247,   188.55135456,   221.31875189,   351.93407138,\n",
       "         216.96265974,   138.82452004,   243.29776902,   191.29316743,\n",
       "         156.0489375 ,   301.75271116,   186.40157347,   390.67922285,\n",
       "         287.39243127,   185.04410637,   318.26135773,   255.46946066,\n",
       "         210.26115442,   160.98667521,   272.4079736 ,   250.03481817,\n",
       "         170.05260629,   197.46340123,  1977.26384204,   224.81274085,\n",
       "         244.13251915])"
      ]
     },
     "execution_count": 45,
     "metadata": {},
     "output_type": "execute_result"
    }
   ],
   "source": [
    "from sklearn.linear_model import LinearRegression\n",
    "from sklearn.feature_selection import RFE\n",
    "\n",
    "X = df[input_vars]\n",
    "y = df['Calories']\n",
    "X_train, X_test, y_train, y_test = train_test_split(X, y, test_size=0.3, random_state=99)\n",
    "n_features = 10  # define by yourself to select important features\n",
    "\n",
    "rfe = RFE(LinearRegression(), n_features_to_select=n_features)\n",
    "model = rfe.fit(X_train, y_train)\n",
    "y_pred = model.predict(X_test)\n",
    "y_pred"
   ]
  },
  {
   "cell_type": "markdown",
   "metadata": {},
   "source": [
    "# Embedded Methods"
   ]
  },
  {
   "cell_type": "markdown",
   "metadata": {},
   "source": [
    "## Regression & Lasso (L1)"
   ]
  },
  {
   "cell_type": "code",
   "execution_count": 46,
   "metadata": {},
   "outputs": [],
   "source": [
    "df = dummy_df.copy().dropna()\n",
    "df = df.dropna()\n",
    "X = df[input_vars]\n",
    "y = df['Calories']\n",
    "X_train, X_test, y_train, y_test = train_test_split(X, y, test_size=0.3, random_state=99)"
   ]
  },
  {
   "cell_type": "code",
   "execution_count": 47,
   "metadata": {},
   "outputs": [
    {
     "data": {
      "text/plain": [
       "[27.13374795495167, 0.9827764661245804]"
      ]
     },
     "execution_count": 47,
     "metadata": {},
     "output_type": "execute_result"
    }
   ],
   "source": [
    "lm = LinearRegression()\n",
    "lm.fit(X_train, y_train)\n",
    "y_pred = lm.predict(X_test)\n",
    "[np.sqrt(metrics.mean_squared_error(y_test,y_pred)),metrics.r2_score(y_test,y_pred)]"
   ]
  },
  {
   "cell_type": "code",
   "execution_count": 48,
   "metadata": {},
   "outputs": [
    {
     "data": {
      "text/plain": [
       "[4.309234332289118, 0.9995655869001477]"
      ]
     },
     "execution_count": 48,
     "metadata": {},
     "output_type": "execute_result"
    }
   ],
   "source": [
    "from sklearn.linear_model import Lasso\n",
    "\n",
    "## Perform regresssion with embedded lasso \n",
    "## set alpha (weight of penalty term) = 1\n",
    "\n",
    "lasso = Lasso(alpha=1)\n",
    "model = lasso.fit(X_train, y_train)\n",
    "y_pred = model.predict(X_test)\n",
    "[np.sqrt(metrics.mean_squared_error(y_test,y_pred)),metrics.r2_score(y_test,y_pred)]"
   ]
  },
  {
   "cell_type": "code",
   "execution_count": 49,
   "metadata": {},
   "outputs": [
    {
     "data": {
      "text/plain": [
       "[array([-0.00000000e+00,  1.55884268e+00,  0.00000000e+00,  0.00000000e+00,\n",
       "         8.90897656e+00,  0.00000000e+00, -0.00000000e+00, -0.00000000e+00,\n",
       "        -0.00000000e+00, -0.00000000e+00,  2.24310761e+00, -0.00000000e+00,\n",
       "         0.00000000e+00, -0.00000000e+00,  4.14186478e+00,  0.00000000e+00,\n",
       "         0.00000000e+00, -0.00000000e+00,  4.41792403e-05,  0.00000000e+00,\n",
       "         0.00000000e+00,  0.00000000e+00, -0.00000000e+00,  0.00000000e+00,\n",
       "        -0.00000000e+00,  0.00000000e+00,  0.00000000e+00,  0.00000000e+00,\n",
       "        -0.00000000e+00, -0.00000000e+00, -0.00000000e+00,  0.00000000e+00,\n",
       "        -0.00000000e+00,  0.00000000e+00]),\n",
       " 2.484537323105087]"
      ]
     },
     "execution_count": 49,
     "metadata": {},
     "output_type": "execute_result"
    }
   ],
   "source": [
    "[model.coef_, model.intercept_]"
   ]
  },
  {
   "cell_type": "code",
   "execution_count": 50,
   "metadata": {},
   "outputs": [
    {
     "data": {
      "text/plain": [
       "[4.417924034267226e-05,\n",
       " 1.5588426840244185,\n",
       " 2.24310760690113,\n",
       " 4.141864779257759,\n",
       " 8.908976562233065]"
      ]
     },
     "execution_count": 50,
     "metadata": {},
     "output_type": "execute_result"
    }
   ],
   "source": [
    "index = np.argsort(model.coef_)\n",
    "coef = [model.coef_[index[i]] for i in range(len(model.coef_))  if model.coef_[index[i]] != 0]\n",
    "update_vars = [input_vars[index[i]] for i in range(len(model.coef_))  if model.coef_[index[i]] != 0]\n",
    "coef"
   ]
  },
  {
   "cell_type": "code",
   "execution_count": 51,
   "metadata": {},
   "outputs": [
    {
     "data": {
      "text/plain": [
       "['Vitamin A (IU)', 'Carbs', 'Net carbs', 'Protein', 'Fats']"
      ]
     },
     "execution_count": 51,
     "metadata": {},
     "output_type": "execute_result"
    }
   ],
   "source": [
    "update_vars"
   ]
  },
  {
   "cell_type": "code",
   "execution_count": 52,
   "metadata": {},
   "outputs": [
    {
     "data": {
      "text/plain": [
       "5"
      ]
     },
     "execution_count": 52,
     "metadata": {},
     "output_type": "execute_result"
    }
   ],
   "source": [
    "len(update_vars)"
   ]
  },
  {
   "cell_type": "code",
   "execution_count": 53,
   "metadata": {},
   "outputs": [
    {
     "data": {
      "text/plain": [
       "[4.309234332289118, 0.9994471480978195]"
      ]
     },
     "execution_count": 53,
     "metadata": {},
     "output_type": "execute_result"
    }
   ],
   "source": [
    "lasso2 = Lasso(alpha=10)\n",
    "model2 = lasso2.fit(X_train, y_train)\n",
    "y_pred2 = model2.predict(X_test)\n",
    "[np.sqrt(metrics.mean_squared_error(y_test,y_pred)),metrics.r2_score(y_test,y_pred2)]"
   ]
  },
  {
   "cell_type": "code",
   "execution_count": 54,
   "metadata": {},
   "outputs": [
    {
     "data": {
      "text/plain": [
       "[array([-0.00000000e+00,  1.21282742e+00,  0.00000000e+00,  0.00000000e+00,\n",
       "         8.86078476e+00,  0.00000000e+00, -0.00000000e+00,  0.00000000e+00,\n",
       "        -0.00000000e+00,  0.00000000e+00,  2.45011419e+00,  0.00000000e+00,\n",
       "         0.00000000e+00,  0.00000000e+00,  3.96069600e+00,  0.00000000e+00,\n",
       "         0.00000000e+00, -0.00000000e+00,  6.65603595e-05,  0.00000000e+00,\n",
       "         0.00000000e+00,  0.00000000e+00,  0.00000000e+00,  0.00000000e+00,\n",
       "        -0.00000000e+00,  0.00000000e+00, -0.00000000e+00,  0.00000000e+00,\n",
       "         0.00000000e+00, -0.00000000e+00, -0.00000000e+00,  0.00000000e+00,\n",
       "        -0.00000000e+00,  0.00000000e+00]),\n",
       " 7.011632002929815]"
      ]
     },
     "execution_count": 54,
     "metadata": {},
     "output_type": "execute_result"
    }
   ],
   "source": [
    "[model2.coef_, model2.intercept_]"
   ]
  },
  {
   "cell_type": "code",
   "execution_count": 55,
   "metadata": {},
   "outputs": [
    {
     "data": {
      "text/plain": [
       "[6.656035950914907e-05,\n",
       " 1.2128274153270218,\n",
       " 2.450114185789509,\n",
       " 3.9606960049249706,\n",
       " 8.860784757633516]"
      ]
     },
     "execution_count": 55,
     "metadata": {},
     "output_type": "execute_result"
    }
   ],
   "source": [
    "index = np.argsort(model2.coef_)\n",
    "coef2 = [model2.coef_[index[i]] for i in range(len(model2.coef_))  if model2.coef_[index[i]] != 0]\n",
    "update_vars2 = [input_vars[index[i]] for i in range(len(model2.coef_))  if model2.coef_[index[i]] != 0]\n",
    "coef2"
   ]
  },
  {
   "cell_type": "code",
   "execution_count": 56,
   "metadata": {},
   "outputs": [
    {
     "data": {
      "text/plain": [
       "['Vitamin A (IU)', 'Carbs', 'Net carbs', 'Protein', 'Fats']"
      ]
     },
     "execution_count": 56,
     "metadata": {},
     "output_type": "execute_result"
    }
   ],
   "source": [
    "update_vars2"
   ]
  },
  {
   "cell_type": "code",
   "execution_count": 57,
   "metadata": {},
   "outputs": [
    {
     "data": {
      "image/png": "[encoded data removed]",
      "text/plain": [
       "<Figure size 640x480 with 1 Axes>"
      ]
     },
     "metadata": {},
     "output_type": "display_data"
    }
   ],
   "source": [
    "plt.plot(input_vars,lm.coef_,alpha=0.5,linestyle='none',marker='*',markersize=10,color='red',label=r'Linear Regression',zorder=7) # zorder for ordering the markers\n",
    "plt.plot(input_vars,model.coef_,alpha=0.5,linestyle='none',marker='o',markersize=10,color='blue',label=r'Lasso; $\\alpha = 1$') # alpha here is for transparency\n",
    "plt.plot(input_vars,model2.coef_,alpha=0.5,linestyle='none',marker='d',markersize=15,color='green',label=r'Lasso; $\\alpha = 10$') # alpha here is for transparency\n",
    "plt.xlabel('Coefficient Index',fontsize=16)\n",
    "plt.ylabel('Coefficient Magnitude',fontsize=16)\n",
    "plt.legend(fontsize=13,loc='upper left')\n",
    "plt.xticks(input_vars, input_vars, rotation='vertical')\n",
    "plt.show()"
   ]
  },
  {
   "cell_type": "markdown",
   "metadata": {},
   "source": [
    "## Regression & Ridge (L2)"
   ]
  },
  {
   "cell_type": "code",
   "execution_count": 58,
   "metadata": {},
   "outputs": [
    {
     "data": {
      "text/plain": [
       "[4.381212976295401, 0.999550953391046]"
      ]
     },
     "execution_count": 58,
     "metadata": {},
     "output_type": "execute_result"
    }
   ],
   "source": [
    "from sklearn.linear_model import Ridge\n",
    "\n",
    "## Perform regresssion with ridge \n",
    "## set alpha (weight of penalty term) = 1\n",
    "\n",
    "X = df[input_vars]\n",
    "y = df['Calories']\n",
    "X_train, X_test, y_train, y_test = train_test_split(X, y, test_size=0.3, random_state=99)\n",
    "\n",
    "ridge = Ridge(alpha=1.0)\n",
    "model = ridge.fit(X_train, y_train)\n",
    "y_pred = model.predict(X_test)\n",
    "[np.sqrt(metrics.mean_squared_error(y_test,y_pred)),metrics.r2_score(y_test,y_pred)]"
   ]
  },
  {
   "cell_type": "code",
   "execution_count": 59,
   "metadata": {},
   "outputs": [
    {
     "data": {
      "text/plain": [
       "[array([-5.43748780e-01,  8.49444832e-01, -1.18925729e-01,  1.35399377e-02,\n",
       "         9.74439508e+00,  1.29775949e+00, -1.31236689e-03, -2.20774175e-01,\n",
       "        -6.21746834e+00, -8.92288228e-01,  3.01860335e+00, -2.15568667e+00,\n",
       "        -9.45420394e-01, -5.39317110e+00,  4.17644699e+00, -8.52091411e-01,\n",
       "         5.17573845e-04, -3.90853875e-01,  1.52929476e-05,  1.85663639e-03,\n",
       "         5.19895049e-03,  3.32423237e-06, -7.29624229e-03, -1.19264366e-01,\n",
       "        -5.84849060e-02, -4.37254978e-03,  8.04746402e-01, -2.05060845e-02,\n",
       "        -1.48241255e-02, -1.29278903e+00, -1.91234852e+00,  1.86562139e+00,\n",
       "        -6.12778098e-01,  1.95229426e+00]),\n",
       " 2.4702102853163126]"
      ]
     },
     "execution_count": 59,
     "metadata": {},
     "output_type": "execute_result"
    }
   ],
   "source": [
    "[model.coef_, model.intercept_]"
   ]
  },
  {
   "cell_type": "code",
   "execution_count": 60,
   "metadata": {},
   "outputs": [
    {
     "data": {
      "text/plain": [
       "[-6.2174683439945655,\n",
       " -5.3931710958207955,\n",
       " -2.155686670251182,\n",
       " -1.9123485219543819,\n",
       " -1.2927890306107328,\n",
       " -0.9454203939912447,\n",
       " -0.8922882283459191,\n",
       " -0.8520914107150552,\n",
       " -0.6127780983639356,\n",
       " -0.5437487802743649,\n",
       " -0.39085387481301953,\n",
       " -0.2207741751578829,\n",
       " -0.11926436601900117,\n",
       " -0.11892572931601542,\n",
       " -0.058484906034510974,\n",
       " -0.020506084466886065,\n",
       " -0.014824125452493309,\n",
       " -0.007296242286277433,\n",
       " -0.004372549782713901,\n",
       " -0.0013123668861201054,\n",
       " 3.324232368646562e-06,\n",
       " 1.529294759725985e-05,\n",
       " 0.000517573845244293,\n",
       " 0.00185663639005539,\n",
       " 0.005198950485953911,\n",
       " 0.013539937698374102,\n",
       " 0.8047464022852332,\n",
       " 0.849444831883984,\n",
       " 1.2977594896377274,\n",
       " 1.8656213924745304,\n",
       " 1.9522942584493128,\n",
       " 3.018603350241574,\n",
       " 4.17644699448576,\n",
       " 9.744395082651945]"
      ]
     },
     "execution_count": 60,
     "metadata": {},
     "output_type": "execute_result"
    }
   ],
   "source": [
    "index = np.argsort(model.coef_)\n",
    "coef = [model.coef_[index[i]] for i in range(len(model.coef_))  if model.coef_[index[i]] != 0]\n",
    "update_vars = [input_vars[index[i]] for i in range(len(model.coef_))  if model.coef_[index[i]] != 0]\n",
    "coef"
   ]
  },
  {
   "cell_type": "code",
   "execution_count": 61,
   "metadata": {},
   "outputs": [
    {
     "data": {
      "text/plain": [
       "['Magnesium',\n",
       " 'Potassium',\n",
       " 'Phosphorus',\n",
       " 'Category Name_Fruits',\n",
       " 'Category Name_Dairy',\n",
       " 'Polyunsaturated fat',\n",
       " 'Monounsaturated Fat',\n",
       " 'Saturated Fat',\n",
       " 'Category Name_Oils and Sauces',\n",
       " 'Calcium',\n",
       " 'Sodium',\n",
       " 'Iron',\n",
       " 'Vitamin B3',\n",
       " 'Cholesterol',\n",
       " 'Vitamin B5',\n",
       " 'Zinc',\n",
       " 'Manganese',\n",
       " 'Vitamin B2',\n",
       " 'Vitamin B6',\n",
       " 'Folate',\n",
       " 'Vitamin B12',\n",
       " 'Vitamin A (IU)',\n",
       " 'Selenium',\n",
       " 'Vitamin A RAE',\n",
       " 'Vitamin B1',\n",
       " 'Copper',\n",
       " 'Vitamin C',\n",
       " 'Carbs',\n",
       " 'Fiber',\n",
       " 'Category Name_Meat',\n",
       " 'Category Name_Seafood',\n",
       " 'Net carbs',\n",
       " 'Protein',\n",
       " 'Fats']"
      ]
     },
     "execution_count": 61,
     "metadata": {},
     "output_type": "execute_result"
    }
   ],
   "source": [
    "update_vars"
   ]
  },
  {
   "cell_type": "code",
   "execution_count": 62,
   "metadata": {},
   "outputs": [
    {
     "data": {
      "text/plain": [
       "[4.10052519816672, 0.999606647730206]"
      ]
     },
     "execution_count": 62,
     "metadata": {},
     "output_type": "execute_result"
    }
   ],
   "source": [
    "ridge = Ridge(alpha=10)\n",
    "model2 = ridge.fit(X_train, y_train)\n",
    "y_pred = model2.predict(X_test)\n",
    "[np.sqrt(metrics.mean_squared_error(y_test,y_pred)),metrics.r2_score(y_test,y_pred)]"
   ]
  },
  {
   "cell_type": "code",
   "execution_count": 63,
   "metadata": {},
   "outputs": [
    {
     "data": {
      "text/plain": [
       "[array([-5.88502098e-01,  1.64225561e+00,  7.89457202e-02,  7.21062961e-04,\n",
       "         9.39254845e+00,  2.05645465e-01, -1.48611787e-04, -1.73178961e-02,\n",
       "        -7.06583667e-01, -5.37989819e-01,  2.19638334e+00, -5.47161894e-01,\n",
       "        -5.33111637e-01, -1.85429518e+00,  4.14246469e+00, -4.76015964e-01,\n",
       "         9.34160790e-05, -4.32608920e-01,  1.51271103e-05,  4.65183668e-04,\n",
       "         4.35254352e-04, -4.23608641e-07, -1.21032708e-03, -1.23755237e-02,\n",
       "        -7.01727622e-03, -7.05399707e-04,  4.93581022e-02,  7.23263645e-04,\n",
       "        -9.97140416e-04, -1.14343316e+00, -9.71670345e-01,  1.48559172e+00,\n",
       "        -2.57514708e-01,  8.87026495e-01]),\n",
       " 2.319294275410755]"
      ]
     },
     "execution_count": 63,
     "metadata": {},
     "output_type": "execute_result"
    }
   ],
   "source": [
    "[model2.coef_, model2.intercept_]"
   ]
  },
  {
   "cell_type": "code",
   "execution_count": 64,
   "metadata": {},
   "outputs": [
    {
     "data": {
      "image/png": "[encoded data removed]",
      "text/plain": [
       "<Figure size 640x480 with 1 Axes>"
      ]
     },
     "metadata": {},
     "output_type": "display_data"
    }
   ],
   "source": [
    "plt.plot(input_vars,lm.coef_,alpha=0.5,linestyle='none',marker='*',markersize=10,color='red',label=r'Linear Regression',zorder=7) # zorder for ordering the markers\n",
    "plt.plot(input_vars,model.coef_,alpha=0.5,linestyle='none',marker='o',markersize=10,color='blue',label=r'Ridge; $\\alpha = 1$') # alpha here is for transparency\n",
    "plt.plot(input_vars,model2.coef_,alpha=0.5,linestyle='none',marker='d',markersize=15,color='green',label=r'Ridge; $\\alpha = 10$') # alpha here is for transparency\n",
    "plt.xlabel('Coefficient Index',fontsize=16)\n",
    "plt.ylabel('Coefficient Magnitude',fontsize=16)\n",
    "plt.legend(fontsize=13,loc='upper left')\n",
    "plt.xticks(input_vars, input_vars, rotation='vertical')\n",
    "plt.show()"
   ]
  },
  {
   "cell_type": "markdown",
   "metadata": {},
   "source": [
    "## Random Forest"
   ]
  },
  {
   "cell_type": "code",
   "execution_count": 65,
   "metadata": {},
   "outputs": [],
   "source": [
    "df = dummy_df.copy().dropna()\n",
    "df = df.dropna()"
   ]
  },
  {
   "cell_type": "code",
   "execution_count": 66,
   "metadata": {},
   "outputs": [
    {
     "data": {
      "image/png": "[encoded data removed]",
      "text/plain": [
       "<Figure size 640x480 with 1 Axes>"
      ]
     },
     "metadata": {},
     "output_type": "display_data"
    }
   ],
   "source": [
    "from sklearn.ensemble import RandomForestRegressor\n",
    "model = RandomForestRegressor(max_depth=10,n_estimators=100)\n",
    "model.fit(df[input_vars],df['Calories'])\n",
    "\n",
    "n_features = 16\n",
    "\n",
    "# Plot feature importance\n",
    "features = df[input_vars].columns\n",
    "importances = model.feature_importances_\n",
    "indices = np.argsort(importances)[-n_features:]  # sort top n features\n",
    "plt.title('Feature Importances')\n",
    "plt.barh(range(len(indices)), importances[indices], color='b', align='center')\n",
    "plt.yticks(range(len(indices)), [features[i] for i in indices])\n",
    "plt.xlabel('Relative Importance')\n",
    "plt.show()"
   ]
  },
  {
   "cell_type": "code",
   "execution_count": 67,
   "metadata": {},
   "outputs": [
    {
     "data": {
      "text/plain": [
       "['Fats',\n",
       " 'Saturated Fat',\n",
       " 'Magnesium',\n",
       " 'Monounsaturated Fat',\n",
       " 'Sodium',\n",
       " 'Potassium',\n",
       " 'Calcium',\n",
       " 'Protein',\n",
       " 'Vitamin B3',\n",
       " 'Carbs',\n",
       " 'Net carbs',\n",
       " 'Zinc',\n",
       " 'Vitamin B5',\n",
       " 'Manganese',\n",
       " 'Phosphorus',\n",
       " 'Folate']"
      ]
     },
     "execution_count": 67,
     "metadata": {},
     "output_type": "execute_result"
    }
   ],
   "source": [
    "important_features = [features[i] for i in indices]\n",
    "important_features\n",
    "updated_vars = []\n",
    "for i in range(-1,-n_features-1,-1):\n",
    "    updated_vars.append(important_features[i])\n",
    "updated_vars"
   ]
  },
  {
   "cell_type": "code",
   "execution_count": 68,
   "metadata": {},
   "outputs": [
    {
     "data": {
      "text/plain": [
       "[5.179829296332254, 0.9993723268001357]"
      ]
     },
     "execution_count": 68,
     "metadata": {},
     "output_type": "execute_result"
    }
   ],
   "source": [
    "X = df[updated_vars]\n",
    "y = df['Calories']\n",
    "X_train, X_test, y_train, y_test = train_test_split(X, y, test_size=0.3, random_state=99)\n",
    "lm = LinearRegression()\n",
    "lm.fit(X_train, y_train)\n",
    "y_pred = lm.predict(X_test)\n",
    "[np.sqrt(metrics.mean_squared_error(y_test,y_pred)),metrics.r2_score(y_test,y_pred)]"
   ]
  }
 ],
 "metadata": {
  "celltoolbar": "Raw Cell Format",
  "kernelspec": {
   "display_name": "Python 3",
   "language": "python",
   "name": "python3"
  },
  "language_info": {
   "codemirror_mode": {
    "name": "ipython",
    "version": 3
   },
   "file_extension": ".py",
   "mimetype": "text/x-python",
   "name": "python",
   "nbconvert_exporter": "python",
   "pygments_lexer": "ipython3",
   "version": "3.12.7"
  }
 },
 "nbformat": 4,
 "nbformat_minor": 4
}
